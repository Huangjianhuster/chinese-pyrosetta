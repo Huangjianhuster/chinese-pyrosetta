{
 "cells": [
  {
   "cell_type": "markdown",
   "id": "sharp-circus",
   "metadata": {},
   "source": [
    "## TaskOperation API"
   ]
  },
  {
   "cell_type": "markdown",
   "id": "decreased-queen",
   "metadata": {},
   "source": [
    "@Author: 吴炜坤\n",
    "\n",
    "@email：weikun.wu@xtalpi.com/weikunwu@163.com"
   ]
  },
  {
   "cell_type": "markdown",
   "id": "convertible-hearts",
   "metadata": {},
   "source": [
    "本章节主要详尽地介绍TaskOperation的API，主要参考页面:\n",
    "> http://new.rosettacommons.org/docs/latest/scripting_documentation/RosettaScripts/TaskOperations/TaskOperations-RosettaScripts#specialized-operations_packer-behavior-modification"
   ]
  },
  {
   "cell_type": "markdown",
   "id": "muslim-fountain",
   "metadata": {},
   "source": [
    "TaskOperation从构建逻辑上来分类共计有两种类型:\n",
    "\n",
    "* Residue Level TaskOperations: 根据Selector设定选择范围内位点的Rotamer自由度(手动挡);\n",
    "* Specialized Operations: 根据预设好逻辑，对位点进行全局Rotamer操作(自动挡);"
   ]
  },
  {
   "cell_type": "markdown",
   "id": "accepting-process",
   "metadata": {},
   "source": [
    "## 一、Residue Level TaskOperations"
   ]
  },
  {
   "cell_type": "markdown",
   "id": "negative-actor",
   "metadata": {},
   "source": [
    "Residue Level TaskOperations(RLT)一般需要配合Selector来指定操作的范围。用户可以直观地将RLT理解为一个自定义版本的Specialized Operations。特别注意的是:RLT是无法直接被TaskFactory所读取，其必须通过OperateOnResidueSubset函数来生成一个标准的TaskOperations。"
   ]
  },
  {
   "cell_type": "markdown",
   "id": "thrown-nursing",
   "metadata": {},
   "source": [
    "Rosetta中目前支持的所有RTL的列表:\n",
    "- RestrictToRepackingRLT\n",
    "- PreventRepackingRLT\n",
    "- RestrictAbsentCanonicalAASExceptNativeRLT\n",
    "- RestrictAbsentCanonicalAASRLT\n",
    "- DisallowIfNonnativeRLT\n",
    "- IncludeCurrentRLT\n",
    "- ExtraRotamersGenericRLT"
   ]
  },
  {
   "cell_type": "code",
   "execution_count": 1,
   "id": "developmental-acoustic",
   "metadata": {},
   "outputs": [
    {
     "name": "stdout",
     "output_type": "stream",
     "text": [
      "PyRosetta-4 2020 [Rosetta PyRosetta4.conda.mac.cxx11thread.serialization.python36.Release 2020.50+release.1295438cd4bd2be39c9dbbfab8db669ab62415ab 2020-12-12T00:30:01] retrieved from: http://www.pyrosetta.org\n",
      "(C) Copyright Rosetta Commons Member Institutions. Created in JHU by Sergey Lyskov and PyRosetta Team.\n",
      "\u001b[0mcore.init: {0} \u001b[0mChecking for fconfig files in pwd and ./rosetta/flags\n",
      "\u001b[0mcore.init: {0} \u001b[0mRosetta version: PyRosetta4.conda.mac.cxx11thread.serialization.python36.Release r274 2020.50+release.1295438cd4b 1295438cd4bd2be39c9dbbfab8db669ab62415ab http://www.pyrosetta.org 2020-12-12T00:30:01\n",
      "\u001b[0mcore.init: {0} \u001b[0mcommand: PyRosetta -ex1 -ex2aro -database /opt/miniconda3/lib/python3.6/site-packages/pyrosetta/database\n",
      "\u001b[0mbasic.random.init_random_generator: {0} \u001b[0m'RNG device' seed mode, using '/dev/urandom', seed=-1168950628 seed_offset=0 real_seed=-1168950628 thread_index=0\n",
      "\u001b[0mbasic.random.init_random_generator: {0} \u001b[0mRandomGenerator:init: Normal mode, seed=-1168950628 RG_type=mt19937\n",
      "\u001b[0mcore.chemical.GlobalResidueTypeSet: {0} \u001b[0mFinished initializing fa_standard residue type set.  Created 985 residue types\n",
      "\u001b[0mcore.chemical.GlobalResidueTypeSet: {0} \u001b[0mTotal time to initialize 0.695008 seconds.\n",
      "\u001b[0mcore.import_pose.import_pose: {0} \u001b[0mFile './data/helix.pdb' automatically determined to be of type PDB\n",
      "\u001b[0mcore.conformation.Conformation: {0} \u001b[0m\u001b[1m[ WARNING ]\u001b[0m missing heavyatom:  OXT on residue GLY:CtermProteinFull 14\n"
     ]
    }
   ],
   "source": [
    "# 初始化PyRosetta并读取一段螺旋结构的PDB。\n",
    "from pyrosetta import *\n",
    "init()\n",
    "pose = pose_from_pdb('./data/helix.pdb')"
   ]
  },
  {
   "cell_type": "markdown",
   "id": "threatened-guidance",
   "metadata": {},
   "source": [
    "**RestrictToRepackingRLT在上一章节中已经介绍，此处不再赘述。**"
   ]
  },
  {
   "cell_type": "code",
   "execution_count": 2,
   "id": "formal-danish",
   "metadata": {},
   "outputs": [],
   "source": [
    "# 预先定义好 氨基酸的作用范围。\n",
    "from pyrosetta.rosetta.core.pack.task.operation import *\n",
    "from pyrosetta.rosetta.core.pack.task.operation import OperateOnResidueSubset\n",
    "from pyrosetta.rosetta.core.select.residue_selector import ResidueIndexSelector\n",
    "from pyrosetta.rosetta.core.pack.task import TaskFactory\n",
    "# 选择氨基酸范围\n",
    "select_pos = ResidueIndexSelector('2,3,4,5,6,7,8,9,10,11,12,13')"
   ]
  },
  {
   "cell_type": "markdown",
   "id": "certified-seminar",
   "metadata": {},
   "source": [
    "#### 1.1 PreventRepackingRLT"
   ]
  },
  {
   "cell_type": "markdown",
   "id": "indie-transcript",
   "metadata": {},
   "source": [
    "将选择区域的氨基酸Rotamer自由度完全关闭，其侧链构象维持不变。"
   ]
  },
  {
   "cell_type": "code",
   "execution_count": 3,
   "id": "fantastic-sullivan",
   "metadata": {},
   "outputs": [
    {
     "name": "stdout",
     "output_type": "stream",
     "text": [
      "#Packer_Task\n",
      "\n",
      "Threads to request: ALL AVAILABLE\n",
      "\n",
      "resid\tpack?\tdesign?\tallowed_aas\n",
      "1\tTRUE\tTRUE\tALA:NtermProteinFull,CYS:NtermProteinFull,ASP:NtermProteinFull,GLU:NtermProteinFull,PHE:NtermProteinFull,GLY:NtermProteinFull,HIS:NtermProteinFull,HIS_D:NtermProteinFull,ILE:NtermProteinFull,LYS:NtermProteinFull,LEU:NtermProteinFull,MET:NtermProteinFull,ASN:NtermProteinFull,PRO:NtermProteinFull,GLN:NtermProteinFull,ARG:NtermProteinFull,SER:NtermProteinFull,THR:NtermProteinFull,VAL:NtermProteinFull,TRP:NtermProteinFull,TYR:NtermProteinFull\n",
      "2\tFALSE\tFALSE\t\n",
      "3\tFALSE\tFALSE\t\n",
      "4\tFALSE\tFALSE\t\n",
      "5\tFALSE\tFALSE\t\n",
      "6\tFALSE\tFALSE\t\n",
      "7\tFALSE\tFALSE\t\n",
      "8\tFALSE\tFALSE\t\n",
      "9\tFALSE\tFALSE\t\n",
      "10\tFALSE\tFALSE\t\n",
      "11\tFALSE\tFALSE\t\n",
      "12\tFALSE\tFALSE\t\n",
      "13\tFALSE\tFALSE\t\n",
      "14\tTRUE\tTRUE\tALA:CtermProteinFull,CYS:CtermProteinFull,ASP:CtermProteinFull,GLU:CtermProteinFull,PHE:CtermProteinFull,GLY:CtermProteinFull,HIS:CtermProteinFull,HIS_D:CtermProteinFull,ILE:CtermProteinFull,LYS:CtermProteinFull,LEU:CtermProteinFull,MET:CtermProteinFull,ASN:CtermProteinFull,PRO:CtermProteinFull,GLN:CtermProteinFull,ARG:CtermProteinFull,SER:CtermProteinFull,THR:CtermProteinFull,VAL:CtermProteinFull,TRP:CtermProteinFull,TYR:CtermProteinFull\n",
      "\n"
     ]
    }
   ],
   "source": [
    "# 使用OperateOnResidueSubset生成TaskOperations\n",
    "packing_taskop = OperateOnResidueSubset(PreventRepackingRLT(), select_pos, False)\n",
    "\n",
    "# 将TaskOperations加载至TaskFactory中\n",
    "pack_tf = TaskFactory()\n",
    "pack_tf.push_back(packing_taskop)\n",
    "\n",
    "# 生成PackerTask\n",
    "packer_task = pack_tf.create_task_and_apply_taskoperations(pose)\n",
    "print(packer_task)"
   ]
  },
  {
   "cell_type": "markdown",
   "id": "brown-poster",
   "metadata": {},
   "source": [
    "#### 1.2 RestrictAbsentCanonicalAASExceptNativeRLT"
   ]
  },
  {
   "cell_type": "markdown",
   "id": "irish-appliance",
   "metadata": {},
   "source": [
    "将Rotamer自由度限定在给定的氨基酸类型列表，并允许保留当前位点氨基酸类型的Rotamer保留。"
   ]
  },
  {
   "cell_type": "code",
   "execution_count": 4,
   "id": "comparative-jefferson",
   "metadata": {},
   "outputs": [
    {
     "name": "stdout",
     "output_type": "stream",
     "text": [
      "#Packer_Task\n",
      "\n",
      "Threads to request: ALL AVAILABLE\n",
      "\n",
      "resid\tpack?\tdesign?\tallowed_aas\n",
      "1\tTRUE\tTRUE\tALA:NtermProteinFull,CYS:NtermProteinFull,ASP:NtermProteinFull,GLU:NtermProteinFull,PHE:NtermProteinFull,GLY:NtermProteinFull,HIS:NtermProteinFull,HIS_D:NtermProteinFull,ILE:NtermProteinFull,LYS:NtermProteinFull,LEU:NtermProteinFull,MET:NtermProteinFull,ASN:NtermProteinFull,PRO:NtermProteinFull,GLN:NtermProteinFull,ARG:NtermProteinFull,SER:NtermProteinFull,THR:NtermProteinFull,VAL:NtermProteinFull,TRP:NtermProteinFull,TYR:NtermProteinFull\n",
      "2\tTRUE\tTRUE\tGLU,ILE,LYS,GLN\n",
      "3\tTRUE\tTRUE\tILE,LYS,LEU,GLN\n",
      "4\tTRUE\tTRUE\tILE,LYS,GLN\n",
      "5\tTRUE\tTRUE\tILE,LYS,GLN\n",
      "6\tTRUE\tTRUE\tILE,LYS,GLN,TRP\n",
      "7\tTRUE\tTRUE\tILE,LYS,GLN,VAL\n",
      "8\tTRUE\tTRUE\tGLU,ILE,LYS,GLN\n",
      "9\tTRUE\tTRUE\tILE,LYS,GLN\n",
      "10\tTRUE\tTRUE\tALA,ILE,LYS,GLN\n",
      "11\tTRUE\tTRUE\tGLU,ILE,LYS,GLN\n",
      "12\tTRUE\tTRUE\tILE,LYS,GLN,ARG\n",
      "13\tTRUE\tTRUE\tILE,LYS,ASN,GLN\n",
      "14\tTRUE\tTRUE\tALA:CtermProteinFull,CYS:CtermProteinFull,ASP:CtermProteinFull,GLU:CtermProteinFull,PHE:CtermProteinFull,GLY:CtermProteinFull,HIS:CtermProteinFull,HIS_D:CtermProteinFull,ILE:CtermProteinFull,LYS:CtermProteinFull,LEU:CtermProteinFull,MET:CtermProteinFull,ASN:CtermProteinFull,PRO:CtermProteinFull,GLN:CtermProteinFull,ARG:CtermProteinFull,SER:CtermProteinFull,THR:CtermProteinFull,VAL:CtermProteinFull,TRP:CtermProteinFull,TYR:CtermProteinFull\n",
      "\n"
     ]
    }
   ],
   "source": [
    "# 定义自由度\n",
    "design_with_wt = RestrictAbsentCanonicalAASExceptNativeRLT()\n",
    "design_with_wt.aas_to_keep('QKI')\n",
    "\n",
    "# 使用OperateOnResidueSubset生成TaskOperations\n",
    "packing_taskop = OperateOnResidueSubset(design_with_wt, select_pos, False)\n",
    "\n",
    "# 将TaskOperations加载至TaskFactory中\n",
    "pack_tf = TaskFactory()\n",
    "pack_tf.push_back(packing_taskop)\n",
    "\n",
    "# 生成PackerTask\n",
    "packer_task = pack_tf.create_task_and_apply_taskoperations(pose)\n",
    "print(packer_task)"
   ]
  },
  {
   "cell_type": "markdown",
   "id": "third-moldova",
   "metadata": {},
   "source": [
    "#### 1.3 RestrictAbsentCanonicalAASRLT"
   ]
  },
  {
   "cell_type": "markdown",
   "id": "oriental-genome",
   "metadata": {},
   "source": [
    "功能与RestrictAbsentCanonicalAASExceptNativeRLT类似，将Rotamer自由度限定在给定的氨基酸类型列表。唯一的差别在于RestrictAbsentCanonicalAASRLT会忘记当前的氨基酸类型。"
   ]
  },
  {
   "cell_type": "code",
   "execution_count": 5,
   "id": "satisfactory-handbook",
   "metadata": {},
   "outputs": [
    {
     "name": "stdout",
     "output_type": "stream",
     "text": [
      "#Packer_Task\n",
      "\n",
      "Threads to request: ALL AVAILABLE\n",
      "\n",
      "resid\tpack?\tdesign?\tallowed_aas\n",
      "1\tTRUE\tTRUE\tALA:NtermProteinFull,CYS:NtermProteinFull,ASP:NtermProteinFull,GLU:NtermProteinFull,PHE:NtermProteinFull,GLY:NtermProteinFull,HIS:NtermProteinFull,HIS_D:NtermProteinFull,ILE:NtermProteinFull,LYS:NtermProteinFull,LEU:NtermProteinFull,MET:NtermProteinFull,ASN:NtermProteinFull,PRO:NtermProteinFull,GLN:NtermProteinFull,ARG:NtermProteinFull,SER:NtermProteinFull,THR:NtermProteinFull,VAL:NtermProteinFull,TRP:NtermProteinFull,TYR:NtermProteinFull\n",
      "2\tTRUE\tTRUE\tILE,LYS,GLN\n",
      "3\tTRUE\tTRUE\tILE,LYS,GLN\n",
      "4\tTRUE\tTRUE\tILE,LYS,GLN\n",
      "5\tTRUE\tTRUE\tILE,LYS,GLN\n",
      "6\tTRUE\tTRUE\tILE,LYS,GLN\n",
      "7\tTRUE\tTRUE\tILE,LYS,GLN\n",
      "8\tTRUE\tTRUE\tILE,LYS,GLN\n",
      "9\tTRUE\tTRUE\tILE,LYS,GLN\n",
      "10\tTRUE\tTRUE\tILE,LYS,GLN\n",
      "11\tTRUE\tTRUE\tILE,LYS,GLN\n",
      "12\tTRUE\tTRUE\tILE,LYS,GLN\n",
      "13\tTRUE\tTRUE\tILE,LYS,GLN\n",
      "14\tTRUE\tTRUE\tALA:CtermProteinFull,CYS:CtermProteinFull,ASP:CtermProteinFull,GLU:CtermProteinFull,PHE:CtermProteinFull,GLY:CtermProteinFull,HIS:CtermProteinFull,HIS_D:CtermProteinFull,ILE:CtermProteinFull,LYS:CtermProteinFull,LEU:CtermProteinFull,MET:CtermProteinFull,ASN:CtermProteinFull,PRO:CtermProteinFull,GLN:CtermProteinFull,ARG:CtermProteinFull,SER:CtermProteinFull,THR:CtermProteinFull,VAL:CtermProteinFull,TRP:CtermProteinFull,TYR:CtermProteinFull\n",
      "\n"
     ]
    }
   ],
   "source": [
    "# 定义自由度\n",
    "design_to = RestrictAbsentCanonicalAASRLT()\n",
    "design_to.aas_to_keep('QKI')\n",
    "\n",
    "# 使用OperateOnResidueSubset生成TaskOperations\n",
    "packing_taskop = OperateOnResidueSubset(design_to, select_pos, False)\n",
    "\n",
    "# 将TaskOperations加载至TaskFactory中\n",
    "pack_tf = TaskFactory()\n",
    "pack_tf.push_back(packing_taskop)\n",
    "\n",
    "# 生成PackerTask\n",
    "packer_task = pack_tf.create_task_and_apply_taskoperations(pose)\n",
    "print(packer_task)"
   ]
  },
  {
   "cell_type": "markdown",
   "id": "rural-hours",
   "metadata": {},
   "source": [
    "#### 1.4 DisallowIfNonnativeRLT"
   ]
  },
  {
   "cell_type": "markdown",
   "id": "accurate-compound",
   "metadata": {},
   "source": [
    "不允许突变为列表中指定氨基酸类型，但允许保留当前位点氨基酸类型的Rotamer保留。"
   ]
  },
  {
   "cell_type": "code",
   "execution_count": 6,
   "id": "premier-bottom",
   "metadata": {},
   "outputs": [
    {
     "name": "stdout",
     "output_type": "stream",
     "text": [
      "#Packer_Task\n",
      "\n",
      "Threads to request: ALL AVAILABLE\n",
      "\n",
      "resid\tpack?\tdesign?\tallowed_aas\n",
      "1\tTRUE\tTRUE\tALA:NtermProteinFull,CYS:NtermProteinFull,ASP:NtermProteinFull,GLU:NtermProteinFull,PHE:NtermProteinFull,GLY:NtermProteinFull,HIS:NtermProteinFull,HIS_D:NtermProteinFull,ILE:NtermProteinFull,LYS:NtermProteinFull,LEU:NtermProteinFull,MET:NtermProteinFull,ASN:NtermProteinFull,PRO:NtermProteinFull,GLN:NtermProteinFull,ARG:NtermProteinFull,SER:NtermProteinFull,THR:NtermProteinFull,VAL:NtermProteinFull,TRP:NtermProteinFull,TYR:NtermProteinFull\n",
      "2\tTRUE\tTRUE\tCYS,ASP,GLU,PHE,GLY,MET,ASN,PRO,SER,THR,VAL,TRP,TYR\n",
      "3\tTRUE\tTRUE\tCYS,ASP,GLU,PHE,GLY,LEU,MET,ASN,PRO,SER,THR,VAL,TRP,TYR\n",
      "4\tTRUE\tTRUE\tCYS,ASP,GLU,PHE,GLY,MET,ASN,PRO,GLN,SER,THR,VAL,TRP,TYR\n",
      "5\tTRUE\tTRUE\tCYS,ASP,GLU,PHE,GLY,LYS,MET,ASN,PRO,SER,THR,VAL,TRP,TYR\n",
      "6\tTRUE\tTRUE\tCYS,ASP,GLU,PHE,GLY,MET,ASN,PRO,SER,THR,VAL,TRP,TYR\n",
      "7\tTRUE\tTRUE\tCYS,ASP,GLU,PHE,GLY,MET,ASN,PRO,SER,THR,VAL,TRP,TYR\n",
      "8\tTRUE\tTRUE\tCYS,ASP,GLU,PHE,GLY,MET,ASN,PRO,SER,THR,VAL,TRP,TYR\n",
      "9\tTRUE\tTRUE\tCYS,ASP,GLU,PHE,GLY,MET,ASN,PRO,GLN,SER,THR,VAL,TRP,TYR\n",
      "10\tTRUE\tTRUE\tALA,CYS,ASP,GLU,PHE,GLY,MET,ASN,PRO,SER,THR,VAL,TRP,TYR\n",
      "11\tTRUE\tTRUE\tCYS,ASP,GLU,PHE,GLY,MET,ASN,PRO,SER,THR,VAL,TRP,TYR\n",
      "12\tTRUE\tTRUE\tCYS,ASP,GLU,PHE,GLY,MET,ASN,PRO,ARG,SER,THR,VAL,TRP,TYR\n",
      "13\tTRUE\tTRUE\tCYS,ASP,GLU,PHE,GLY,MET,ASN,PRO,SER,THR,VAL,TRP,TYR\n",
      "14\tTRUE\tTRUE\tALA:CtermProteinFull,CYS:CtermProteinFull,ASP:CtermProteinFull,GLU:CtermProteinFull,PHE:CtermProteinFull,GLY:CtermProteinFull,HIS:CtermProteinFull,HIS_D:CtermProteinFull,ILE:CtermProteinFull,LYS:CtermProteinFull,LEU:CtermProteinFull,MET:CtermProteinFull,ASN:CtermProteinFull,PRO:CtermProteinFull,GLN:CtermProteinFull,ARG:CtermProteinFull,SER:CtermProteinFull,THR:CtermProteinFull,VAL:CtermProteinFull,TRP:CtermProteinFull,TYR:CtermProteinFull\n",
      "\n"
     ]
    }
   ],
   "source": [
    "# 定义自由度\n",
    "not_design_to = DisallowIfNonnativeRLT()\n",
    "not_design_to.disallow_aas('HLQKILRA')\n",
    "\n",
    "# 使用OperateOnResidueSubset生成TaskOperations\n",
    "packing_taskop = OperateOnResidueSubset(not_design_to, select_pos, False)\n",
    "\n",
    "# 将TaskOperations加载至TaskFactory中\n",
    "pack_tf = TaskFactory()\n",
    "pack_tf.push_back(packing_taskop)\n",
    "\n",
    "# 生成PackerTask\n",
    "packer_task = pack_tf.create_task_and_apply_taskoperations(pose)\n",
    "print(packer_task)"
   ]
  },
  {
   "cell_type": "markdown",
   "id": "cardiovascular-communication",
   "metadata": {},
   "source": [
    "#### 1.5 IncludeCurrentRLT\n",
    "设定Packer在执行期间，考虑Pose输入时的Rotamer状态。"
   ]
  },
  {
   "cell_type": "code",
   "execution_count": 7,
   "id": "international-convergence",
   "metadata": {},
   "outputs": [
    {
     "data": {
      "text/plain": [
       "True"
      ]
     },
     "execution_count": 7,
     "metadata": {},
     "output_type": "execute_result"
    }
   ],
   "source": [
    "# 使用OperateOnResidueSubset生成TaskOperations\n",
    "packing_taskop = OperateOnResidueSubset(IncludeCurrentRLT(), select_pos, False)\n",
    "\n",
    "# 将TaskOperations加载至TaskFactory中\n",
    "pack_tf = TaskFactory()\n",
    "pack_tf.push_back(packing_taskop)\n",
    "\n",
    "# 生成PackerTask\n",
    "packer_task = pack_tf.create_task_and_apply_taskoperations(pose)\n",
    "\n",
    "# 检查是否Pack中是否包含input的rotamer构象:\n",
    "packer_task.include_current(2)"
   ]
  },
  {
   "cell_type": "code",
   "execution_count": 8,
   "id": "nasty-terry",
   "metadata": {},
   "outputs": [
    {
     "data": {
      "text/plain": [
       "False"
      ]
     },
     "execution_count": 8,
     "metadata": {},
     "output_type": "execute_result"
    }
   ],
   "source": [
    "# 检查是否Pack中是否包含input的rotamer构象:\n",
    "packer_task.include_current(1)"
   ]
  },
  {
   "cell_type": "markdown",
   "id": "early-short",
   "metadata": {},
   "source": [
    "#### 1.6 ExtraRotamersGenericRLT\n",
    "Rosetta Pack采样Rotamer时是离散的，默认只会采纳每个格点的中心富集的构象，我们可以通过Extra Rotamer相关控制手段来增加Rotamer的采样，默认扩充采样时，采集Rotamer时会额外考虑平均$\\chi$的+/-1个标准差的构象。\n",
    "\n",
    "ExtraRotamersGenericRLT有3个定义的参数:\n",
    "1. ex?: “?”可选值为1-4，指定对侧链中第几个$\\chi$角进行扩大采样。\n",
    "    - ex1: 额外采样$\\chi_{1}$二面角\n",
    "    - ex1aro: 额外采样$\\chi_{1}$二面角(只考虑芳香族氨基酸(FHWY))\n",
    "    - ex1aro_exposed: 额外采样$\\chi_{1}$二面角(只考虑芳香族氨基酸(FHWY)), 仅限暴露在蛋白外部的氨基酸位点。\n",
    "    - ex2: 额外采样$\\chi_{2}$二面角\n",
    "    - ex2aro: 额外采样$\\chi_{2}$二面角(只考虑芳香族氨基酸(FHWY))\n",
    "    - ex2aro_exposed: 额外采样$\\chi_{2}$二面角(只考虑芳香族氨基酸(FHWY)), 仅限暴露在蛋白外部的氨基酸位点。\n",
    "    - ex3: 额外采样$\\chi_{3}$二面角\n",
    "    - ex4: 额外采样$\\chi_{4}$二面角\n",
    "2. ex?_sample_level: 指定允许的$\\chi$角标准差范围。\n",
    "    - 0 ...... no extra chi angles\n",
    "    - 1 ...... sample at 1 standard deviation\n",
    "    - 2 ...... sample at 1/2 standard deviation\n",
    "    - 3 ...... sample at two full standard deviations\n",
    "    - 4 ...... sample at two 1/2 standard deviations\n",
    "    - 5 ...... sample at four 1/2 standard deviations\n",
    "    - 6 ...... sample at three 1/3 standard deviations\n",
    "    - 7 ...... sample at six 1/4 standard deviations\n",
    "\n",
    "3. extrachi_cutoff: Rosetta默认不会对处于蛋白表面的氨基酸进行额外Rotamer采集，除非用户显式地设置(EX_CUTOFF >=1-3等)。默认每个氨基酸计算10埃范围内残基数量，当数量大于阈值时，认为是\"包埋\"的氨基酸，进行额外的Rotamer采样。因此通常EX_CUTOFF显式地设置为0，考虑所有的氨基酸位点都做Rotamer。"
   ]
  },
  {
   "cell_type": "code",
   "execution_count": 9,
   "id": "parallel-circular",
   "metadata": {},
   "outputs": [
    {
     "name": "stdout",
     "output_type": "stream",
     "text": [
      "start\n",
      "1 A  NATAA  EX ARO 1 EX ARO 2 EX_CUTOFF 0\n",
      "2 A  NATAA  EX ARO 1 EX ARO 2 EX_CUTOFF 0\n",
      "3 A  NATAA  EX ARO 1 EX ARO 2 EX_CUTOFF 0\n",
      "4 A  NATAA  EX ARO 1 EX ARO 2 EX_CUTOFF 0\n",
      "5 A  NATAA  EX ARO 1 EX ARO 2 EX_CUTOFF 0\n",
      "6 A  NATAA  EX ARO 1 EX ARO 2 EX_CUTOFF 0\n",
      "7 A  NATAA  EX ARO 1 EX ARO 2 EX_CUTOFF 0\n",
      "8 A  NATAA  EX ARO 1 EX ARO 2 EX_CUTOFF 0\n",
      "9 A  NATAA  EX ARO 1 EX ARO 2 EX_CUTOFF 0\n",
      "10 A  NATAA  EX ARO 1 EX ARO 2 EX_CUTOFF 0\n",
      "11 A  NATAA  EX ARO 1 EX ARO 2 EX_CUTOFF 0\n",
      "12 A  NATAA  EX ARO 1 EX ARO 2 EX_CUTOFF 0\n",
      "13 A  NATAA  EX ARO 1 EX ARO 2 EX_CUTOFF 0\n",
      "14 A  NATAA  EX ARO 1 EX ARO 2 EX_CUTOFF 0\n",
      "\n"
     ]
    }
   ],
   "source": [
    "# 设定额外rotamer采样:\n",
    "from pyrosetta.rosetta.core.select.residue_selector import ChainSelector\n",
    "from pyrosetta.rosetta.core.pack.task.operation import RestrictToRepacking\n",
    "from pyrosetta.rosetta.core.pack.task.operation import ExtraRotamers\n",
    "from pyrosetta.rosetta.core.pack.task import ExtraRotSample\n",
    "\n",
    "extract_chi = ExtraRotamersGenericRLT()\n",
    "extract_chi.ex1(True)\n",
    "extract_chi.ex2aro(True)\n",
    "# extract_chi.ex1_sample_level(ExtraRotSample.EX_ONE_STDDEV) #【1~7 定义 chi标准误范围】\n",
    "# extract_chi.ex2aro_sample_level(ExtraRotSample.EX_ONE_STDDEV) #【1~7 定义 chi标准误范围】\n",
    "extract_chi.extrachi_cutoff(0) #定义一个残基必须有几个邻近采集方可增强chi采样。 0 = 默认不考虑邻近阈值。默认为18\n",
    "\n",
    "# 使用OperateOnResidueSubset生成TaskOperations\n",
    "select_pos = ChainSelector('1')\n",
    "packing_taskop = OperateOnResidueSubset(extract_chi, select_pos, False)\n",
    "\n",
    "# 将TaskOperations加载至TaskFactory中\n",
    "pack_tf = TaskFactory()\n",
    "pack_tf.push_back(RestrictToRepacking()) # 全局设置为只能repacking\n",
    "pack_tf.push_back(packing_taskop)\n",
    "\n",
    "# 生成PackerTask\n",
    "packer_task = pack_tf.create_task_and_apply_taskoperations(pose)\n",
    "\n",
    "# 查看每个残基的Rotamer采样级别:\n",
    "print(packer_task.task_string(pose))"
   ]
  },
  {
   "cell_type": "code",
   "execution_count": 10,
   "id": "ideal-talent",
   "metadata": {
    "tags": []
   },
   "outputs": [
    {
     "name": "stdout",
     "output_type": "stream",
     "text": [
      "\u001b[0mprotocols.minimization_packing.PackRotamersMover: {0} \u001b[0m\u001b[1m[ WARNING ]\u001b[0m undefined ScoreFunction -- creating a default one\n",
      "\u001b[0mcore.scoring.ScoreFunctionFactory: {0} \u001b[0mSCOREFUNCTION: \u001b[32mref2015\u001b[0m\n",
      "\u001b[0mcore.scoring.etable: {0} \u001b[0mStarting energy table calculation\n",
      "\u001b[0mcore.scoring.etable: {0} \u001b[0msmooth_etable: changing atr/rep split to bottom of energy well\n",
      "\u001b[0mcore.scoring.etable: {0} \u001b[0msmooth_etable: spline smoothing lj etables (maxdis = 6)\n",
      "\u001b[0mcore.scoring.etable: {0} \u001b[0msmooth_etable: spline smoothing solvation etables (max_dis = 6)\n",
      "\u001b[0mcore.scoring.etable: {0} \u001b[0mFinished calculating energy tables.\n",
      "\u001b[0mbasic.io.database: {0} \u001b[0mDatabase file opened: scoring/score_functions/hbonds/ref2015_params/HBPoly1D.csv\n",
      "\u001b[0mbasic.io.database: {0} \u001b[0mDatabase file opened: scoring/score_functions/hbonds/ref2015_params/HBFadeIntervals.csv\n",
      "\u001b[0mbasic.io.database: {0} \u001b[0mDatabase file opened: scoring/score_functions/hbonds/ref2015_params/HBEval.csv\n",
      "\u001b[0mbasic.io.database: {0} \u001b[0mDatabase file opened: scoring/score_functions/hbonds/ref2015_params/DonStrength.csv\n",
      "\u001b[0mbasic.io.database: {0} \u001b[0mDatabase file opened: scoring/score_functions/hbonds/ref2015_params/AccStrength.csv\n",
      "\u001b[0mbasic.io.database: {0} \u001b[0mDatabase file opened: scoring/score_functions/rama/fd/all.ramaProb\n",
      "\u001b[0mbasic.io.database: {0} \u001b[0mDatabase file opened: scoring/score_functions/rama/fd/prepro.ramaProb\n",
      "\u001b[0mbasic.io.database: {0} \u001b[0mDatabase file opened: scoring/score_functions/omega/omega_ppdep.all.txt\n",
      "\u001b[0mbasic.io.database: {0} \u001b[0mDatabase file opened: scoring/score_functions/omega/omega_ppdep.gly.txt\n",
      "\u001b[0mbasic.io.database: {0} \u001b[0mDatabase file opened: scoring/score_functions/omega/omega_ppdep.pro.txt\n",
      "\u001b[0mbasic.io.database: {0} \u001b[0mDatabase file opened: scoring/score_functions/omega/omega_ppdep.valile.txt\n",
      "\u001b[0mbasic.io.database: {0} \u001b[0mDatabase file opened: scoring/score_functions/P_AA_pp/P_AA\n",
      "\u001b[0mbasic.io.database: {0} \u001b[0mDatabase file opened: scoring/score_functions/P_AA_pp/P_AA_n\n",
      "\u001b[0mcore.scoring.P_AA: {0} \u001b[0mshapovalov_lib::shap_p_aa_pp_smooth_level of 1( aka low_smooth ) got activated.\n",
      "\u001b[0mbasic.io.database: {0} \u001b[0mDatabase file opened: scoring/score_functions/P_AA_pp/shapovalov/10deg/kappa131/a20.prop\n",
      "\u001b[0mbasic.io.database: {0} \u001b[0mDatabase file opened: scoring/score_functions/elec_cp_reps.dat\n",
      "\u001b[0mcore.scoring.elec.util: {0} \u001b[0mRead 40 countpair representative atoms\n",
      "\u001b[0mcore.pack.dunbrack.RotamerLibrary: {0} \u001b[0mshapovalov_lib_fixes_enable option is true.\n",
      "\u001b[0mcore.pack.dunbrack.RotamerLibrary: {0} \u001b[0mshapovalov_lib::shap_dun10_smooth_level of 1( aka lowest_smooth ) got activated.\n",
      "\u001b[0mcore.pack.dunbrack.RotamerLibrary: {0} \u001b[0mBinary rotamer library selected: /opt/miniconda3/lib/python3.6/site-packages/pyrosetta/database/rotamer/shapovalov/StpDwn_0-0-0/Dunbrack10.lib.bin\n",
      "\u001b[0mcore.pack.dunbrack.RotamerLibrary: {0} \u001b[0mUsing Dunbrack library binary file '/opt/miniconda3/lib/python3.6/site-packages/pyrosetta/database/rotamer/shapovalov/StpDwn_0-0-0/Dunbrack10.lib.bin'.\n",
      "\u001b[0mcore.pack.dunbrack.RotamerLibrary: {0} \u001b[0mDunbrack 2010 library took 0.190938 seconds to load from binary\n",
      "\u001b[0mcore.pack.pack_rotamers: {0} \u001b[0mbuilt 717 rotamers at 14 positions.\n",
      "\u001b[0mcore.pack.pack_rotamers: {0} \u001b[0mRequesting all available threads for interaction graph computation.\n",
      "\u001b[0mcore.pack.interaction_graph.interaction_graph_factory: {0} \u001b[0mInstantiating DensePDInteractionGraph\n",
      "\u001b[0mbasic.thread_manager.RosettaThreadManager: {?} \u001b[0mCreating a thread pool of 1 threads.\n",
      "\u001b[0mbasic.thread_manager.RosettaThreadPool: {?} \u001b[0mLaunched 0 new threads.\n",
      "\u001b[0mcore.pack.rotamer_set.RotamerSets: {0} \u001b[0mCompleted interaction graph pre-calculation in 1 available threads (1 had been requested).\n"
     ]
    }
   ],
   "source": [
    "from pyrosetta.rosetta.protocols.minimization_packing import PackRotamersMover\n",
    "pack_mover = PackRotamersMover()\n",
    "pack_mover.task_factory(pack_tf)\n",
    "pack_mover.apply(pose)"
   ]
  },
  {
   "cell_type": "markdown",
   "id": "incredible-retrieval",
   "metadata": {},
   "source": [
    "查看运行日志: “built 717 rotamers at 14 positions.” 此时在计算InteractionGraph的时候使用了717个rotamer。\n",
    "\n",
    "#### 思考\n",
    "尝试改变“ex?”的参数，看看InteractionGraph的rotamer数量的变化情况？"
   ]
  },
  {
   "cell_type": "markdown",
   "id": "compact-subscriber",
   "metadata": {},
   "source": [
    "## 二、Specialized Operations"
   ]
  },
  {
   "cell_type": "markdown",
   "id": "headed-seeking",
   "metadata": {},
   "source": [
    "### 2.1 Position/Identity Specification\n",
    "这部分的TaskOperations分类主要根据残基的位置和类型信息进行自动化的定义。主要分为:\n",
    "- General Specification(基本都能使用Residue Level TaskOperations实现，因此此部分不做介绍)\n",
    "- General Design Specification(部分与Residue Level TaskOperations重合，因此仅挑选部分进行阐述)\n",
    "- Property-based specification\n",
    "- Interface/Neighborhood Specifications\n",
    "- Input-based design\n",
    "\n",
    "这一部分包含了绝大数与实际工作相关的TaskOperations。"
   ]
  },
  {
   "cell_type": "markdown",
   "id": "limited-heading",
   "metadata": {},
   "source": [
    "### *1 General Design Specification"
   ]
  },
  {
   "cell_type": "markdown",
   "id": "israeli-lending",
   "metadata": {},
   "source": [
    "#### 1.1 RestrictToSpecifiedBaseResidueTypes\n",
    "对于BaseResidueTypes的操作是在生成PackerTask之前，对PackerPalettes做调整。\n",
    "PackerPalettes用于定义“默认”的氨基酸列表，默认允许20种天然氨基酸的Rotamer被采样。当氨基酸类型没有在预设列表中时，在后续过程中，这类氨基酸将不会出现。"
   ]
  },
  {
   "cell_type": "code",
   "execution_count": 11,
   "id": "technological-liver",
   "metadata": {},
   "outputs": [
    {
     "name": "stdout",
     "output_type": "stream",
     "text": [
      "#Packer_Task\n",
      "\n",
      "Threads to request: ALL AVAILABLE\n",
      "\n",
      "resid\tpack?\tdesign?\tallowed_aas\n",
      "1\tFALSE\tFALSE\t\n",
      "2\tFALSE\tFALSE\t\n",
      "3\tFALSE\tFALSE\t\n",
      "4\tFALSE\tFALSE\t\n",
      "5\tFALSE\tFALSE\t\n",
      "6\tTRUE\tFALSE\tTRP\n",
      "7\tTRUE\tFALSE\tVAL\n",
      "8\tFALSE\tFALSE\t\n",
      "9\tFALSE\tFALSE\t\n",
      "10\tFALSE\tFALSE\t\n",
      "11\tFALSE\tFALSE\t\n",
      "12\tFALSE\tFALSE\t\n",
      "13\tFALSE\tFALSE\t\n",
      "14\tFALSE\tFALSE\t\n",
      "\n"
     ]
    }
   ],
   "source": [
    "from pyrosetta.rosetta.core.pack.task.operation import RestrictToSpecifiedBaseResidueTypes\n",
    "from pyrosetta.rosetta.core.pack.task.operation import RestrictToRepacking\n",
    "from pyrosetta.rosetta.utility import vector1_std_string\n",
    "# allow basetype\n",
    "mut_table = \"TYR,VAL,TRP,CYS,\"\n",
    "mut_table_list = vector1_std_string()\n",
    "for aa in mut_table.split(','):\n",
    "    mut_table_list.append(aa)\n",
    "\n",
    "# restrict to baestype list\n",
    "restric_to_basetype = RestrictToSpecifiedBaseResidueTypes()\n",
    "restric_to_basetype.set_base_types(mut_table_list)\n",
    "\n",
    "# 将TaskOperations加载至TaskFactory中\n",
    "pack_tf = TaskFactory()\n",
    "pack_tf.push_back(restric_to_basetype)\n",
    "pack_tf.push_back(RestrictToRepacking())\n",
    "\n",
    "# 生成PackerTask\n",
    "packer_task = pack_tf.create_task_and_apply_taskoperations(pose)\n",
    "print(packer_task)"
   ]
  },
  {
   "cell_type": "markdown",
   "id": "instrumental-comedy",
   "metadata": {},
   "source": [
    "**可见，尽管将所有的Rotamer状态设置为repacking，当氨基酸类型在PackerPalettes预设列表中删除后，一些位点Rotamer自由度变“空”！**"
   ]
  },
  {
   "cell_type": "markdown",
   "id": "native-campus",
   "metadata": {},
   "source": [
    "#### 1.2 ProhibitSpecifiedBaseResidueTypes\n",
    "同理于RestrictToSpecifiedBaseResidueTypes的逻辑，ProhibitSpecifiedBaseResidueTypes设定了哪些氨基酸类型应当被“删除”。"
   ]
  },
  {
   "cell_type": "code",
   "execution_count": 12,
   "id": "hairy-arkansas",
   "metadata": {},
   "outputs": [
    {
     "name": "stdout",
     "output_type": "stream",
     "text": [
      "#Packer_Task\n",
      "\n",
      "Threads to request: ALL AVAILABLE\n",
      "\n",
      "resid\tpack?\tdesign?\tallowed_aas\n",
      "1\tTRUE\tTRUE\tCYS:NtermProteinFull,VAL:NtermProteinFull,TRP:NtermProteinFull,TYR:NtermProteinFull\n",
      "2\tTRUE\tTRUE\tCYS,VAL,TRP,TYR\n",
      "3\tTRUE\tTRUE\tCYS,VAL,TRP,TYR\n",
      "4\tTRUE\tTRUE\tCYS,VAL,TRP,TYR\n",
      "5\tTRUE\tTRUE\tCYS,VAL,TRP,TYR\n",
      "6\tTRUE\tTRUE\tCYS,VAL,TRP,TYR\n",
      "7\tTRUE\tTRUE\tCYS,VAL,TRP,TYR\n",
      "8\tTRUE\tTRUE\tCYS,VAL,TRP,TYR\n",
      "9\tTRUE\tTRUE\tCYS,VAL,TRP,TYR\n",
      "10\tTRUE\tTRUE\tCYS,VAL,TRP,TYR\n",
      "11\tTRUE\tTRUE\tCYS,VAL,TRP,TYR\n",
      "12\tTRUE\tTRUE\tCYS,VAL,TRP,TYR\n",
      "13\tTRUE\tTRUE\tCYS,VAL,TRP,TYR\n",
      "14\tTRUE\tTRUE\tCYS:CtermProteinFull,VAL:CtermProteinFull,TRP:CtermProteinFull,TYR:CtermProteinFull\n",
      "\n"
     ]
    }
   ],
   "source": [
    "from pyrosetta.rosetta.core.pack.task.operation import ProhibitSpecifiedBaseResidueTypes\n",
    "from pyrosetta.rosetta.utility import vector1_std_string\n",
    "# allow basetype\n",
    "not_mut_table = \"ALA,ASP,GLU,PHE,GLY,HIS,HIS_D,ILE,LYS,LEU,MET,ASN,PRO,GLN,ARG,SER,THR\"\n",
    "not_mut_table_list = vector1_std_string()\n",
    "for aa in not_mut_table.split(','):\n",
    "    not_mut_table_list.append(aa)\n",
    "\n",
    "# restrict to baestype list\n",
    "restric_to_basetype = ProhibitSpecifiedBaseResidueTypes()\n",
    "restric_to_basetype.set_base_types(not_mut_table_list)\n",
    "\n",
    "# 将TaskOperations加载至TaskFactory中\n",
    "pack_tf = TaskFactory()\n",
    "pack_tf.push_back(restric_to_basetype)\n",
    "\n",
    "# 生成PackerTask\n",
    "packer_task = pack_tf.create_task_and_apply_taskoperations(pose)\n",
    "print(packer_task)"
   ]
  },
  {
   "cell_type": "markdown",
   "id": "approved-semiconductor",
   "metadata": {},
   "source": [
    "#### 1.3 ReadResfile\n",
    "之前我们将结果Resfile的编写规则，此处我们将resfile写成如下格式:\n",
    "```\n",
    "NATAA\n",
    "EX 1 EX 2\n",
    "START\n",
    "1 A PIKAA A\n",
    "2 A PIKAA AKR\n",
    "3 A PIKAA APM\n",
    "4 A PIKAA APT\n",
    "```\n",
    "这个Resfile定义的自由度为:\n",
    "NATAA至当前未指定的氨基酸都只能进行Repacking。此外，A链1号位点只能突变成ALA，A链2号位点只能突变成ALA，LYS和ARG如此类推。"
   ]
  },
  {
   "cell_type": "code",
   "execution_count": 13,
   "id": "elder-craps",
   "metadata": {},
   "outputs": [
    {
     "name": "stdout",
     "output_type": "stream",
     "text": [
      "#Packer_Task\n",
      "\n",
      "Threads to request: ALL AVAILABLE\n",
      "\n",
      "resid\tpack?\tdesign?\tallowed_aas\n",
      "1\tTRUE\tTRUE\tALA:NtermProteinFull\n",
      "2\tTRUE\tTRUE\tALA,LYS,ARG\n",
      "3\tTRUE\tTRUE\tALA,MET,PRO\n",
      "4\tTRUE\tTRUE\tALA,PRO,THR\n",
      "5\tTRUE\tFALSE\tLYS\n",
      "6\tTRUE\tFALSE\tTRP\n",
      "7\tTRUE\tFALSE\tVAL\n",
      "8\tTRUE\tFALSE\tGLU\n",
      "9\tTRUE\tFALSE\tGLN\n",
      "10\tTRUE\tFALSE\tALA\n",
      "11\tTRUE\tFALSE\tGLU\n",
      "12\tTRUE\tFALSE\tARG\n",
      "13\tTRUE\tFALSE\tASN\n",
      "14\tTRUE\tFALSE\tGLY:CtermProteinFull\n",
      "\n"
     ]
    }
   ],
   "source": [
    "from pyrosetta.rosetta.core.pack.task.operation import ReadResfile\n",
    "# restrict to baestype list\n",
    "resfile_type = ReadResfile('./data/mutation.resfile')\n",
    "\n",
    "# 将TaskOperations加载至TaskFactory中\n",
    "pack_tf = TaskFactory()\n",
    "pack_tf.push_back(resfile_type)\n",
    "\n",
    "# 生成PackerTask\n",
    "packer_task = pack_tf.create_task_and_apply_taskoperations(pose)\n",
    "print(packer_task)"
   ]
  },
  {
   "cell_type": "markdown",
   "id": "wooden-private",
   "metadata": {},
   "source": [
    "#### 1.4 LinkResidues\n",
    "“铁锁连环”，当设定一个氨基酸与另外一些氨基酸必须同时突变为一样类型的Rotamer。但这部分的代码在pyrosetta中一直会造成内核错误。暂无法使用(2017-2021)"
   ]
  },
  {
   "cell_type": "markdown",
   "id": "pregnant-champagne",
   "metadata": {},
   "source": [
    "### *2 Property-based specification"
   ]
  },
  {
   "cell_type": "markdown",
   "id": "expressed-restaurant",
   "metadata": {
    "tags": []
   },
   "source": [
    "#### 2.1 RestrictToResidueProperties\n",
    "根据给定的氨基酸性质来对PackerPalettes预设列表中的氨基酸类型进行指定和修改。</br>\n",
    "\n",
    "氨基酸的性质可选列表都记录在pyrosetta.rosetta.core.chemical.ResidueProperty中。\n",
    "一般常用可选:\n",
    "- METAL: 可螯合金属离子\n",
    "- POLAR: 极性氨基酸\n",
    "- HYDROPHOBIC: 疏水氨基酸\n",
    "- CHARGED: 带电氨基酸\n",
    "- NEGATIVE_CHARGE: 带负电氨基酸\n",
    "- POSITIVE_CHARGE: 带正电氨基酸\n",
    "- AROMATIC: 芳香族氨基酸"
   ]
  },
  {
   "cell_type": "code",
   "execution_count": 14,
   "id": "collect-frank",
   "metadata": {},
   "outputs": [
    {
     "name": "stdout",
     "output_type": "stream",
     "text": [
      "#Packer_Task\n",
      "\n",
      "Threads to request: ALL AVAILABLE\n",
      "\n",
      "resid\tpack?\tdesign?\tallowed_aas\n",
      "1\tTRUE\tTRUE\tASP:NtermProteinFull,GLU:NtermProteinFull\n",
      "2\tTRUE\tTRUE\tASP,GLU\n",
      "3\tTRUE\tTRUE\tASP,GLU\n",
      "4\tTRUE\tTRUE\tASP,GLU\n",
      "5\tTRUE\tTRUE\tASP,GLU\n",
      "6\tTRUE\tTRUE\tASP,GLU\n",
      "7\tTRUE\tTRUE\tASP,GLU\n",
      "8\tTRUE\tTRUE\tASP,GLU\n",
      "9\tTRUE\tTRUE\tASP,GLU\n",
      "10\tTRUE\tTRUE\tASP,GLU\n",
      "11\tTRUE\tTRUE\tASP,GLU\n",
      "12\tTRUE\tTRUE\tASP,GLU\n",
      "13\tTRUE\tTRUE\tASP,GLU\n",
      "14\tTRUE\tTRUE\tASP:CtermProteinFull,GLU:CtermProteinFull\n",
      "\n"
     ]
    }
   ],
   "source": [
    "from pyrosetta.rosetta.core.pack.task.operation import RestrictToResidueProperties\n",
    "from pyrosetta.rosetta.core.chemical import ResidueProperty\n",
    "from pyrosetta.rosetta.utility import vector1_core_chemical_ResidueProperty\n",
    "\n",
    "# allow basetype\n",
    "properties = vector1_core_chemical_ResidueProperty()\n",
    "properties.append(ResidueProperty.NEGATIVE_CHARGE)  # 只允许带负电氨基酸。\n",
    "\n",
    "restrict_to_properties = RestrictToResidueProperties()\n",
    "restrict_to_properties.set_properties(properties)\n",
    "# 可以指定选择的范围:\n",
    "# restrict_to_properties.set_selector()\n",
    "\n",
    "# 将TaskOperations加载至TaskFactory中\n",
    "pack_tf = TaskFactory()\n",
    "pack_tf.push_back(restrict_to_properties)\n",
    "\n",
    "# 生成PackerTask\n",
    "packer_task = pack_tf.create_task_and_apply_taskoperations(pose)\n",
    "print(packer_task)"
   ]
  },
  {
   "cell_type": "markdown",
   "id": "played-genetics",
   "metadata": {},
   "source": [
    "#### 2.2 ProhibitResidueProperties\n",
    "同理于RestrictToResidueProperties的逻辑，ProhibitResidueProperties设定了满足哪些性质的氨基酸类型应当被“删除”。"
   ]
  },
  {
   "cell_type": "code",
   "execution_count": 15,
   "id": "expected-basketball",
   "metadata": {},
   "outputs": [
    {
     "name": "stdout",
     "output_type": "stream",
     "text": [
      "#Packer_Task\n",
      "\n",
      "Threads to request: ALL AVAILABLE\n",
      "\n",
      "resid\tpack?\tdesign?\tallowed_aas\n",
      "1\tTRUE\tTRUE\tALA:NtermProteinFull,CYS:NtermProteinFull,PHE:NtermProteinFull,GLY:NtermProteinFull,ILE:NtermProteinFull,LEU:NtermProteinFull,MET:NtermProteinFull,PRO:NtermProteinFull,VAL:NtermProteinFull,TRP:NtermProteinFull,TYR:NtermProteinFull\n",
      "2\tTRUE\tTRUE\tALA,CYS,PHE,GLY,ILE,LEU,MET,PRO,VAL,TRP,TYR\n",
      "3\tTRUE\tTRUE\tALA,CYS,PHE,GLY,ILE,LEU,MET,PRO,VAL,TRP,TYR\n",
      "4\tTRUE\tTRUE\tALA,CYS,PHE,GLY,ILE,LEU,MET,PRO,VAL,TRP,TYR\n",
      "5\tTRUE\tTRUE\tALA,CYS,PHE,GLY,ILE,LEU,MET,PRO,VAL,TRP,TYR\n",
      "6\tTRUE\tTRUE\tALA,CYS,PHE,GLY,ILE,LEU,MET,PRO,VAL,TRP,TYR\n",
      "7\tTRUE\tTRUE\tALA,CYS,PHE,GLY,ILE,LEU,MET,PRO,VAL,TRP,TYR\n",
      "8\tTRUE\tTRUE\tALA,CYS,PHE,GLY,ILE,LEU,MET,PRO,VAL,TRP,TYR\n",
      "9\tTRUE\tTRUE\tALA,CYS,PHE,GLY,ILE,LEU,MET,PRO,VAL,TRP,TYR\n",
      "10\tTRUE\tTRUE\tALA,CYS,PHE,GLY,ILE,LEU,MET,PRO,VAL,TRP,TYR\n",
      "11\tTRUE\tTRUE\tALA,CYS,PHE,GLY,ILE,LEU,MET,PRO,VAL,TRP,TYR\n",
      "12\tTRUE\tTRUE\tALA,CYS,PHE,GLY,ILE,LEU,MET,PRO,VAL,TRP,TYR\n",
      "13\tTRUE\tTRUE\tALA,CYS,PHE,GLY,ILE,LEU,MET,PRO,VAL,TRP,TYR\n",
      "14\tTRUE\tTRUE\tALA:CtermProteinFull,CYS:CtermProteinFull,PHE:CtermProteinFull,GLY:CtermProteinFull,ILE:CtermProteinFull,LEU:CtermProteinFull,MET:CtermProteinFull,PRO:CtermProteinFull,VAL:CtermProteinFull,TRP:CtermProteinFull,TYR:CtermProteinFull\n",
      "\n"
     ]
    }
   ],
   "source": [
    "from pyrosetta.rosetta.core.pack.task.operation import ProhibitResidueProperties\n",
    "from pyrosetta.rosetta.core.chemical import ResidueProperty\n",
    "from pyrosetta.rosetta.utility import vector1_core_chemical_ResidueProperty\n",
    "\n",
    "# allow basetype\n",
    "not_properties = vector1_core_chemical_ResidueProperty()\n",
    "not_properties.append(ResidueProperty.POLAR)  # 只允许带负电氨基酸。\n",
    "\n",
    "restrict_to_properties = ProhibitResidueProperties()\n",
    "restrict_to_properties.set_properties(not_properties)\n",
    "# 可以指定选择的范围:\n",
    "# restrict_to_properties.set_selector()\n",
    "\n",
    "# 将TaskOperations加载至TaskFactory中\n",
    "pack_tf = TaskFactory()\n",
    "pack_tf.push_back(restrict_to_properties)\n",
    "\n",
    "# 生成PackerTask\n",
    "packer_task = pack_tf.create_task_and_apply_taskoperations(pose)\n",
    "print(packer_task)"
   ]
  },
  {
   "cell_type": "markdown",
   "id": "generous-ridge",
   "metadata": {},
   "source": [
    "此时允许被设计的氨基酸类型被设定为非极性氨基酸。"
   ]
  },
  {
   "cell_type": "markdown",
   "id": "educational-foundation",
   "metadata": {},
   "source": [
    "#### 2.3 ConservativeDesignOperation\n",
    "根据氨基酸替换频率的思想来设计蛋白质，ConservativeDesignOperation根据给定的氨基酸替换矩阵来决定每个位置上氨基酸的类型，如Blosum62等。当得分大于0时。所有允许出现的氨基酸类型即此位点的自由度范围。"
   ]
  },
  {
   "cell_type": "code",
   "execution_count": 16,
   "id": "liable-trauma",
   "metadata": {},
   "outputs": [
    {
     "name": "stdout",
     "output_type": "stream",
     "text": [
      "\u001b[0mprotocols.task_operations.ConservativeDesignOperation: {0} \u001b[0mLoading conservative mutational data\n",
      "#Packer_Task\n",
      "\n",
      "Threads to request: ALL AVAILABLE\n",
      "\n",
      "resid\tpack?\tdesign?\tallowed_aas\n",
      "1\tTRUE\tTRUE\tASP:NtermProteinFull,GLU:NtermProteinFull,ASN:NtermProteinFull,GLN:NtermProteinFull,SER:NtermProteinFull\n",
      "2\tTRUE\tTRUE\tASP,GLU,HIS,HIS_D,LYS,ASN,GLN,ARG,SER\n",
      "3\tTRUE\tTRUE\tPHE,ILE,LEU,MET,VAL\n",
      "4\tTRUE\tTRUE\tASP,GLU,HIS,HIS_D,LYS,MET,ASN,GLN,ARG,SER\n",
      "5\tTRUE\tTRUE\tGLU,LYS,ASN,GLN,ARG,SER\n",
      "6\tTRUE\tTRUE\tPHE,TRP,TYR\n",
      "7\tTRUE\tTRUE\tALA,ILE,LEU,MET,THR,VAL\n",
      "8\tTRUE\tTRUE\tASP,GLU,HIS,HIS_D,LYS,ASN,GLN,ARG,SER\n",
      "9\tTRUE\tTRUE\tASP,GLU,HIS,HIS_D,LYS,MET,ASN,GLN,ARG,SER\n",
      "10\tTRUE\tTRUE\tALA,CYS,GLY,SER,THR,VAL\n",
      "11\tTRUE\tTRUE\tASP,GLU,HIS,HIS_D,LYS,ASN,GLN,ARG,SER\n",
      "12\tTRUE\tTRUE\tGLU,HIS,HIS_D,LYS,ASN,GLN,ARG\n",
      "13\tTRUE\tTRUE\tASP,GLU,GLY,HIS,HIS_D,LYS,ASN,GLN,ARG,SER,THR\n",
      "14\tTRUE\tTRUE\tALA:CtermProteinFull,GLY:CtermProteinFull,ASN:CtermProteinFull,SER:CtermProteinFull\n",
      "\n"
     ]
    }
   ],
   "source": [
    "from pyrosetta.rosetta.protocols.task_operations import ConservativeDesignOperation\n",
    "Conserve_design = ConservativeDesignOperation()\n",
    "Conserve_design.set_data_source('blosum62')  # chothia_76, Blosum62(30-100) 选择使用哪种比对矩阵。\n",
    "\n",
    "# 将TaskOperations加载至TaskFactory中\n",
    "pack_tf = TaskFactory()\n",
    "pack_tf.push_back(Conserve_design)\n",
    "\n",
    "# 生成PackerTask\n",
    "packer_task = pack_tf.create_task_and_apply_taskoperations(pose)\n",
    "print(packer_task)"
   ]
  },
  {
   "cell_type": "markdown",
   "id": "impossible-negative",
   "metadata": {},
   "source": [
    "#### 2.4 ConsensusLoopDesign\n",
    "ConsensuLoopDesign首先定义的二级结构寻找Loop区域, 基于Pose的二面角定义Loop的组成类型（ABEGO字符串）。\n",
    "如 一段4个氨基酸长度的loop区二面角类型为GGBB，通过搜索数据库，将相同类型的Loop的序列获取，并统计每个位点上的氨基酸频率，通过富集计算，筛选出那些在该二面角空间出现频率较高的氨基酸来的定义自由度。**因此对于一些存在正则结构的loop设计十分有用！**"
   ]
  },
  {
   "cell_type": "code",
   "execution_count": 17,
   "id": "ultimate-tackle",
   "metadata": {},
   "outputs": [
    {
     "name": "stdout",
     "output_type": "stream",
     "text": [
      "\u001b[0mcore.import_pose.import_pose: {0} \u001b[0mFile './data/EHEE_rd4_0976.pdb' automatically determined to be of type PDB\n",
      "\u001b[0mprotocols.DsspMover: {0} \u001b[0mLEEEEELLHHHHHHHHHHHHHLLLLEEEEEELLEEEEEEL\n"
     ]
    }
   ],
   "source": [
    "# denovo_pose\n",
    "denovo_pose = pose_from_pdb('./data/EHEE_rd4_0976.pdb')\n",
    "\n",
    "# 获取pose的二级结构:\n",
    "from pyrosetta.rosetta.protocols.membrane import get_secstruct\n",
    "secstruct = ''.join(get_secstruct(denovo_pose))\n",
    "\n",
    "# ConsensusLoopDesign\n",
    "from pyrosetta.rosetta.protocols.denovo_design.task_operations import ConsensusLoopDesignOperation\n",
    "consensu_loop_design = ConsensusLoopDesignOperation()\n",
    "# 或如'EHHHL'设置序列的二级结构\n",
    "consensu_loop_design.set_secstruct(secstruct)\n",
    "# 考虑loop邻近+1/-1氨基酸, 使得该区域也采取保守性设计，比如有一些loop的周围更加倾向于天然存在PRO.（默认为False）\n",
    "consensu_loop_design.set_include_adjacent_residues(False) \n",
    "# 如果富集度低于阈值，那么该位点将不被设计，0.5比0.0更加严格，要求更高的富集度。\n",
    "consensu_loop_design.set_enrichment_threshold(0.3) "
   ]
  },
  {
   "cell_type": "code",
   "execution_count": 18,
   "id": "restricted-davis",
   "metadata": {},
   "outputs": [
    {
     "name": "stdout",
     "output_type": "stream",
     "text": [
      "\u001b[0mcore.select.residue_selector.SecondaryStructureSelector: {0} \u001b[0mUsing given pose secondary structure: LEEEEELLHHHHHHHHHHHHHLLLLEEEEEELLEEEEEEL\n",
      "\u001b[0mprotocols.denovo_design.task_operations.ConsensusLoopDesignOperation: {0} \u001b[0mRestricting AAs in loop: Start: 7 Abego: BBEA Before: E After: H\n",
      "\u001b[0mbasic.io.database: {0} \u001b[0mDatabase file opened: protocol_data/denovo_design/aa_abego_frequencies.gz\n",
      "\u001b[0mprotocols.denovo_design.task_operations.ConsensusLoopDesignOperation: {0} \u001b[0mResidue: 7; forbidden aas: DEFGHIKLNPQRVY\n",
      "\u001b[0mprotocols.denovo_design.task_operations.ConsensusLoopDesignOperation: {0} \u001b[0mResidue: 8; forbidden aas: ACDEFHIKLMNPQRSTVY\n",
      "\u001b[0mprotocols.denovo_design.task_operations.ConsensusLoopDesignOperation: {0} \u001b[0mRestricting AAs in loop: Start: 22 Abego: AAGBBB Before: H After: E\n",
      "\u001b[0mprotocols.denovo_design.task_operations.ConsensusLoopDesignOperation: {0} \u001b[0mResidue: 22; forbidden aas: CDFGIPSTVW\n",
      "\u001b[0mprotocols.denovo_design.task_operations.ConsensusLoopDesignOperation: {0} \u001b[0mResidue: 23; forbidden aas: ACDEFHILMPQRSTVWY\n",
      "\u001b[0mprotocols.denovo_design.task_operations.ConsensusLoopDesignOperation: {0} \u001b[0mResidue: 24; forbidden aas: ACDEFGHNPQRSTW\n",
      "\u001b[0mprotocols.denovo_design.task_operations.ConsensusLoopDesignOperation: {0} \u001b[0mResidue: 25; forbidden aas: ACDFGHILMNQSTVWY\n",
      "\u001b[0mprotocols.denovo_design.task_operations.ConsensusLoopDesignOperation: {0} \u001b[0mRestricting AAs in loop: Start: 32 Abego: BGGB Before: E After: E\n",
      "\u001b[0mprotocols.denovo_design.task_operations.ConsensusLoopDesignOperation: {0} \u001b[0mResidue: 32; forbidden aas: ACEFGHIKLMPQRSTVWY\n",
      "\u001b[0mprotocols.denovo_design.task_operations.ConsensusLoopDesignOperation: {0} \u001b[0mResidue: 33; forbidden aas: ACDEFHIKLMNPQRSTVWY\n",
      "\u001b[0mprotocols.denovo_design.task_operations.ConsensusLoopDesignOperation: {0} \u001b[0m#Packer_Task\n",
      "\u001b[0mprotocols.denovo_design.task_operations.ConsensusLoopDesignOperation: {0} \u001b[0m\n",
      "\u001b[0mprotocols.denovo_design.task_operations.ConsensusLoopDesignOperation: {0} \u001b[0mThreads to request: ALL AVAILABLE\n",
      "\u001b[0mprotocols.denovo_design.task_operations.ConsensusLoopDesignOperation: {0} \u001b[0m\n",
      "\u001b[0mprotocols.denovo_design.task_operations.ConsensusLoopDesignOperation: {0} \u001b[0mresid\tpack?\tdesign?\tallowed_aas\n",
      "\u001b[0mprotocols.denovo_design.task_operations.ConsensusLoopDesignOperation: {0} \u001b[0m1\tTRUE\tTRUE\tALA:NtermProteinFull,CYS:NtermProteinFull,ASP:NtermProteinFull,GLU:NtermProteinFull,PHE:NtermProteinFull,GLY:NtermProteinFull,HIS:NtermProteinFull,HIS_D:NtermProteinFull,ILE:NtermProteinFull,LYS:NtermProteinFull,LEU:NtermProteinFull,MET:NtermProteinFull,ASN:NtermProteinFull,PRO:NtermProteinFull,GLN:NtermProteinFull,ARG:NtermProteinFull,SER:NtermProteinFull,THR:NtermProteinFull,VAL:NtermProteinFull,TRP:NtermProteinFull,TYR:NtermProteinFull\n",
      "\u001b[0mprotocols.denovo_design.task_operations.ConsensusLoopDesignOperation: {0} \u001b[0m2\tTRUE\tTRUE\tALA,CYS,ASP,GLU,PHE,GLY,HIS,HIS_D,ILE,LYS,LEU,MET,ASN,PRO,GLN,ARG,SER,THR,VAL,TRP,TYR\n",
      "\u001b[0mprotocols.denovo_design.task_operations.ConsensusLoopDesignOperation: {0} \u001b[0m3\tTRUE\tTRUE\tALA,CYS,ASP,GLU,PHE,GLY,HIS,HIS_D,ILE,LYS,LEU,MET,ASN,PRO,GLN,ARG,SER,THR,VAL,TRP,TYR\n",
      "\u001b[0mprotocols.denovo_design.task_operations.ConsensusLoopDesignOperation: {0} \u001b[0m4\tTRUE\tTRUE\tALA,CYS,ASP,GLU,PHE,GLY,HIS,HIS_D,ILE,LYS,LEU,MET,ASN,PRO,GLN,ARG,SER,THR,VAL,TRP,TYR\n",
      "\u001b[0mprotocols.denovo_design.task_operations.ConsensusLoopDesignOperation: {0} \u001b[0m5\tTRUE\tTRUE\tALA,CYS,ASP,GLU,PHE,GLY,HIS,HIS_D,ILE,LYS,LEU,MET,ASN,PRO,GLN,ARG,SER,THR,VAL,TRP,TYR\n",
      "\u001b[0mprotocols.denovo_design.task_operations.ConsensusLoopDesignOperation: {0} \u001b[0m6\tTRUE\tTRUE\tALA,CYS,ASP,GLU,PHE,GLY,HIS,HIS_D,ILE,LYS,LEU,MET,ASN,PRO,GLN,ARG,SER,THR,VAL,TRP,TYR\n",
      "\u001b[0mprotocols.denovo_design.task_operations.ConsensusLoopDesignOperation: {0} \u001b[0m7\tTRUE\tTRUE\tALA,CYS,MET,SER,THR,TRP\n",
      "\u001b[0mprotocols.denovo_design.task_operations.ConsensusLoopDesignOperation: {0} \u001b[0m8\tTRUE\tTRUE\tGLY,TRP\n",
      "\u001b[0mprotocols.denovo_design.task_operations.ConsensusLoopDesignOperation: {0} \u001b[0m9\tTRUE\tTRUE\tALA,CYS,ASP,GLU,PHE,GLY,HIS,HIS_D,ILE,LYS,LEU,MET,ASN,PRO,GLN,ARG,SER,THR,VAL,TRP,TYR\n",
      "\u001b[0mprotocols.denovo_design.task_operations.ConsensusLoopDesignOperation: {0} \u001b[0m10\tTRUE\tTRUE\tALA,CYS,ASP,GLU,PHE,GLY,HIS,HIS_D,ILE,LYS,LEU,MET,ASN,PRO,GLN,ARG,SER,THR,VAL,TRP,TYR\n",
      "\u001b[0mprotocols.denovo_design.task_operations.ConsensusLoopDesignOperation: {0} \u001b[0m11\tTRUE\tTRUE\tALA,CYS,ASP,GLU,PHE,GLY,HIS,HIS_D,ILE,LYS,LEU,MET,ASN,PRO,GLN,ARG,SER,THR,VAL,TRP,TYR\n",
      "\u001b[0mprotocols.denovo_design.task_operations.ConsensusLoopDesignOperation: {0} \u001b[0m12\tTRUE\tTRUE\tALA,CYS,ASP,GLU,PHE,GLY,HIS,HIS_D,ILE,LYS,LEU,MET,ASN,PRO,GLN,ARG,SER,THR,VAL,TRP,TYR\n",
      "\u001b[0mprotocols.denovo_design.task_operations.ConsensusLoopDesignOperation: {0} \u001b[0m13\tTRUE\tTRUE\tALA,CYS,ASP,GLU,PHE,GLY,HIS,HIS_D,ILE,LYS,LEU,MET,ASN,PRO,GLN,ARG,SER,THR,VAL,TRP,TYR\n",
      "\u001b[0mprotocols.denovo_design.task_operations.ConsensusLoopDesignOperation: {0} \u001b[0m14\tTRUE\tTRUE\tALA,CYS,ASP,GLU,PHE,GLY,HIS,HIS_D,ILE,LYS,LEU,MET,ASN,PRO,GLN,ARG,SER,THR,VAL,TRP,TYR\n",
      "\u001b[0mprotocols.denovo_design.task_operations.ConsensusLoopDesignOperation: {0} \u001b[0m15\tTRUE\tTRUE\tALA,CYS,ASP,GLU,PHE,GLY,HIS,HIS_D,ILE,LYS,LEU,MET,ASN,PRO,GLN,ARG,SER,THR,VAL,TRP,TYR\n",
      "\u001b[0mprotocols.denovo_design.task_operations.ConsensusLoopDesignOperation: {0} \u001b[0m16\tTRUE\tTRUE\tALA,CYS,ASP,GLU,PHE,GLY,HIS,HIS_D,ILE,LYS,LEU,MET,ASN,PRO,GLN,ARG,SER,THR,VAL,TRP,TYR\n",
      "\u001b[0mprotocols.denovo_design.task_operations.ConsensusLoopDesignOperation: {0} \u001b[0m17\tTRUE\tTRUE\tALA,CYS,ASP,GLU,PHE,GLY,HIS,HIS_D,ILE,LYS,LEU,MET,ASN,PRO,GLN,ARG,SER,THR,VAL,TRP,TYR\n",
      "\u001b[0mprotocols.denovo_design.task_operations.ConsensusLoopDesignOperation: {0} \u001b[0m18\tTRUE\tTRUE\tALA,CYS,ASP,GLU,PHE,GLY,HIS,HIS_D,ILE,LYS,LEU,MET,ASN,PRO,GLN,ARG,SER,THR,VAL,TRP,TYR\n",
      "\u001b[0mprotocols.denovo_design.task_operations.ConsensusLoopDesignOperation: {0} \u001b[0m19\tTRUE\tTRUE\tALA,CYS,ASP,GLU,PHE,GLY,HIS,HIS_D,ILE,LYS,LEU,MET,ASN,PRO,GLN,ARG,SER,THR,VAL,TRP,TYR\n",
      "\u001b[0mprotocols.denovo_design.task_operations.ConsensusLoopDesignOperation: {0} \u001b[0m20\tTRUE\tTRUE\tALA,CYS,ASP,GLU,PHE,GLY,HIS,HIS_D,ILE,LYS,LEU,MET,ASN,PRO,GLN,ARG,SER,THR,VAL,TRP,TYR\n",
      "\u001b[0mprotocols.denovo_design.task_operations.ConsensusLoopDesignOperation: {0} \u001b[0m21\tTRUE\tTRUE\tALA,CYS,ASP,GLU,PHE,GLY,HIS,HIS_D,ILE,LYS,LEU,MET,ASN,PRO,GLN,ARG,SER,THR,VAL,TRP,TYR\n",
      "\u001b[0mprotocols.denovo_design.task_operations.ConsensusLoopDesignOperation: {0} \u001b[0m22\tTRUE\tTRUE\tALA,GLU,HIS,HIS_D,LYS,LEU,MET,ASN,GLN,ARG,TYR\n",
      "\u001b[0mprotocols.denovo_design.task_operations.ConsensusLoopDesignOperation: {0} \u001b[0m23\tTRUE\tTRUE\tGLY,LYS,ASN\n",
      "\u001b[0mprotocols.denovo_design.task_operations.ConsensusLoopDesignOperation: {0} \u001b[0m24\tTRUE\tTRUE\tILE,LYS,LEU,MET,VAL,TYR\n",
      "\u001b[0mprotocols.denovo_design.task_operations.ConsensusLoopDesignOperation: {0} \u001b[0m25\tTRUE\tTRUE\tGLU,LYS,PRO,ARG\n",
      "\u001b[0mprotocols.denovo_design.task_operations.ConsensusLoopDesignOperation: {0} \u001b[0m26\tTRUE\tTRUE\tALA,CYS,ASP,GLU,PHE,GLY,HIS,HIS_D,ILE,LYS,LEU,MET,ASN,PRO,GLN,ARG,SER,THR,VAL,TRP,TYR\n",
      "\u001b[0mprotocols.denovo_design.task_operations.ConsensusLoopDesignOperation: {0} \u001b[0m27\tTRUE\tTRUE\tALA,CYS,ASP,GLU,PHE,GLY,HIS,HIS_D,ILE,LYS,LEU,MET,ASN,PRO,GLN,ARG,SER,THR,VAL,TRP,TYR\n",
      "\u001b[0mprotocols.denovo_design.task_operations.ConsensusLoopDesignOperation: {0} \u001b[0m28\tTRUE\tTRUE\tALA,CYS,ASP,GLU,PHE,GLY,HIS,HIS_D,ILE,LYS,LEU,MET,ASN,PRO,GLN,ARG,SER,THR,VAL,TRP,TYR\n",
      "\u001b[0mprotocols.denovo_design.task_operations.ConsensusLoopDesignOperation: {0} \u001b[0m29\tTRUE\tTRUE\tALA,CYS,ASP,GLU,PHE,GLY,HIS,HIS_D,ILE,LYS,LEU,MET,ASN,PRO,GLN,ARG,SER,THR,VAL,TRP,TYR\n",
      "\u001b[0mprotocols.denovo_design.task_operations.ConsensusLoopDesignOperation: {0} \u001b[0m30\tTRUE\tTRUE\tALA,CYS,ASP,GLU,PHE,GLY,HIS,HIS_D,ILE,LYS,LEU,MET,ASN,PRO,GLN,ARG,SER,THR,VAL,TRP,TYR\n",
      "\u001b[0mprotocols.denovo_design.task_operations.ConsensusLoopDesignOperation: {0} \u001b[0m31\tTRUE\tTRUE\tALA,CYS,ASP,GLU,PHE,GLY,HIS,HIS_D,ILE,LYS,LEU,MET,ASN,PRO,GLN,ARG,SER,THR,VAL,TRP,TYR\n",
      "\u001b[0mprotocols.denovo_design.task_operations.ConsensusLoopDesignOperation: {0} \u001b[0m32\tTRUE\tTRUE\tASP,ASN\n",
      "\u001b[0mprotocols.denovo_design.task_operations.ConsensusLoopDesignOperation: {0} \u001b[0m33\tTRUE\tFALSE\tGLY\n",
      "\u001b[0mprotocols.denovo_design.task_operations.ConsensusLoopDesignOperation: {0} \u001b[0m34\tTRUE\tTRUE\tALA,CYS,ASP,GLU,PHE,GLY,HIS,HIS_D,ILE,LYS,LEU,MET,ASN,PRO,GLN,ARG,SER,THR,VAL,TRP,TYR\n",
      "\u001b[0mprotocols.denovo_design.task_operations.ConsensusLoopDesignOperation: {0} \u001b[0m35\tTRUE\tTRUE\tALA,CYS,ASP,GLU,PHE,GLY,HIS,HIS_D,ILE,LYS,LEU,MET,ASN,PRO,GLN,ARG,SER,THR,VAL,TRP,TYR\n",
      "\u001b[0mprotocols.denovo_design.task_operations.ConsensusLoopDesignOperation: {0} \u001b[0m36\tTRUE\tTRUE\tALA,CYS,ASP,GLU,PHE,GLY,HIS,HIS_D,ILE,LYS,LEU,MET,ASN,PRO,GLN,ARG,SER,THR,VAL,TRP,TYR\n",
      "\u001b[0mprotocols.denovo_design.task_operations.ConsensusLoopDesignOperation: {0} \u001b[0m37\tTRUE\tTRUE\tALA,CYS,ASP,GLU,PHE,GLY,HIS,HIS_D,ILE,LYS,LEU,MET,ASN,PRO,GLN,ARG,SER,THR,VAL,TRP,TYR\n",
      "\u001b[0mprotocols.denovo_design.task_operations.ConsensusLoopDesignOperation: {0} \u001b[0m38\tTRUE\tTRUE\tALA,CYS,ASP,GLU,PHE,GLY,HIS,HIS_D,ILE,LYS,LEU,MET,ASN,PRO,GLN,ARG,SER,THR,VAL,TRP,TYR\n",
      "\u001b[0mprotocols.denovo_design.task_operations.ConsensusLoopDesignOperation: {0} \u001b[0m39\tTRUE\tTRUE\tALA,CYS,ASP,GLU,PHE,GLY,HIS,HIS_D,ILE,LYS,LEU,MET,ASN,PRO,GLN,ARG,SER,THR,VAL,TRP,TYR\n",
      "\u001b[0mprotocols.denovo_design.task_operations.ConsensusLoopDesignOperation: {0} \u001b[0m40\tTRUE\tTRUE\tALA:CtermProteinFull,CYS:CtermProteinFull,ASP:CtermProteinFull,GLU:CtermProteinFull,PHE:CtermProteinFull,GLY:CtermProteinFull,HIS:CtermProteinFull,HIS_D:CtermProteinFull,ILE:CtermProteinFull,LYS:CtermProteinFull,LEU:CtermProteinFull,MET:CtermProteinFull,ASN:CtermProteinFull,PRO:CtermProteinFull,GLN:CtermProteinFull,ARG:CtermProteinFull,SER:CtermProteinFull,THR:CtermProteinFull,VAL:CtermProteinFull,TRP:CtermProteinFull,TYR:CtermProteinFull\n",
      "#Packer_Task\n",
      "\n",
      "Threads to request: ALL AVAILABLE\n",
      "\n",
      "resid\tpack?\tdesign?\tallowed_aas\n",
      "1\tTRUE\tTRUE\tALA:NtermProteinFull,CYS:NtermProteinFull,ASP:NtermProteinFull,GLU:NtermProteinFull,PHE:NtermProteinFull,GLY:NtermProteinFull,HIS:NtermProteinFull,HIS_D:NtermProteinFull,ILE:NtermProteinFull,LYS:NtermProteinFull,LEU:NtermProteinFull,MET:NtermProteinFull,ASN:NtermProteinFull,PRO:NtermProteinFull,GLN:NtermProteinFull,ARG:NtermProteinFull,SER:NtermProteinFull,THR:NtermProteinFull,VAL:NtermProteinFull,TRP:NtermProteinFull,TYR:NtermProteinFull\n",
      "2\tTRUE\tTRUE\tALA,CYS,ASP,GLU,PHE,GLY,HIS,HIS_D,ILE,LYS,LEU,MET,ASN,PRO,GLN,ARG,SER,THR,VAL,TRP,TYR\n",
      "3\tTRUE\tTRUE\tALA,CYS,ASP,GLU,PHE,GLY,HIS,HIS_D,ILE,LYS,LEU,MET,ASN,PRO,GLN,ARG,SER,THR,VAL,TRP,TYR\n",
      "4\tTRUE\tTRUE\tALA,CYS,ASP,GLU,PHE,GLY,HIS,HIS_D,ILE,LYS,LEU,MET,ASN,PRO,GLN,ARG,SER,THR,VAL,TRP,TYR\n",
      "5\tTRUE\tTRUE\tALA,CYS,ASP,GLU,PHE,GLY,HIS,HIS_D,ILE,LYS,LEU,MET,ASN,PRO,GLN,ARG,SER,THR,VAL,TRP,TYR\n",
      "6\tTRUE\tTRUE\tALA,CYS,ASP,GLU,PHE,GLY,HIS,HIS_D,ILE,LYS,LEU,MET,ASN,PRO,GLN,ARG,SER,THR,VAL,TRP,TYR\n",
      "7\tTRUE\tTRUE\tALA,CYS,MET,SER,THR,TRP\n",
      "8\tTRUE\tTRUE\tGLY,TRP\n",
      "9\tTRUE\tTRUE\tALA,CYS,ASP,GLU,PHE,GLY,HIS,HIS_D,ILE,LYS,LEU,MET,ASN,PRO,GLN,ARG,SER,THR,VAL,TRP,TYR\n",
      "10\tTRUE\tTRUE\tALA,CYS,ASP,GLU,PHE,GLY,HIS,HIS_D,ILE,LYS,LEU,MET,ASN,PRO,GLN,ARG,SER,THR,VAL,TRP,TYR\n",
      "11\tTRUE\tTRUE\tALA,CYS,ASP,GLU,PHE,GLY,HIS,HIS_D,ILE,LYS,LEU,MET,ASN,PRO,GLN,ARG,SER,THR,VAL,TRP,TYR\n",
      "12\tTRUE\tTRUE\tALA,CYS,ASP,GLU,PHE,GLY,HIS,HIS_D,ILE,LYS,LEU,MET,ASN,PRO,GLN,ARG,SER,THR,VAL,TRP,TYR\n",
      "13\tTRUE\tTRUE\tALA,CYS,ASP,GLU,PHE,GLY,HIS,HIS_D,ILE,LYS,LEU,MET,ASN,PRO,GLN,ARG,SER,THR,VAL,TRP,TYR\n",
      "14\tTRUE\tTRUE\tALA,CYS,ASP,GLU,PHE,GLY,HIS,HIS_D,ILE,LYS,LEU,MET,ASN,PRO,GLN,ARG,SER,THR,VAL,TRP,TYR\n",
      "15\tTRUE\tTRUE\tALA,CYS,ASP,GLU,PHE,GLY,HIS,HIS_D,ILE,LYS,LEU,MET,ASN,PRO,GLN,ARG,SER,THR,VAL,TRP,TYR\n",
      "16\tTRUE\tTRUE\tALA,CYS,ASP,GLU,PHE,GLY,HIS,HIS_D,ILE,LYS,LEU,MET,ASN,PRO,GLN,ARG,SER,THR,VAL,TRP,TYR\n",
      "17\tTRUE\tTRUE\tALA,CYS,ASP,GLU,PHE,GLY,HIS,HIS_D,ILE,LYS,LEU,MET,ASN,PRO,GLN,ARG,SER,THR,VAL,TRP,TYR\n",
      "18\tTRUE\tTRUE\tALA,CYS,ASP,GLU,PHE,GLY,HIS,HIS_D,ILE,LYS,LEU,MET,ASN,PRO,GLN,ARG,SER,THR,VAL,TRP,TYR\n",
      "19\tTRUE\tTRUE\tALA,CYS,ASP,GLU,PHE,GLY,HIS,HIS_D,ILE,LYS,LEU,MET,ASN,PRO,GLN,ARG,SER,THR,VAL,TRP,TYR\n",
      "20\tTRUE\tTRUE\tALA,CYS,ASP,GLU,PHE,GLY,HIS,HIS_D,ILE,LYS,LEU,MET,ASN,PRO,GLN,ARG,SER,THR,VAL,TRP,TYR\n",
      "21\tTRUE\tTRUE\tALA,CYS,ASP,GLU,PHE,GLY,HIS,HIS_D,ILE,LYS,LEU,MET,ASN,PRO,GLN,ARG,SER,THR,VAL,TRP,TYR\n",
      "22\tTRUE\tTRUE\tALA,GLU,HIS,HIS_D,LYS,LEU,MET,ASN,GLN,ARG,TYR\n",
      "23\tTRUE\tTRUE\tGLY,LYS,ASN\n",
      "24\tTRUE\tTRUE\tILE,LYS,LEU,MET,VAL,TYR\n",
      "25\tTRUE\tTRUE\tGLU,LYS,PRO,ARG\n",
      "26\tTRUE\tTRUE\tALA,CYS,ASP,GLU,PHE,GLY,HIS,HIS_D,ILE,LYS,LEU,MET,ASN,PRO,GLN,ARG,SER,THR,VAL,TRP,TYR\n",
      "27\tTRUE\tTRUE\tALA,CYS,ASP,GLU,PHE,GLY,HIS,HIS_D,ILE,LYS,LEU,MET,ASN,PRO,GLN,ARG,SER,THR,VAL,TRP,TYR\n",
      "28\tTRUE\tTRUE\tALA,CYS,ASP,GLU,PHE,GLY,HIS,HIS_D,ILE,LYS,LEU,MET,ASN,PRO,GLN,ARG,SER,THR,VAL,TRP,TYR\n",
      "29\tTRUE\tTRUE\tALA,CYS,ASP,GLU,PHE,GLY,HIS,HIS_D,ILE,LYS,LEU,MET,ASN,PRO,GLN,ARG,SER,THR,VAL,TRP,TYR\n",
      "30\tTRUE\tTRUE\tALA,CYS,ASP,GLU,PHE,GLY,HIS,HIS_D,ILE,LYS,LEU,MET,ASN,PRO,GLN,ARG,SER,THR,VAL,TRP,TYR\n",
      "31\tTRUE\tTRUE\tALA,CYS,ASP,GLU,PHE,GLY,HIS,HIS_D,ILE,LYS,LEU,MET,ASN,PRO,GLN,ARG,SER,THR,VAL,TRP,TYR\n",
      "32\tTRUE\tTRUE\tASP,ASN\n",
      "33\tTRUE\tFALSE\tGLY\n",
      "34\tTRUE\tTRUE\tALA,CYS,ASP,GLU,PHE,GLY,HIS,HIS_D,ILE,LYS,LEU,MET,ASN,PRO,GLN,ARG,SER,THR,VAL,TRP,TYR\n",
      "35\tTRUE\tTRUE\tALA,CYS,ASP,GLU,PHE,GLY,HIS,HIS_D,ILE,LYS,LEU,MET,ASN,PRO,GLN,ARG,SER,THR,VAL,TRP,TYR\n",
      "36\tTRUE\tTRUE\tALA,CYS,ASP,GLU,PHE,GLY,HIS,HIS_D,ILE,LYS,LEU,MET,ASN,PRO,GLN,ARG,SER,THR,VAL,TRP,TYR\n",
      "37\tTRUE\tTRUE\tALA,CYS,ASP,GLU,PHE,GLY,HIS,HIS_D,ILE,LYS,LEU,MET,ASN,PRO,GLN,ARG,SER,THR,VAL,TRP,TYR\n",
      "38\tTRUE\tTRUE\tALA,CYS,ASP,GLU,PHE,GLY,HIS,HIS_D,ILE,LYS,LEU,MET,ASN,PRO,GLN,ARG,SER,THR,VAL,TRP,TYR\n",
      "39\tTRUE\tTRUE\tALA,CYS,ASP,GLU,PHE,GLY,HIS,HIS_D,ILE,LYS,LEU,MET,ASN,PRO,GLN,ARG,SER,THR,VAL,TRP,TYR\n",
      "40\tTRUE\tTRUE\tALA:CtermProteinFull,CYS:CtermProteinFull,ASP:CtermProteinFull,GLU:CtermProteinFull,PHE:CtermProteinFull,GLY:CtermProteinFull,HIS:CtermProteinFull,HIS_D:CtermProteinFull,ILE:CtermProteinFull,LYS:CtermProteinFull,LEU:CtermProteinFull,MET:CtermProteinFull,ASN:CtermProteinFull,PRO:CtermProteinFull,GLN:CtermProteinFull,ARG:CtermProteinFull,SER:CtermProteinFull,THR:CtermProteinFull,VAL:CtermProteinFull,TRP:CtermProteinFull,TYR:CtermProteinFull\n",
      "\n"
     ]
    }
   ],
   "source": [
    "# 将TaskOperations加载至TaskFactory中\n",
    "pack_tf = TaskFactory()\n",
    "pack_tf.push_back(consensu_loop_design)\n",
    "\n",
    "# 生成PackerTask\n",
    "packer_task = pack_tf.create_task_and_apply_taskoperations(denovo_pose)\n",
    "print(packer_task)"
   ]
  },
  {
   "cell_type": "markdown",
   "id": "increased-italic",
   "metadata": {},
   "source": [
    "可见，Loop区域7，8，22，23，24，32，33都被设置为常出现在当前Loop构型中的氨基酸类型。尝试调整enrichment_threshold的参数，看看自由度的变化？"
   ]
  },
  {
   "cell_type": "markdown",
   "id": "textile-underwear",
   "metadata": {},
   "source": [
    "#### 2.5 DsspDesign\n",
    "根据设定的二级结构的类型指定氨基酸的Rotamer范围，二级结构氨基酸突变的范围定义如下:\n",
    "* Helix: ADEFIKLNQRSTVWY\n",
    "* Strand: DEFHIKLNQRSTVWY\n",
    "* Loop: ACDEFGHIKLMNPQRSTVWY\n",
    "* HelixStart: ADEFHIKLNPQRSTVWY\n",
    "* HelixCapping: DNST\n",
    "* Nterm: ACDEFGHIKLMNPQRSTVWY\n",
    "* Cterm: ACDEFGHIKLMNPQRSTVWY"
   ]
  },
  {
   "cell_type": "code",
   "execution_count": 19,
   "id": "painted-finland",
   "metadata": {},
   "outputs": [
    {
     "name": "stdout",
     "output_type": "stream",
     "text": [
      "\u001b[0mprotocols.TaskOperations.DsspDesignOperation: {0} \u001b[0mInitializing DSSP regions with default residues\n",
      "\u001b[0mprotocols.TaskOperations.DsspDesignOperation: {0} \u001b[0mSecondary structure: LEEEEELLHHHHHHHHHHHHHLLLLEEEEEELLEEEEEEL\n",
      "#Packer_Task\n",
      "\n",
      "Threads to request: ALL AVAILABLE\n",
      "\n",
      "resid\tpack?\tdesign?\tallowed_aas\n",
      "1\tTRUE\tTRUE\tALA:NtermProteinFull,CYS:NtermProteinFull,ASP:NtermProteinFull,GLU:NtermProteinFull,PHE:NtermProteinFull,GLY:NtermProteinFull,HIS:NtermProteinFull,HIS_D:NtermProteinFull,ILE:NtermProteinFull,LYS:NtermProteinFull,LEU:NtermProteinFull,MET:NtermProteinFull,ASN:NtermProteinFull,PRO:NtermProteinFull,GLN:NtermProteinFull,ARG:NtermProteinFull,SER:NtermProteinFull,THR:NtermProteinFull,VAL:NtermProteinFull,TRP:NtermProteinFull,TYR:NtermProteinFull\n",
      "2\tTRUE\tTRUE\tASP,GLU,PHE,HIS,HIS_D,ILE,LYS,LEU,ASN,GLN,ARG,SER,THR,VAL,TRP,TYR\n",
      "3\tTRUE\tTRUE\tASP,GLU,PHE,HIS,HIS_D,ILE,LYS,LEU,ASN,GLN,ARG,SER,THR,VAL,TRP,TYR\n",
      "4\tTRUE\tTRUE\tASP,GLU,PHE,HIS,HIS_D,ILE,LYS,LEU,ASN,GLN,ARG,SER,THR,VAL,TRP,TYR\n",
      "5\tTRUE\tTRUE\tASP,GLU,PHE,HIS,HIS_D,ILE,LYS,LEU,ASN,GLN,ARG,SER,THR,VAL,TRP,TYR\n",
      "6\tTRUE\tTRUE\tASP,GLU,PHE,HIS,HIS_D,ILE,LYS,LEU,ASN,GLN,ARG,SER,THR,VAL,TRP,TYR\n",
      "7\tTRUE\tTRUE\tALA,CYS,ASP,GLU,PHE,GLY,HIS,HIS_D,ILE,LYS,LEU,MET,ASN,PRO,GLN,ARG,SER,THR,VAL,TRP,TYR\n",
      "8\tTRUE\tTRUE\tASP,ASN,SER,THR\n",
      "9\tTRUE\tTRUE\tALA,ASP,GLU,PHE,HIS,HIS_D,ILE,LYS,LEU,ASN,PRO,GLN,ARG,SER,THR,VAL,TRP,TYR\n",
      "10\tTRUE\tTRUE\tALA,ASP,GLU,PHE,ILE,LYS,LEU,ASN,GLN,ARG,SER,THR,VAL,TRP,TYR\n",
      "11\tTRUE\tTRUE\tALA,ASP,GLU,PHE,ILE,LYS,LEU,ASN,GLN,ARG,SER,THR,VAL,TRP,TYR\n",
      "12\tTRUE\tTRUE\tALA,ASP,GLU,PHE,ILE,LYS,LEU,ASN,GLN,ARG,SER,THR,VAL,TRP,TYR\n",
      "13\tTRUE\tTRUE\tALA,ASP,GLU,PHE,ILE,LYS,LEU,ASN,GLN,ARG,SER,THR,VAL,TRP,TYR\n",
      "14\tTRUE\tTRUE\tALA,ASP,GLU,PHE,ILE,LYS,LEU,ASN,GLN,ARG,SER,THR,VAL,TRP,TYR\n",
      "15\tTRUE\tTRUE\tALA,ASP,GLU,PHE,ILE,LYS,LEU,ASN,GLN,ARG,SER,THR,VAL,TRP,TYR\n",
      "16\tTRUE\tTRUE\tALA,ASP,GLU,PHE,ILE,LYS,LEU,ASN,GLN,ARG,SER,THR,VAL,TRP,TYR\n",
      "17\tTRUE\tTRUE\tALA,ASP,GLU,PHE,ILE,LYS,LEU,ASN,GLN,ARG,SER,THR,VAL,TRP,TYR\n",
      "18\tTRUE\tTRUE\tALA,ASP,GLU,PHE,ILE,LYS,LEU,ASN,GLN,ARG,SER,THR,VAL,TRP,TYR\n",
      "19\tTRUE\tTRUE\tALA,ASP,GLU,PHE,ILE,LYS,LEU,ASN,GLN,ARG,SER,THR,VAL,TRP,TYR\n",
      "20\tTRUE\tTRUE\tALA,ASP,GLU,PHE,ILE,LYS,LEU,ASN,GLN,ARG,SER,THR,VAL,TRP,TYR\n",
      "21\tTRUE\tTRUE\tALA,ASP,GLU,PHE,ILE,LYS,LEU,ASN,GLN,ARG,SER,THR,VAL,TRP,TYR\n",
      "22\tTRUE\tTRUE\tALA,CYS,ASP,GLU,PHE,GLY,HIS,HIS_D,ILE,LYS,LEU,MET,ASN,PRO,GLN,ARG,SER,THR,VAL,TRP,TYR\n",
      "23\tTRUE\tTRUE\tALA,CYS,ASP,GLU,PHE,GLY,HIS,HIS_D,ILE,LYS,LEU,MET,ASN,PRO,GLN,ARG,SER,THR,VAL,TRP,TYR\n",
      "24\tTRUE\tTRUE\tALA,CYS,ASP,GLU,PHE,GLY,HIS,HIS_D,ILE,LYS,LEU,MET,ASN,PRO,GLN,ARG,SER,THR,VAL,TRP,TYR\n",
      "25\tTRUE\tTRUE\tALA,CYS,ASP,GLU,PHE,GLY,HIS,HIS_D,ILE,LYS,LEU,MET,ASN,PRO,GLN,ARG,SER,THR,VAL,TRP,TYR\n",
      "26\tTRUE\tTRUE\tASP,GLU,PHE,HIS,HIS_D,ILE,LYS,LEU,ASN,GLN,ARG,SER,THR,VAL,TRP,TYR\n",
      "27\tTRUE\tTRUE\tASP,GLU,PHE,HIS,HIS_D,ILE,LYS,LEU,ASN,GLN,ARG,SER,THR,VAL,TRP,TYR\n",
      "28\tTRUE\tTRUE\tASP,GLU,PHE,HIS,HIS_D,ILE,LYS,LEU,ASN,GLN,ARG,SER,THR,VAL,TRP,TYR\n",
      "29\tTRUE\tTRUE\tASP,GLU,PHE,HIS,HIS_D,ILE,LYS,LEU,ASN,GLN,ARG,SER,THR,VAL,TRP,TYR\n",
      "30\tTRUE\tTRUE\tASP,GLU,PHE,HIS,HIS_D,ILE,LYS,LEU,ASN,GLN,ARG,SER,THR,VAL,TRP,TYR\n",
      "31\tTRUE\tTRUE\tASP,GLU,PHE,HIS,HIS_D,ILE,LYS,LEU,ASN,GLN,ARG,SER,THR,VAL,TRP,TYR\n",
      "32\tTRUE\tTRUE\tALA,CYS,ASP,GLU,PHE,GLY,HIS,HIS_D,ILE,LYS,LEU,MET,ASN,PRO,GLN,ARG,SER,THR,VAL,TRP,TYR\n",
      "33\tTRUE\tTRUE\tALA,CYS,ASP,GLU,PHE,GLY,HIS,HIS_D,ILE,LYS,LEU,MET,ASN,PRO,GLN,ARG,SER,THR,VAL,TRP,TYR\n",
      "34\tTRUE\tTRUE\tASP,GLU,PHE,HIS,HIS_D,ILE,LYS,LEU,ASN,GLN,ARG,SER,THR,VAL,TRP,TYR\n",
      "35\tTRUE\tTRUE\tASP,GLU,PHE,HIS,HIS_D,ILE,LYS,LEU,ASN,GLN,ARG,SER,THR,VAL,TRP,TYR\n",
      "36\tTRUE\tTRUE\tASP,GLU,PHE,HIS,HIS_D,ILE,LYS,LEU,ASN,GLN,ARG,SER,THR,VAL,TRP,TYR\n",
      "37\tTRUE\tTRUE\tASP,GLU,PHE,HIS,HIS_D,ILE,LYS,LEU,ASN,GLN,ARG,SER,THR,VAL,TRP,TYR\n",
      "38\tTRUE\tTRUE\tASP,GLU,PHE,HIS,HIS_D,ILE,LYS,LEU,ASN,GLN,ARG,SER,THR,VAL,TRP,TYR\n",
      "39\tTRUE\tTRUE\tASP,GLU,PHE,HIS,HIS_D,ILE,LYS,LEU,ASN,GLN,ARG,SER,THR,VAL,TRP,TYR\n",
      "40\tTRUE\tTRUE\tALA:CtermProteinFull,CYS:CtermProteinFull,ASP:CtermProteinFull,GLU:CtermProteinFull,PHE:CtermProteinFull,GLY:CtermProteinFull,HIS:CtermProteinFull,HIS_D:CtermProteinFull,ILE:CtermProteinFull,LYS:CtermProteinFull,LEU:CtermProteinFull,MET:CtermProteinFull,ASN:CtermProteinFull,PRO:CtermProteinFull,GLN:CtermProteinFull,ARG:CtermProteinFull,SER:CtermProteinFull,THR:CtermProteinFull,VAL:CtermProteinFull,TRP:CtermProteinFull,TYR:CtermProteinFull\n",
      "\n"
     ]
    }
   ],
   "source": [
    "from pyrosetta.rosetta.protocols.task_operations import DsspDesignOperation\n",
    "dssp_design = DsspDesignOperation()\n",
    "\n",
    "# 如果需要调整二级结构氨基酸类型,可以加载更多设定的语句:\n",
    "# dssp_design.set_restrictions_aa('Helix','ADEF') #二级结构、范围、（重新设定二级结构氨基酸突变范围）\n",
    "# dssp_design.set_restrictions_append('Helix','ADEF') #二级结构、范围、(添加二级结构氨基酸突变范围)\n",
    "# dssp_design.set_restrictions_exclude('Helix','ADEF') #二级结构、范围、(删除二级结构氨基酸突变范围)\n",
    "\n",
    "# 将TaskOperations加载至TaskFactory中\n",
    "pack_tf = TaskFactory()\n",
    "pack_tf.push_back(dssp_design)\n",
    "\n",
    "# 生成PackerTask\n",
    "packer_task = pack_tf.create_task_and_apply_taskoperations(denovo_pose)\n",
    "print(packer_task)"
   ]
  },
  {
   "cell_type": "markdown",
   "id": "miniature-logging",
   "metadata": {},
   "source": [
    "#### 2.6 DesignByCavityProximity（等待发布）\n",
    "2021年新增的TaskOperations，其主要作用是识别蛋白内部的空腔，并更具这些空腔的近似大小来选择可用的氨基酸自由度。\n",
    "一些参数说明:\n",
    "- region_shell: 被选定的氨基酸周围附近X埃的氨基酸均被设定为可突变，默认为8埃\n",
    "- regions_to_design: 选择多少个可被设计的氨基酸中心？默认为1\n",
    "- repack_non_selected: 顾名思义，那些处于region_shell以外的氨基酸都只能进行repacking"
   ]
  },
  {
   "cell_type": "code",
   "execution_count": 20,
   "id": "balanced-cricket",
   "metadata": {},
   "outputs": [],
   "source": [
    "# from pyrosetta.rosetta.protocols import rosetta_scripts\n",
    "# xml = rosetta_scripts.XmlObjects.create_from_string('''\n",
    "# <TASKOPERATIONS>\n",
    "#     <DesignByCavityProximity name=\"des_cavity\" region_shell=\"8.0\" regions_to_design=\"1\" repack_non_selected=\"0\" />\n",
    "# </TASKOPERATIONS>\n",
    "# ''')\n",
    "# des_cavity = xml.get_task_operation('des_cavity')\n",
    "\n",
    "# # 将TaskOperations加载至TaskFactory中\n",
    "# pack_tf = TaskFactory()\n",
    "# pack_tf.push_back(des_cavity)\n",
    "\n",
    "# # 生成PackerTask\n",
    "# packer_task = pack_tf.create_task_and_apply_taskoperations(denovo_pose)\n",
    "# print(packer_task)"
   ]
  },
  {
   "cell_type": "markdown",
   "id": "flush-spectacular",
   "metadata": {},
   "source": [
    "#### 2.7 DesignByResidueCentrality（等待发布）\n",
    "2021年新增的TaskOperations，其根据蛋白质内部的氨基酸相互作用网络来决定那些氨基酸位点可以被设计。\n",
    "具体的做法是: 先计算整个Pose的intra-protein interaction network，然后根据氨基酸的Centrality来决定位点被选择的概率。Centrality越高说明有越多的其他氨基酸在他的周围。因此推测，每次的PackerTask的自由度组成都是不同的，算法会偏向于选择那些对结构或功能有重要作用的氨基酸进行设计。而那些对稳定性贡献较小的区域被设计的概率就会降低。"
   ]
  },
  {
   "cell_type": "code",
   "execution_count": 21,
   "id": "comparative-details",
   "metadata": {},
   "outputs": [],
   "source": [
    "# from pyrosetta.rosetta.protocols import rosetta_scripts\n",
    "# xml = rosetta_scripts.XmlObjects.create_from_string('''\n",
    "# <TASKOPERATIONS>\n",
    "#     <DesignByResidueCentrality name=\"des_by_centrality\" region_shell=\"8.0\" regions_to_design=\"1\" repack_non_selected=\"0\" />\n",
    "# </TASKOPERATIONS>\n",
    "# ''')\n",
    "# des_by_centrality = xml.get_task_operation('des_by_centrality')\n",
    "\n",
    "# # 将TaskOperations加载至TaskFactory中\n",
    "# pack_tf = TaskFactory()\n",
    "# pack_tf.push_back(des_by_centrality)\n",
    "\n",
    "# # 生成PackerTask\n",
    "# packer_task = pack_tf.create_task_and_apply_taskoperations(denovo_pose)\n",
    "# print(packer_task)"
   ]
  },
  {
   "cell_type": "markdown",
   "id": "angry-architecture",
   "metadata": {},
   "source": [
    "#### 2.8 DesignRandomRegion（等待发布）\n",
    "2021年新增的TaskOperations，简单地随机选择一些Pose中的氨基酸来进行设计。设计的逻辑依然是region_shell的方法。"
   ]
  },
  {
   "cell_type": "code",
   "execution_count": 22,
   "id": "victorian-reality",
   "metadata": {},
   "outputs": [],
   "source": [
    "# from pyrosetta.rosetta.protocols import rosetta_scripts\n",
    "# xml = rosetta_scripts.XmlObjects.create_from_string('''\n",
    "# <TASKOPERATIONS>\n",
    "#     <DesignRandomRegion name=\"des_random\" region_shell=\"8.0\" regions_to_design=\"1\" repack_non_selected=\"0\" />\n",
    "# </TASKOPERATIONS>\n",
    "# ''')\n",
    "# des_random = xml.get_task_operation('des_random')\n",
    "\n",
    "# # 将TaskOperations加载至TaskFactory中\n",
    "# pack_tf = TaskFactory()\n",
    "# pack_tf.push_back(des_random)\n",
    "\n",
    "# # 生成PackerTask\n",
    "# packer_task = pack_tf.create_task_and_apply_taskoperations(denovo_pose)\n",
    "# print(packer_task)"
   ]
  },
  {
   "cell_type": "markdown",
   "id": "mathematical-cutting",
   "metadata": {},
   "source": [
    "#### 2.9 NoRepackDisulfides\n",
    "将Pose的二硫键位点设置为no_repack。"
   ]
  },
  {
   "cell_type": "code",
   "execution_count": 23,
   "id": "empirical-darkness",
   "metadata": {},
   "outputs": [
    {
     "name": "stdout",
     "output_type": "stream",
     "text": [
      "#Packer_Task\n",
      "\n",
      "Threads to request: ALL AVAILABLE\n",
      "\n",
      "resid\tpack?\tdesign?\tallowed_aas\n",
      "1\tTRUE\tTRUE\tALA:NtermProteinFull,CYS:NtermProteinFull,ASP:NtermProteinFull,GLU:NtermProteinFull,PHE:NtermProteinFull,GLY:NtermProteinFull,HIS:NtermProteinFull,HIS_D:NtermProteinFull,ILE:NtermProteinFull,LYS:NtermProteinFull,LEU:NtermProteinFull,MET:NtermProteinFull,ASN:NtermProteinFull,PRO:NtermProteinFull,GLN:NtermProteinFull,ARG:NtermProteinFull,SER:NtermProteinFull,THR:NtermProteinFull,VAL:NtermProteinFull,TRP:NtermProteinFull,TYR:NtermProteinFull\n",
      "2\tTRUE\tTRUE\tALA,CYS,ASP,GLU,PHE,GLY,HIS,HIS_D,ILE,LYS,LEU,MET,ASN,PRO,GLN,ARG,SER,THR,VAL,TRP,TYR\n",
      "3\tTRUE\tTRUE\tALA,CYS,ASP,GLU,PHE,GLY,HIS,HIS_D,ILE,LYS,LEU,MET,ASN,PRO,GLN,ARG,SER,THR,VAL,TRP,TYR\n",
      "4\tTRUE\tTRUE\tALA,CYS,ASP,GLU,PHE,GLY,HIS,HIS_D,ILE,LYS,LEU,MET,ASN,PRO,GLN,ARG,SER,THR,VAL,TRP,TYR\n",
      "5\tTRUE\tTRUE\tALA,CYS,ASP,GLU,PHE,GLY,HIS,HIS_D,ILE,LYS,LEU,MET,ASN,PRO,GLN,ARG,SER,THR,VAL,TRP,TYR\n",
      "6\tTRUE\tTRUE\tALA,CYS,ASP,GLU,PHE,GLY,HIS,HIS_D,ILE,LYS,LEU,MET,ASN,PRO,GLN,ARG,SER,THR,VAL,TRP,TYR\n",
      "7\tTRUE\tTRUE\tALA,CYS,ASP,GLU,PHE,GLY,HIS,HIS_D,ILE,LYS,LEU,MET,ASN,PRO,GLN,ARG,SER,THR,VAL,TRP,TYR\n",
      "8\tTRUE\tTRUE\tALA,CYS,ASP,GLU,PHE,GLY,HIS,HIS_D,ILE,LYS,LEU,MET,ASN,PRO,GLN,ARG,SER,THR,VAL,TRP,TYR\n",
      "9\tTRUE\tTRUE\tALA,CYS,ASP,GLU,PHE,GLY,HIS,HIS_D,ILE,LYS,LEU,MET,ASN,PRO,GLN,ARG,SER,THR,VAL,TRP,TYR\n",
      "10\tTRUE\tTRUE\tALA,CYS,ASP,GLU,PHE,GLY,HIS,HIS_D,ILE,LYS,LEU,MET,ASN,PRO,GLN,ARG,SER,THR,VAL,TRP,TYR\n",
      "11\tTRUE\tTRUE\tALA,CYS,ASP,GLU,PHE,GLY,HIS,HIS_D,ILE,LYS,LEU,MET,ASN,PRO,GLN,ARG,SER,THR,VAL,TRP,TYR\n",
      "12\tTRUE\tTRUE\tALA,CYS,ASP,GLU,PHE,GLY,HIS,HIS_D,ILE,LYS,LEU,MET,ASN,PRO,GLN,ARG,SER,THR,VAL,TRP,TYR\n",
      "13\tTRUE\tTRUE\tALA,CYS,ASP,GLU,PHE,GLY,HIS,HIS_D,ILE,LYS,LEU,MET,ASN,PRO,GLN,ARG,SER,THR,VAL,TRP,TYR\n",
      "14\tTRUE\tTRUE\tALA,CYS,ASP,GLU,PHE,GLY,HIS,HIS_D,ILE,LYS,LEU,MET,ASN,PRO,GLN,ARG,SER,THR,VAL,TRP,TYR\n",
      "15\tTRUE\tTRUE\tALA,CYS,ASP,GLU,PHE,GLY,HIS,HIS_D,ILE,LYS,LEU,MET,ASN,PRO,GLN,ARG,SER,THR,VAL,TRP,TYR\n",
      "16\tTRUE\tTRUE\tALA,CYS,ASP,GLU,PHE,GLY,HIS,HIS_D,ILE,LYS,LEU,MET,ASN,PRO,GLN,ARG,SER,THR,VAL,TRP,TYR\n",
      "17\tTRUE\tTRUE\tALA,CYS,ASP,GLU,PHE,GLY,HIS,HIS_D,ILE,LYS,LEU,MET,ASN,PRO,GLN,ARG,SER,THR,VAL,TRP,TYR\n",
      "18\tTRUE\tTRUE\tALA,CYS,ASP,GLU,PHE,GLY,HIS,HIS_D,ILE,LYS,LEU,MET,ASN,PRO,GLN,ARG,SER,THR,VAL,TRP,TYR\n",
      "19\tTRUE\tTRUE\tALA,CYS,ASP,GLU,PHE,GLY,HIS,HIS_D,ILE,LYS,LEU,MET,ASN,PRO,GLN,ARG,SER,THR,VAL,TRP,TYR\n",
      "20\tTRUE\tTRUE\tALA,CYS,ASP,GLU,PHE,GLY,HIS,HIS_D,ILE,LYS,LEU,MET,ASN,PRO,GLN,ARG,SER,THR,VAL,TRP,TYR\n",
      "21\tTRUE\tTRUE\tALA,CYS,ASP,GLU,PHE,GLY,HIS,HIS_D,ILE,LYS,LEU,MET,ASN,PRO,GLN,ARG,SER,THR,VAL,TRP,TYR\n",
      "22\tTRUE\tTRUE\tALA,CYS,ASP,GLU,PHE,GLY,HIS,HIS_D,ILE,LYS,LEU,MET,ASN,PRO,GLN,ARG,SER,THR,VAL,TRP,TYR\n",
      "23\tTRUE\tTRUE\tALA,CYS,ASP,GLU,PHE,GLY,HIS,HIS_D,ILE,LYS,LEU,MET,ASN,PRO,GLN,ARG,SER,THR,VAL,TRP,TYR\n",
      "24\tTRUE\tTRUE\tALA,CYS,ASP,GLU,PHE,GLY,HIS,HIS_D,ILE,LYS,LEU,MET,ASN,PRO,GLN,ARG,SER,THR,VAL,TRP,TYR\n",
      "25\tTRUE\tTRUE\tALA,CYS,ASP,GLU,PHE,GLY,HIS,HIS_D,ILE,LYS,LEU,MET,ASN,PRO,GLN,ARG,SER,THR,VAL,TRP,TYR\n",
      "26\tTRUE\tTRUE\tALA,CYS,ASP,GLU,PHE,GLY,HIS,HIS_D,ILE,LYS,LEU,MET,ASN,PRO,GLN,ARG,SER,THR,VAL,TRP,TYR\n",
      "27\tTRUE\tTRUE\tALA,CYS,ASP,GLU,PHE,GLY,HIS,HIS_D,ILE,LYS,LEU,MET,ASN,PRO,GLN,ARG,SER,THR,VAL,TRP,TYR\n",
      "28\tTRUE\tTRUE\tALA,CYS,ASP,GLU,PHE,GLY,HIS,HIS_D,ILE,LYS,LEU,MET,ASN,PRO,GLN,ARG,SER,THR,VAL,TRP,TYR\n",
      "29\tTRUE\tTRUE\tALA,CYS,ASP,GLU,PHE,GLY,HIS,HIS_D,ILE,LYS,LEU,MET,ASN,PRO,GLN,ARG,SER,THR,VAL,TRP,TYR\n",
      "30\tTRUE\tTRUE\tALA,CYS,ASP,GLU,PHE,GLY,HIS,HIS_D,ILE,LYS,LEU,MET,ASN,PRO,GLN,ARG,SER,THR,VAL,TRP,TYR\n",
      "31\tTRUE\tTRUE\tALA,CYS,ASP,GLU,PHE,GLY,HIS,HIS_D,ILE,LYS,LEU,MET,ASN,PRO,GLN,ARG,SER,THR,VAL,TRP,TYR\n",
      "32\tTRUE\tTRUE\tALA,CYS,ASP,GLU,PHE,GLY,HIS,HIS_D,ILE,LYS,LEU,MET,ASN,PRO,GLN,ARG,SER,THR,VAL,TRP,TYR\n",
      "33\tTRUE\tTRUE\tALA,CYS,ASP,GLU,PHE,GLY,HIS,HIS_D,ILE,LYS,LEU,MET,ASN,PRO,GLN,ARG,SER,THR,VAL,TRP,TYR\n",
      "34\tTRUE\tTRUE\tALA,CYS,ASP,GLU,PHE,GLY,HIS,HIS_D,ILE,LYS,LEU,MET,ASN,PRO,GLN,ARG,SER,THR,VAL,TRP,TYR\n",
      "35\tTRUE\tTRUE\tALA,CYS,ASP,GLU,PHE,GLY,HIS,HIS_D,ILE,LYS,LEU,MET,ASN,PRO,GLN,ARG,SER,THR,VAL,TRP,TYR\n",
      "36\tTRUE\tTRUE\tALA,CYS,ASP,GLU,PHE,GLY,HIS,HIS_D,ILE,LYS,LEU,MET,ASN,PRO,GLN,ARG,SER,THR,VAL,TRP,TYR\n",
      "37\tTRUE\tTRUE\tALA,CYS,ASP,GLU,PHE,GLY,HIS,HIS_D,ILE,LYS,LEU,MET,ASN,PRO,GLN,ARG,SER,THR,VAL,TRP,TYR\n",
      "38\tTRUE\tTRUE\tALA,CYS,ASP,GLU,PHE,GLY,HIS,HIS_D,ILE,LYS,LEU,MET,ASN,PRO,GLN,ARG,SER,THR,VAL,TRP,TYR\n",
      "39\tTRUE\tTRUE\tALA,CYS,ASP,GLU,PHE,GLY,HIS,HIS_D,ILE,LYS,LEU,MET,ASN,PRO,GLN,ARG,SER,THR,VAL,TRP,TYR\n",
      "40\tTRUE\tTRUE\tALA:CtermProteinFull,CYS:CtermProteinFull,ASP:CtermProteinFull,GLU:CtermProteinFull,PHE:CtermProteinFull,GLY:CtermProteinFull,HIS:CtermProteinFull,HIS_D:CtermProteinFull,ILE:CtermProteinFull,LYS:CtermProteinFull,LEU:CtermProteinFull,MET:CtermProteinFull,ASN:CtermProteinFull,PRO:CtermProteinFull,GLN:CtermProteinFull,ARG:CtermProteinFull,SER:CtermProteinFull,THR:CtermProteinFull,VAL:CtermProteinFull,TRP:CtermProteinFull,TYR:CtermProteinFull\n",
      "\n"
     ]
    }
   ],
   "source": [
    "from pyrosetta.rosetta.core.pack.task.operation import NoRepackDisulfides\n",
    "norepack_ss = NoRepackDisulfides()\n",
    "\n",
    "# 将TaskOperations加载至TaskFactory中\n",
    "pack_tf = TaskFactory()\n",
    "pack_tf.push_back(norepack_ss)\n",
    "\n",
    "# 生成PackerTask\n",
    "packer_task = pack_tf.create_task_and_apply_taskoperations(denovo_pose)\n",
    "print(packer_task)"
   ]
  },
  {
   "cell_type": "markdown",
   "id": "frank-nothing",
   "metadata": {},
   "source": [
    "由于体系中没有二硫键，因此TaskOperations没有起到相应的作用。"
   ]
  },
  {
   "cell_type": "markdown",
   "id": "veterinary-evidence",
   "metadata": {},
   "source": [
    "#### 2.10 LayerDesign"
   ]
  },
  {
   "cell_type": "markdown",
   "id": "indian-bristol",
   "metadata": {},
   "source": [
    "# todo"
   ]
  },
  {
   "cell_type": "markdown",
   "id": "forty-freight",
   "metadata": {},
   "source": [
    "#### 2.11 SelectResiduesWithinChain\n",
    "根据内部链编号，选择链中的氨基酸Rotamer自由度，如果modify unselected residuals参数设置为true，则所有其他residuals都设置为norepack。"
   ]
  },
  {
   "cell_type": "code",
   "execution_count": 24,
   "id": "scientific-alliance",
   "metadata": {},
   "outputs": [
    {
     "name": "stdout",
     "output_type": "stream",
     "text": [
      "\u001b[0mprotocols.TaskOperations.SelectResiduesWithinChainOperation: {0} \u001b[0mResidues set to repacking (all others are prevented from repacking): 1,2,3,7,8,9,\n",
      "#Packer_Task\n",
      "\n",
      "Threads to request: ALL AVAILABLE\n",
      "\n",
      "resid\tpack?\tdesign?\tallowed_aas\n",
      "1\tTRUE\tFALSE\tASP:NtermProteinFull\n",
      "2\tTRUE\tFALSE\tGLU\n",
      "3\tTRUE\tFALSE\tLEU\n",
      "4\tFALSE\tFALSE\t\n",
      "5\tFALSE\tFALSE\t\n",
      "6\tFALSE\tFALSE\t\n",
      "7\tTRUE\tFALSE\tVAL\n",
      "8\tTRUE\tFALSE\tGLU\n",
      "9\tTRUE\tFALSE\tGLN\n",
      "10\tFALSE\tFALSE\t\n",
      "11\tFALSE\tFALSE\t\n",
      "12\tFALSE\tFALSE\t\n",
      "13\tFALSE\tFALSE\t\n",
      "14\tFALSE\tFALSE\t\n",
      "\n"
     ]
    }
   ],
   "source": [
    "# 定义氨基酸范围:\n",
    "from pyrosetta.rosetta.protocols.task_operations import SelectResiduesWithinChainOperation\n",
    "repacking_define = SelectResiduesWithinChainOperation()\n",
    "repacking_define.chain(1)  # 1,2,3 按照pose的顺序\n",
    "for i in [1,2,3,7,8,9]:\n",
    "    repacking_define.add_res(i) # which residues within the chain\n",
    "\n",
    "# 定义Pack状态:\n",
    "repacking_define.allow_design(False) \n",
    "repacking_define.allow_repacking(True)\n",
    "repacking_define.modify_unselected_residues(True)  # 是否对未选择区域设置为no_repack?（快速操作）\n",
    "\n",
    "# 将TaskOperations加载至TaskFactory中\n",
    "pack_tf = TaskFactory()\n",
    "pack_tf.push_back(repacking_define)\n",
    "\n",
    "# 生成PackerTask\n",
    "packer_task = pack_tf.create_task_and_apply_taskoperations(pose)\n",
    "print(packer_task)"
   ]
  },
  {
   "cell_type": "markdown",
   "id": "beginning-competition",
   "metadata": {},
   "source": [
    "#### 2.12 SelectBySASAOperation\n",
    "\n",
    "根据SASA值来选择蛋白质的Layer区域(core, surface, boundary)，并根据所在的layer决定氨基酸Rotamer的自由度。\n",
    "参数的解释: \n",
    "- mode: sc = 侧链SASA综合, mc = 主链+CB的SASA总和。\n",
    "- state: \"monomer\"(将每条链进行分离独立的pose进行计算), \"bound\"(不做额外处理), \"unbound\"(根据jump的设定,将几个链平移1000A后在进行评估SASA)\n",
    "- probe_radius: 默认2.2, 比1.4大，但是也能满足需求。\n",
    "- core_asa: 默认0, sasa小于该值，认为是core.\n",
    "- surface_asa: 默认30，sasa大于该值，认为是surface.\n",
    "- jumps: 默认1, 定义从哪条链开始视为jump点.如果mode设置为\"unbound\". 如果jump设置为2，那么chain1,2视为一体.\n",
    "- is_design_core: 该区域能否设计？\n",
    "- is_design_boundary: 该区域能否设计？\n",
    "- is_design_surface: 该区域能否设计？\n",
    "- sym_dof_names: 控制同源多聚体对称化操作, 输入对称性的定义变量名。"
   ]
  },
  {
   "cell_type": "code",
   "execution_count": 25,
   "id": "statewide-holly",
   "metadata": {},
   "outputs": [
    {
     "name": "stdout",
     "output_type": "stream",
     "text": [
      "#Packer_Task\n",
      "\n",
      "Threads to request: ALL AVAILABLE\n",
      "\n",
      "resid\tpack?\tdesign?\tallowed_aas\n",
      "1\tFALSE\tFALSE\t\n",
      "2\tFALSE\tFALSE\t\n",
      "3\tFALSE\tFALSE\t\n",
      "4\tFALSE\tFALSE\t\n",
      "5\tFALSE\tFALSE\t\n",
      "6\tTRUE\tTRUE\tALA,CYS,ASP,GLU,PHE,GLY,HIS,HIS_D,ILE,LYS,LEU,MET,ASN,PRO,GLN,ARG,SER,THR,VAL,TRP,TYR\n",
      "7\tFALSE\tFALSE\t\n",
      "8\tFALSE\tFALSE\t\n",
      "9\tFALSE\tFALSE\t\n",
      "10\tFALSE\tFALSE\t\n",
      "11\tFALSE\tFALSE\t\n",
      "12\tTRUE\tTRUE\tALA,CYS,ASP,GLU,PHE,GLY,HIS,HIS_D,ILE,LYS,LEU,MET,ASN,PRO,GLN,ARG,SER,THR,VAL,TRP,TYR\n",
      "13\tFALSE\tFALSE\t\n",
      "14\tFALSE\tFALSE\t\n",
      "15\tFALSE\tFALSE\t\n",
      "16\tFALSE\tFALSE\t\n",
      "17\tFALSE\tFALSE\t\n",
      "18\tFALSE\tFALSE\t\n",
      "19\tTRUE\tTRUE\tALA,CYS,ASP,GLU,PHE,GLY,HIS,HIS_D,ILE,LYS,LEU,MET,ASN,PRO,GLN,ARG,SER,THR,VAL,TRP,TYR\n",
      "20\tFALSE\tFALSE\t\n",
      "21\tFALSE\tFALSE\t\n",
      "22\tFALSE\tFALSE\t\n",
      "23\tFALSE\tFALSE\t\n",
      "24\tFALSE\tFALSE\t\n",
      "25\tFALSE\tFALSE\t\n",
      "26\tFALSE\tFALSE\t\n",
      "27\tFALSE\tFALSE\t\n",
      "28\tFALSE\tFALSE\t\n",
      "29\tFALSE\tFALSE\t\n",
      "30\tFALSE\tFALSE\t\n",
      "31\tFALSE\tFALSE\t\n",
      "32\tFALSE\tFALSE\t\n",
      "33\tFALSE\tFALSE\t\n",
      "34\tFALSE\tFALSE\t\n",
      "35\tTRUE\tTRUE\tALA,CYS,ASP,GLU,PHE,GLY,HIS,HIS_D,ILE,LYS,LEU,MET,ASN,PRO,GLN,ARG,SER,THR,VAL,TRP,TYR\n",
      "36\tFALSE\tFALSE\t\n",
      "37\tTRUE\tTRUE\tALA,CYS,ASP,GLU,PHE,GLY,HIS,HIS_D,ILE,LYS,LEU,MET,ASN,PRO,GLN,ARG,SER,THR,VAL,TRP,TYR\n",
      "38\tFALSE\tFALSE\t\n",
      "39\tTRUE\tTRUE\tALA,CYS,ASP,GLU,PHE,GLY,HIS,HIS_D,ILE,LYS,LEU,MET,ASN,PRO,GLN,ARG,SER,THR,VAL,TRP,TYR\n",
      "40\tFALSE\tFALSE\t\n",
      "\n"
     ]
    }
   ],
   "source": [
    "# 定义参数:\n",
    "from pyrosetta.rosetta.protocols.task_operations import SelectBySASAOperation\n",
    "mode=\"mc\"\n",
    "state=\"bound\"\n",
    "probe_radius=2.0\n",
    "core_asa=20\n",
    "surface_asa=40\n",
    "jump = '1'\n",
    "sym_dof_names = '' # 对称化自由度的代号                                  \n",
    "core = True     \n",
    "boundary = False\n",
    "surface = False\n",
    "select_sasa = SelectBySASAOperation(mode, state, probe_radius, core_asa, surface_asa, jump, sym_dof_names, core, boundary, surface)\n",
    "\n",
    "# 将TaskOperations加载至TaskFactory中\n",
    "pack_tf = TaskFactory()\n",
    "pack_tf.push_back(select_sasa)\n",
    "\n",
    "# 生成PackerTask\n",
    "packer_task = pack_tf.create_task_and_apply_taskoperations(denovo_pose)\n",
    "print(packer_task)"
   ]
  },
  {
   "cell_type": "markdown",
   "id": "natural-directory",
   "metadata": {},
   "source": [
    "此处，蛋白质的core部分是被允许进行设计的。"
   ]
  },
  {
   "cell_type": "markdown",
   "id": "subsequent-termination",
   "metadata": {},
   "source": [
    "#### 2.13 RestrictToTermini\n",
    "在指定的Pose链中，只允许N端第一个残基或C端最后一个残基进行repack。"
   ]
  },
  {
   "cell_type": "code",
   "execution_count": 26,
   "id": "korean-distribution",
   "metadata": {},
   "outputs": [
    {
     "name": "stdout",
     "output_type": "stream",
     "text": [
      "#Packer_Task\n",
      "\n",
      "Threads to request: ALL AVAILABLE\n",
      "\n",
      "resid\tpack?\tdesign?\tallowed_aas\n",
      "1\tTRUE\tFALSE\tASP:NtermProteinFull\n",
      "2\tFALSE\tFALSE\t\n",
      "3\tFALSE\tFALSE\t\n",
      "4\tFALSE\tFALSE\t\n",
      "5\tFALSE\tFALSE\t\n",
      "6\tFALSE\tFALSE\t\n",
      "7\tFALSE\tFALSE\t\n",
      "8\tFALSE\tFALSE\t\n",
      "9\tFALSE\tFALSE\t\n",
      "10\tFALSE\tFALSE\t\n",
      "11\tFALSE\tFALSE\t\n",
      "12\tFALSE\tFALSE\t\n",
      "13\tFALSE\tFALSE\t\n",
      "14\tTRUE\tFALSE\tGLY:CtermProteinFull\n",
      "\n"
     ]
    }
   ],
   "source": [
    "from pyrosetta.rosetta.protocols.task_operations import RestrictToTerminiOperation\n",
    "nc_repack = RestrictToTerminiOperation(chain=1, restrict_n_terminus=True, restrict_c_terminus=True)\n",
    "\n",
    "# 将TaskOperations加载至TaskFactory中\n",
    "pack_tf = TaskFactory()\n",
    "pack_tf.push_back(nc_repack)\n",
    "\n",
    "# 生成PackerTask\n",
    "packer_task = pack_tf.create_task_and_apply_taskoperations(pose)\n",
    "print(packer_task)"
   ]
  },
  {
   "cell_type": "markdown",
   "id": "alpine-lounge",
   "metadata": {},
   "source": [
    "### *3 Interface/Neighborhood Specifications"
   ]
  },
  {
   "cell_type": "markdown",
   "id": "broad-dover",
   "metadata": {},
   "source": [
    "#### 3.1 DesignAround\n",
    "最早的region_shell机制的TaskOperations，根据指定的氨基酸位点来确定Design shell和repack shell半径。处于相应shell中的氨基酸Rotamer状态设置为Design或Repacking。其余剩下部分均设置为no_repack。"
   ]
  },
  {
   "cell_type": "code",
   "execution_count": 27,
   "id": "opening-presence",
   "metadata": {},
   "outputs": [
    {
     "name": "stdout",
     "output_type": "stream",
     "text": [
      "#Packer_Task\n",
      "\n",
      "Threads to request: ALL AVAILABLE\n",
      "\n",
      "resid\tpack?\tdesign?\tallowed_aas\n",
      "1\tTRUE\tFALSE\tASP:NtermProteinFull\n",
      "2\tFALSE\tFALSE\t\n",
      "3\tTRUE\tTRUE\tALA,CYS,ASP,GLU,PHE,GLY,HIS,HIS_D,ILE,LYS,LEU,MET,ASN,PRO,GLN,ARG,SER,THR,VAL,TRP,TYR\n",
      "4\tTRUE\tTRUE\tALA,CYS,ASP,GLU,PHE,GLY,HIS,HIS_D,ILE,LYS,LEU,MET,ASN,PRO,GLN,ARG,SER,THR,VAL,TRP,TYR\n",
      "5\tTRUE\tFALSE\tLYS\n",
      "6\tTRUE\tTRUE\tALA,CYS,ASP,GLU,PHE,GLY,HIS,HIS_D,ILE,LYS,LEU,MET,ASN,PRO,GLN,ARG,SER,THR,VAL,TRP,TYR\n",
      "7\tTRUE\tTRUE\tALA,CYS,ASP,GLU,PHE,GLY,HIS,HIS_D,ILE,LYS,LEU,MET,ASN,PRO,GLN,ARG,SER,THR,VAL,TRP,TYR\n",
      "8\tTRUE\tTRUE\tALA,CYS,ASP,GLU,PHE,GLY,HIS,HIS_D,ILE,LYS,LEU,MET,ASN,PRO,GLN,ARG,SER,THR,VAL,TRP,TYR\n",
      "9\tTRUE\tFALSE\tGLN\n",
      "10\tTRUE\tTRUE\tALA,CYS,ASP,GLU,PHE,GLY,HIS,HIS_D,ILE,LYS,LEU,MET,ASN,PRO,GLN,ARG,SER,THR,VAL,TRP,TYR\n",
      "11\tTRUE\tTRUE\tALA,CYS,ASP,GLU,PHE,GLY,HIS,HIS_D,ILE,LYS,LEU,MET,ASN,PRO,GLN,ARG,SER,THR,VAL,TRP,TYR\n",
      "12\tTRUE\tFALSE\tARG\n",
      "13\tFALSE\tFALSE\t\n",
      "14\tFALSE\tFALSE\t\n",
      "\n"
     ]
    }
   ],
   "source": [
    "from pyrosetta.rosetta.protocols.task_operations import DesignAroundOperation\n",
    "# 设定指定热点残基\n",
    "around = DesignAroundOperation ()\n",
    "for i in [7]:\n",
    "    around.include_residue(i)\n",
    "\n",
    "around.design_shell(7.0) # design层半径（不包括指定的残基）\n",
    "around.repack_shell(10.0) # repack层半径, 大于等于epack_shell（不包括指定的残基）\n",
    "around.resnums_allow_design(1) # 只允许指定的resnum list中氨基酸进行设计；\n",
    "around.allow_design(1) # 允许Desgin层进行设计;\n",
    "\n",
    "# 将TaskOperations加载至TaskFactory中\n",
    "pack_tf = TaskFactory()\n",
    "pack_tf.push_back(around)\n",
    "\n",
    "# 生成PackerTask\n",
    "packer_task = pack_tf.create_task_and_apply_taskoperations(pose)\n",
    "print(packer_task)"
   ]
  },
  {
   "cell_type": "markdown",
   "id": "increased-slovenia",
   "metadata": {},
   "source": [
    "#### 3.2 DetectProteinLigandInterface"
   ]
  },
  {
   "cell_type": "code",
   "execution_count": null,
   "id": "consecutive-virtue",
   "metadata": {},
   "outputs": [],
   "source": []
  },
  {
   "cell_type": "markdown",
   "id": "chief-uniform",
   "metadata": {},
   "source": [
    "#### 3.3 ProteinInterfaceDesign\n",
    "该Operation只关注蛋白-蛋白PPI界面上的只有设置(默认8A)，非界面处的残基将会被设置为no_repack。并且默认会排除氨基酸设计为C, G, P三种不利的氨基酸。"
   ]
  },
  {
   "cell_type": "code",
   "execution_count": 28,
   "id": "compact-domain",
   "metadata": {},
   "outputs": [
    {
     "name": "stdout",
     "output_type": "stream",
     "text": [
      "\u001b[0mcore.import_pose.import_pose: {0} \u001b[0mFile './data/6yek.pdb' automatically determined to be of type PDB\n",
      "\u001b[0mcore.conformation.Conformation: {0} \u001b[0m\u001b[1m[ WARNING ]\u001b[0m missing heavyatom:  OXT on residue ALA:CtermProteinFull 24\n",
      "\u001b[0mcore.conformation.Conformation: {0} \u001b[0m\u001b[1m[ WARNING ]\u001b[0m missing heavyatom:  OXT on residue ALA:CtermProteinFull 48\n",
      "PDB file name: ./data/6yek.pdb\n",
      " Pose Range  Chain    PDB Range  |   #Residues         #Atoms\n",
      "\n",
      "0001 -- 0024    A 0300  -- 0323  |   0024 residues;    00396 atoms\n",
      "0025 -- 0048    B 0300  -- 0323  |   0024 residues;    00396 atoms\n",
      "                           TOTAL |   0048 residues;    00792 atoms\n",
      "\n"
     ]
    }
   ],
   "source": [
    "from pyrosetta.rosetta.protocols.task_operations import ProteinInterfaceDesignOperation\n",
    "# 加载一个dimmer的coil coil结构:\n",
    "interface_pose = pose_from_pdb('./data/6yek.pdb')\n",
    "print(interface_pose.pdb_info())  # 查看链信息"
   ]
  },
  {
   "cell_type": "code",
   "execution_count": 29,
   "id": "furnished-software",
   "metadata": {},
   "outputs": [
    {
     "name": "stdout",
     "output_type": "stream",
     "text": [
      "#Packer_Task\n",
      "\n",
      "Threads to request: ALL AVAILABLE\n",
      "\n",
      "resid\tpack?\tdesign?\tallowed_aas\n",
      "1\tFALSE\tFALSE\t\n",
      "2\tTRUE\tTRUE\tALA,ASP,GLU,PHE,HIS,HIS_D,ILE,LYS,LEU,MET,ASN,GLN,ARG,SER,THR,VAL,TRP,TYR\n",
      "3\tTRUE\tTRUE\tALA,ASP,GLU,PHE,HIS,HIS_D,ILE,LYS,LEU,MET,ASN,GLN,ARG,SER,THR,VAL,TRP,TYR\n",
      "4\tFALSE\tFALSE\t\n",
      "5\tTRUE\tTRUE\tALA,ASP,GLU,PHE,HIS,HIS_D,ILE,LYS,LEU,MET,ASN,GLN,ARG,SER,THR,VAL,TRP,TYR\n",
      "6\tTRUE\tTRUE\tALA,ASP,GLU,PHE,HIS,HIS_D,ILE,LYS,LEU,MET,ASN,GLN,ARG,SER,THR,VAL,TRP,TYR\n",
      "7\tTRUE\tTRUE\tALA,ASP,GLU,PHE,HIS,HIS_D,ILE,LYS,LEU,MET,ASN,GLN,ARG,SER,THR,VAL,TRP,TYR\n",
      "8\tFALSE\tFALSE\t\n",
      "9\tTRUE\tTRUE\tALA,ASP,GLU,PHE,HIS,HIS_D,ILE,LYS,LEU,MET,ASN,GLN,ARG,SER,THR,VAL,TRP,TYR\n",
      "10\tTRUE\tTRUE\tALA,ASP,GLU,PHE,HIS,HIS_D,ILE,LYS,LEU,MET,ASN,GLN,ARG,SER,THR,VAL,TRP,TYR\n",
      "11\tFALSE\tFALSE\t\n",
      "12\tTRUE\tTRUE\tALA,ASP,GLU,PHE,HIS,HIS_D,ILE,LYS,LEU,MET,ASN,GLN,ARG,SER,THR,VAL,TRP,TYR\n",
      "13\tTRUE\tTRUE\tALA,ASP,GLU,PHE,HIS,HIS_D,ILE,LYS,LEU,MET,ASN,GLN,ARG,SER,THR,VAL,TRP,TYR\n",
      "14\tFALSE\tFALSE\t\n",
      "15\tFALSE\tFALSE\t\n",
      "16\tTRUE\tTRUE\tALA,ASP,GLU,PHE,HIS,HIS_D,ILE,LYS,LEU,MET,ASN,GLN,ARG,SER,THR,VAL,TRP,TYR\n",
      "17\tTRUE\tTRUE\tALA,ASP,GLU,PHE,HIS,HIS_D,ILE,LYS,LEU,MET,ASN,GLN,ARG,SER,THR,VAL,TRP,TYR\n",
      "18\tFALSE\tFALSE\t\n",
      "19\tTRUE\tTRUE\tALA,ASP,GLU,PHE,HIS,HIS_D,ILE,LYS,LEU,MET,ASN,GLN,ARG,SER,THR,VAL,TRP,TYR\n",
      "20\tTRUE\tTRUE\tALA,ASP,GLU,PHE,HIS,HIS_D,ILE,LYS,LEU,MET,ASN,GLN,ARG,SER,THR,VAL,TRP,TYR\n",
      "21\tFALSE\tFALSE\t\n",
      "22\tFALSE\tFALSE\t\n",
      "23\tTRUE\tTRUE\tALA,ASP,GLU,PHE,HIS,HIS_D,ILE,LYS,LEU,MET,ASN,GLN,ARG,SER,THR,VAL,TRP,TYR\n",
      "24\tTRUE\tTRUE\tALA:CtermProteinFull,ASP:CtermProteinFull,GLU:CtermProteinFull,PHE:CtermProteinFull,HIS:CtermProteinFull,HIS_D:CtermProteinFull,ILE:CtermProteinFull,LYS:CtermProteinFull,LEU:CtermProteinFull,MET:CtermProteinFull,ASN:CtermProteinFull,GLN:CtermProteinFull,ARG:CtermProteinFull,SER:CtermProteinFull,THR:CtermProteinFull,VAL:CtermProteinFull,TRP:CtermProteinFull,TYR:CtermProteinFull\n",
      "25\tFALSE\tFALSE\t\n",
      "26\tTRUE\tFALSE\tLEU\n",
      "27\tTRUE\tFALSE\tLYS\n",
      "28\tFALSE\tFALSE\t\n",
      "29\tTRUE\tFALSE\tGLN\n",
      "30\tTRUE\tFALSE\tALA\n",
      "31\tFALSE\tFALSE\t\n",
      "32\tFALSE\tFALSE\t\n",
      "33\tTRUE\tFALSE\tTYR\n",
      "34\tTRUE\tFALSE\tLYS\n",
      "35\tFALSE\tFALSE\t\n",
      "36\tTRUE\tFALSE\tASP\n",
      "37\tTRUE\tFALSE\tPHE\n",
      "38\tFALSE\tFALSE\t\n",
      "39\tFALSE\tFALSE\t\n",
      "40\tTRUE\tFALSE\tGLU\n",
      "41\tTRUE\tFALSE\tARG\n",
      "42\tFALSE\tFALSE\t\n",
      "43\tTRUE\tFALSE\tALA\n",
      "44\tTRUE\tFALSE\tARG\n",
      "45\tFALSE\tFALSE\t\n",
      "46\tFALSE\tFALSE\t\n",
      "47\tTRUE\tFALSE\tLEU\n",
      "48\tTRUE\tFALSE\tALA:CtermProteinFull\n",
      "\n"
     ]
    }
   ],
   "source": [
    "# 此案例以chain1可以被设计，chain2只能repacking作为逻辑。\n",
    "interface_design = ProteinInterfaceDesignOperation()\n",
    "interface_design.jump(1) # jump点设置.之前的认定为chain1，之后的为chain2。2条链以上需要设置！\n",
    "interface_design.interface_distance_cutoff(8.0)\n",
    "interface_design.repack_chain1(True)  # 是否允许chain1 repack\n",
    "interface_design.repack_chain2(True)  # 是否允许chain2 repack\n",
    "interface_design.design_chain1(True)  # 是否允许chain1 design\n",
    "interface_design.design_chain2(False)  # 是否允许chain design\n",
    "interface_design.allow_all_aas(False) # allow all amino acids to be designed at all positions, do not exclude C, G, P\n",
    "\n",
    "# 将TaskOperations加载至TaskFactory中\n",
    "pack_tf = TaskFactory()\n",
    "pack_tf.push_back(interface_design)\n",
    "\n",
    "# 生成PackerTask\n",
    "packer_task = pack_tf.create_task_and_apply_taskoperations(interface_pose)\n",
    "print(packer_task)"
   ]
  },
  {
   "cell_type": "markdown",
   "id": "fancy-bandwidth",
   "metadata": {},
   "source": [
    "#### 3.4 RestrictToInterface\n",
    "根据jump点和截断半斤的设置，将蛋白-蛋白界面进行design，非界面区全部设置为no_repack。如果需要控制其中的自由度，还需要引入其他的TaskOperations，没有ProteinInterfaceDesign自定义程度达。"
   ]
  },
  {
   "cell_type": "code",
   "execution_count": 30,
   "id": "adaptive-advertising",
   "metadata": {},
   "outputs": [
    {
     "name": "stdout",
     "output_type": "stream",
     "text": [
      "#Packer_Task\n",
      "\n",
      "Threads to request: ALL AVAILABLE\n",
      "\n",
      "resid\tpack?\tdesign?\tallowed_aas\n",
      "1\tFALSE\tFALSE\t\n",
      "2\tTRUE\tTRUE\tALA,CYS,ASP,GLU,PHE,GLY,HIS,HIS_D,ILE,LYS,LEU,MET,ASN,PRO,GLN,ARG,SER,THR,VAL,TRP,TYR\n",
      "3\tTRUE\tTRUE\tALA,CYS,ASP,GLU,PHE,GLY,HIS,HIS_D,ILE,LYS,LEU,MET,ASN,PRO,GLN,ARG,SER,THR,VAL,TRP,TYR\n",
      "4\tFALSE\tFALSE\t\n",
      "5\tTRUE\tTRUE\tALA,CYS,ASP,GLU,PHE,GLY,HIS,HIS_D,ILE,LYS,LEU,MET,ASN,PRO,GLN,ARG,SER,THR,VAL,TRP,TYR\n",
      "6\tTRUE\tTRUE\tALA,CYS,ASP,GLU,PHE,GLY,HIS,HIS_D,ILE,LYS,LEU,MET,ASN,PRO,GLN,ARG,SER,THR,VAL,TRP,TYR\n",
      "7\tTRUE\tTRUE\tALA,CYS,ASP,GLU,PHE,GLY,HIS,HIS_D,ILE,LYS,LEU,MET,ASN,PRO,GLN,ARG,SER,THR,VAL,TRP,TYR\n",
      "8\tFALSE\tFALSE\t\n",
      "9\tTRUE\tTRUE\tALA,CYS,ASP,GLU,PHE,GLY,HIS,HIS_D,ILE,LYS,LEU,MET,ASN,PRO,GLN,ARG,SER,THR,VAL,TRP,TYR\n",
      "10\tTRUE\tTRUE\tALA,CYS,ASP,GLU,PHE,GLY,HIS,HIS_D,ILE,LYS,LEU,MET,ASN,PRO,GLN,ARG,SER,THR,VAL,TRP,TYR\n",
      "11\tFALSE\tFALSE\t\n",
      "12\tTRUE\tTRUE\tALA,CYS,ASP,GLU,PHE,GLY,HIS,HIS_D,ILE,LYS,LEU,MET,ASN,PRO,GLN,ARG,SER,THR,VAL,TRP,TYR\n",
      "13\tTRUE\tTRUE\tALA,CYS,ASP,GLU,PHE,GLY,HIS,HIS_D,ILE,LYS,LEU,MET,ASN,PRO,GLN,ARG,SER,THR,VAL,TRP,TYR\n",
      "14\tFALSE\tFALSE\t\n",
      "15\tFALSE\tFALSE\t\n",
      "16\tTRUE\tTRUE\tALA,CYS,ASP,GLU,PHE,GLY,HIS,HIS_D,ILE,LYS,LEU,MET,ASN,PRO,GLN,ARG,SER,THR,VAL,TRP,TYR\n",
      "17\tTRUE\tTRUE\tALA,CYS,ASP,GLU,PHE,GLY,HIS,HIS_D,ILE,LYS,LEU,MET,ASN,PRO,GLN,ARG,SER,THR,VAL,TRP,TYR\n",
      "18\tFALSE\tFALSE\t\n",
      "19\tTRUE\tTRUE\tALA,CYS,ASP,GLU,PHE,GLY,HIS,HIS_D,ILE,LYS,LEU,MET,ASN,PRO,GLN,ARG,SER,THR,VAL,TRP,TYR\n",
      "20\tTRUE\tTRUE\tALA,CYS,ASP,GLU,PHE,GLY,HIS,HIS_D,ILE,LYS,LEU,MET,ASN,PRO,GLN,ARG,SER,THR,VAL,TRP,TYR\n",
      "21\tFALSE\tFALSE\t\n",
      "22\tFALSE\tFALSE\t\n",
      "23\tTRUE\tTRUE\tALA,CYS,ASP,GLU,PHE,GLY,HIS,HIS_D,ILE,LYS,LEU,MET,ASN,PRO,GLN,ARG,SER,THR,VAL,TRP,TYR\n",
      "24\tTRUE\tTRUE\tALA:CtermProteinFull,CYS:CtermProteinFull,ASP:CtermProteinFull,GLU:CtermProteinFull,PHE:CtermProteinFull,GLY:CtermProteinFull,HIS:CtermProteinFull,HIS_D:CtermProteinFull,ILE:CtermProteinFull,LYS:CtermProteinFull,LEU:CtermProteinFull,MET:CtermProteinFull,ASN:CtermProteinFull,PRO:CtermProteinFull,GLN:CtermProteinFull,ARG:CtermProteinFull,SER:CtermProteinFull,THR:CtermProteinFull,VAL:CtermProteinFull,TRP:CtermProteinFull,TYR:CtermProteinFull\n",
      "25\tFALSE\tFALSE\t\n",
      "26\tTRUE\tTRUE\tALA,CYS,ASP,GLU,PHE,GLY,HIS,HIS_D,ILE,LYS,LEU,MET,ASN,PRO,GLN,ARG,SER,THR,VAL,TRP,TYR\n",
      "27\tTRUE\tTRUE\tALA,CYS,ASP,GLU,PHE,GLY,HIS,HIS_D,ILE,LYS,LEU,MET,ASN,PRO,GLN,ARG,SER,THR,VAL,TRP,TYR\n",
      "28\tFALSE\tFALSE\t\n",
      "29\tTRUE\tTRUE\tALA,CYS,ASP,GLU,PHE,GLY,HIS,HIS_D,ILE,LYS,LEU,MET,ASN,PRO,GLN,ARG,SER,THR,VAL,TRP,TYR\n",
      "30\tTRUE\tTRUE\tALA,CYS,ASP,GLU,PHE,GLY,HIS,HIS_D,ILE,LYS,LEU,MET,ASN,PRO,GLN,ARG,SER,THR,VAL,TRP,TYR\n",
      "31\tFALSE\tFALSE\t\n",
      "32\tFALSE\tFALSE\t\n",
      "33\tTRUE\tTRUE\tALA,CYS,ASP,GLU,PHE,GLY,HIS,HIS_D,ILE,LYS,LEU,MET,ASN,PRO,GLN,ARG,SER,THR,VAL,TRP,TYR\n",
      "34\tTRUE\tTRUE\tALA,CYS,ASP,GLU,PHE,GLY,HIS,HIS_D,ILE,LYS,LEU,MET,ASN,PRO,GLN,ARG,SER,THR,VAL,TRP,TYR\n",
      "35\tFALSE\tFALSE\t\n",
      "36\tTRUE\tTRUE\tALA,CYS,ASP,GLU,PHE,GLY,HIS,HIS_D,ILE,LYS,LEU,MET,ASN,PRO,GLN,ARG,SER,THR,VAL,TRP,TYR\n",
      "37\tTRUE\tTRUE\tALA,CYS,ASP,GLU,PHE,GLY,HIS,HIS_D,ILE,LYS,LEU,MET,ASN,PRO,GLN,ARG,SER,THR,VAL,TRP,TYR\n",
      "38\tFALSE\tFALSE\t\n",
      "39\tFALSE\tFALSE\t\n",
      "40\tTRUE\tTRUE\tALA,CYS,ASP,GLU,PHE,GLY,HIS,HIS_D,ILE,LYS,LEU,MET,ASN,PRO,GLN,ARG,SER,THR,VAL,TRP,TYR\n",
      "41\tTRUE\tTRUE\tALA,CYS,ASP,GLU,PHE,GLY,HIS,HIS_D,ILE,LYS,LEU,MET,ASN,PRO,GLN,ARG,SER,THR,VAL,TRP,TYR\n",
      "42\tFALSE\tFALSE\t\n",
      "43\tTRUE\tTRUE\tALA,CYS,ASP,GLU,PHE,GLY,HIS,HIS_D,ILE,LYS,LEU,MET,ASN,PRO,GLN,ARG,SER,THR,VAL,TRP,TYR\n",
      "44\tTRUE\tTRUE\tALA,CYS,ASP,GLU,PHE,GLY,HIS,HIS_D,ILE,LYS,LEU,MET,ASN,PRO,GLN,ARG,SER,THR,VAL,TRP,TYR\n",
      "45\tFALSE\tFALSE\t\n",
      "46\tFALSE\tFALSE\t\n",
      "47\tTRUE\tTRUE\tALA,CYS,ASP,GLU,PHE,GLY,HIS,HIS_D,ILE,LYS,LEU,MET,ASN,PRO,GLN,ARG,SER,THR,VAL,TRP,TYR\n",
      "48\tTRUE\tTRUE\tALA:CtermProteinFull,CYS:CtermProteinFull,ASP:CtermProteinFull,GLU:CtermProteinFull,PHE:CtermProteinFull,GLY:CtermProteinFull,HIS:CtermProteinFull,HIS_D:CtermProteinFull,ILE:CtermProteinFull,LYS:CtermProteinFull,LEU:CtermProteinFull,MET:CtermProteinFull,ASN:CtermProteinFull,PRO:CtermProteinFull,GLN:CtermProteinFull,ARG:CtermProteinFull,SER:CtermProteinFull,THR:CtermProteinFull,VAL:CtermProteinFull,TRP:CtermProteinFull,TYR:CtermProteinFull\n",
      "\n"
     ]
    }
   ],
   "source": [
    "from pyrosetta.rosetta.protocols.simple_task_operations import RestrictToInterface\n",
    "Design_interface = RestrictToInterface(rb_jump_in=1, distance_in=8)\n",
    "\n",
    "# 将TaskOperations加载至TaskFactory中\n",
    "pack_tf = TaskFactory()\n",
    "pack_tf.push_back(Design_interface)\n",
    "\n",
    "# 生成PackerTask\n",
    "packer_task = pack_tf.create_task_and_apply_taskoperations(interface_pose)\n",
    "print(packer_task)"
   ]
  },
  {
   "cell_type": "markdown",
   "id": "handled-sunglasses",
   "metadata": {},
   "source": [
    "#### 3.5 RestrictToInterfaceVectorOperation\n",
    "使用向量法计算界面。首先根据CB_dist_cutoff的距离判断出一个大致的shell区域，然后根据遍历每个残基侧链原子与其他氨基酸的原子距离，确认是否都小于nearby_atom_cutoff，如果满足条件，那么这些都是interface的残基。如果剩余的残基没有通过第一个标准，将使用第二个标准进行判断，计算残基的CA-CB原子向量以及CB原子与Interface上其他原子CB的向量(CB-CB)，这两个向量的夹角如何小于vector_angle_cutoff。那么这些残基也是Interface上的残基，并且这些两个向量的距离不得大于vector_dist_cutoff。\n",
    "\n",
    "- CB_dist_cutoff: CB-CB距离(range:8.0~15.0)\n",
    "- nearby_atom_cutoff: CA-CB距离(range:4.0~8.0)\n",
    "- vector_angle_cutoff: CA-CB、CB-CB向量的点乘. 向量的角度截断(range:60~90)\n",
    "- vector_dist_cutoff: CA-CB、CB-CB向量距离的限制 (range:7.0~12.0)"
   ]
  },
  {
   "cell_type": "code",
   "execution_count": 31,
   "id": "relative-translator",
   "metadata": {},
   "outputs": [
    {
     "name": "stdout",
     "output_type": "stream",
     "text": [
      "#Packer_Task\n",
      "\n",
      "Threads to request: ALL AVAILABLE\n",
      "\n",
      "resid\tpack?\tdesign?\tallowed_aas\n",
      "1\tFALSE\tFALSE\t\n",
      "2\tTRUE\tTRUE\tALA,CYS,ASP,GLU,PHE,GLY,HIS,HIS_D,ILE,LYS,LEU,MET,ASN,PRO,GLN,ARG,SER,THR,VAL,TRP,TYR\n",
      "3\tTRUE\tTRUE\tALA,CYS,ASP,GLU,PHE,GLY,HIS,HIS_D,ILE,LYS,LEU,MET,ASN,PRO,GLN,ARG,SER,THR,VAL,TRP,TYR\n",
      "4\tFALSE\tFALSE\t\n",
      "5\tTRUE\tTRUE\tALA,CYS,ASP,GLU,PHE,GLY,HIS,HIS_D,ILE,LYS,LEU,MET,ASN,PRO,GLN,ARG,SER,THR,VAL,TRP,TYR\n",
      "6\tTRUE\tTRUE\tALA,CYS,ASP,GLU,PHE,GLY,HIS,HIS_D,ILE,LYS,LEU,MET,ASN,PRO,GLN,ARG,SER,THR,VAL,TRP,TYR\n",
      "7\tFALSE\tFALSE\t\n",
      "8\tFALSE\tFALSE\t\n",
      "9\tTRUE\tTRUE\tALA,CYS,ASP,GLU,PHE,GLY,HIS,HIS_D,ILE,LYS,LEU,MET,ASN,PRO,GLN,ARG,SER,THR,VAL,TRP,TYR\n",
      "10\tTRUE\tTRUE\tALA,CYS,ASP,GLU,PHE,GLY,HIS,HIS_D,ILE,LYS,LEU,MET,ASN,PRO,GLN,ARG,SER,THR,VAL,TRP,TYR\n",
      "11\tFALSE\tFALSE\t\n",
      "12\tTRUE\tTRUE\tALA,CYS,ASP,GLU,PHE,GLY,HIS,HIS_D,ILE,LYS,LEU,MET,ASN,PRO,GLN,ARG,SER,THR,VAL,TRP,TYR\n",
      "13\tTRUE\tTRUE\tALA,CYS,ASP,GLU,PHE,GLY,HIS,HIS_D,ILE,LYS,LEU,MET,ASN,PRO,GLN,ARG,SER,THR,VAL,TRP,TYR\n",
      "14\tFALSE\tFALSE\t\n",
      "15\tFALSE\tFALSE\t\n",
      "16\tTRUE\tTRUE\tALA,CYS,ASP,GLU,PHE,GLY,HIS,HIS_D,ILE,LYS,LEU,MET,ASN,PRO,GLN,ARG,SER,THR,VAL,TRP,TYR\n",
      "17\tTRUE\tTRUE\tALA,CYS,ASP,GLU,PHE,GLY,HIS,HIS_D,ILE,LYS,LEU,MET,ASN,PRO,GLN,ARG,SER,THR,VAL,TRP,TYR\n",
      "18\tFALSE\tFALSE\t\n",
      "19\tTRUE\tTRUE\tALA,CYS,ASP,GLU,PHE,GLY,HIS,HIS_D,ILE,LYS,LEU,MET,ASN,PRO,GLN,ARG,SER,THR,VAL,TRP,TYR\n",
      "20\tTRUE\tTRUE\tALA,CYS,ASP,GLU,PHE,GLY,HIS,HIS_D,ILE,LYS,LEU,MET,ASN,PRO,GLN,ARG,SER,THR,VAL,TRP,TYR\n",
      "21\tFALSE\tFALSE\t\n",
      "22\tFALSE\tFALSE\t\n",
      "23\tTRUE\tTRUE\tALA,CYS,ASP,GLU,PHE,GLY,HIS,HIS_D,ILE,LYS,LEU,MET,ASN,PRO,GLN,ARG,SER,THR,VAL,TRP,TYR\n",
      "24\tTRUE\tTRUE\tALA:CtermProteinFull,CYS:CtermProteinFull,ASP:CtermProteinFull,GLU:CtermProteinFull,PHE:CtermProteinFull,GLY:CtermProteinFull,HIS:CtermProteinFull,HIS_D:CtermProteinFull,ILE:CtermProteinFull,LYS:CtermProteinFull,LEU:CtermProteinFull,MET:CtermProteinFull,ASN:CtermProteinFull,PRO:CtermProteinFull,GLN:CtermProteinFull,ARG:CtermProteinFull,SER:CtermProteinFull,THR:CtermProteinFull,VAL:CtermProteinFull,TRP:CtermProteinFull,TYR:CtermProteinFull\n",
      "25\tFALSE\tFALSE\t\n",
      "26\tTRUE\tTRUE\tALA,CYS,ASP,GLU,PHE,GLY,HIS,HIS_D,ILE,LYS,LEU,MET,ASN,PRO,GLN,ARG,SER,THR,VAL,TRP,TYR\n",
      "27\tTRUE\tTRUE\tALA,CYS,ASP,GLU,PHE,GLY,HIS,HIS_D,ILE,LYS,LEU,MET,ASN,PRO,GLN,ARG,SER,THR,VAL,TRP,TYR\n",
      "28\tFALSE\tFALSE\t\n",
      "29\tTRUE\tTRUE\tALA,CYS,ASP,GLU,PHE,GLY,HIS,HIS_D,ILE,LYS,LEU,MET,ASN,PRO,GLN,ARG,SER,THR,VAL,TRP,TYR\n",
      "30\tTRUE\tTRUE\tALA,CYS,ASP,GLU,PHE,GLY,HIS,HIS_D,ILE,LYS,LEU,MET,ASN,PRO,GLN,ARG,SER,THR,VAL,TRP,TYR\n",
      "31\tFALSE\tFALSE\t\n",
      "32\tFALSE\tFALSE\t\n",
      "33\tTRUE\tTRUE\tALA,CYS,ASP,GLU,PHE,GLY,HIS,HIS_D,ILE,LYS,LEU,MET,ASN,PRO,GLN,ARG,SER,THR,VAL,TRP,TYR\n",
      "34\tTRUE\tTRUE\tALA,CYS,ASP,GLU,PHE,GLY,HIS,HIS_D,ILE,LYS,LEU,MET,ASN,PRO,GLN,ARG,SER,THR,VAL,TRP,TYR\n",
      "35\tFALSE\tFALSE\t\n",
      "36\tTRUE\tTRUE\tALA,CYS,ASP,GLU,PHE,GLY,HIS,HIS_D,ILE,LYS,LEU,MET,ASN,PRO,GLN,ARG,SER,THR,VAL,TRP,TYR\n",
      "37\tTRUE\tTRUE\tALA,CYS,ASP,GLU,PHE,GLY,HIS,HIS_D,ILE,LYS,LEU,MET,ASN,PRO,GLN,ARG,SER,THR,VAL,TRP,TYR\n",
      "38\tFALSE\tFALSE\t\n",
      "39\tFALSE\tFALSE\t\n",
      "40\tTRUE\tTRUE\tALA,CYS,ASP,GLU,PHE,GLY,HIS,HIS_D,ILE,LYS,LEU,MET,ASN,PRO,GLN,ARG,SER,THR,VAL,TRP,TYR\n",
      "41\tTRUE\tTRUE\tALA,CYS,ASP,GLU,PHE,GLY,HIS,HIS_D,ILE,LYS,LEU,MET,ASN,PRO,GLN,ARG,SER,THR,VAL,TRP,TYR\n",
      "42\tFALSE\tFALSE\t\n",
      "43\tTRUE\tTRUE\tALA,CYS,ASP,GLU,PHE,GLY,HIS,HIS_D,ILE,LYS,LEU,MET,ASN,PRO,GLN,ARG,SER,THR,VAL,TRP,TYR\n",
      "44\tTRUE\tTRUE\tALA,CYS,ASP,GLU,PHE,GLY,HIS,HIS_D,ILE,LYS,LEU,MET,ASN,PRO,GLN,ARG,SER,THR,VAL,TRP,TYR\n",
      "45\tFALSE\tFALSE\t\n",
      "46\tFALSE\tFALSE\t\n",
      "47\tTRUE\tTRUE\tALA,CYS,ASP,GLU,PHE,GLY,HIS,HIS_D,ILE,LYS,LEU,MET,ASN,PRO,GLN,ARG,SER,THR,VAL,TRP,TYR\n",
      "48\tTRUE\tTRUE\tALA:CtermProteinFull,CYS:CtermProteinFull,ASP:CtermProteinFull,GLU:CtermProteinFull,PHE:CtermProteinFull,GLY:CtermProteinFull,HIS:CtermProteinFull,HIS_D:CtermProteinFull,ILE:CtermProteinFull,LYS:CtermProteinFull,LEU:CtermProteinFull,MET:CtermProteinFull,ASN:CtermProteinFull,PRO:CtermProteinFull,GLN:CtermProteinFull,ARG:CtermProteinFull,SER:CtermProteinFull,THR:CtermProteinFull,VAL:CtermProteinFull,TRP:CtermProteinFull,TYR:CtermProteinFull\n",
      "\n"
     ]
    }
   ],
   "source": [
    "from pyrosetta.rosetta.protocols.task_operations import RestrictToInterfaceVectorOperation\n",
    "# 定义参数:\n",
    "lower_chain_id = 1\n",
    "upper_chain_id = 2\n",
    "CB_dist_cutoff = 8.0\n",
    "nearby_atom_cutoff = 5.0\n",
    "vector_angle_cutoff = 75\n",
    "vector_dist_cutoff = 9.0\n",
    "include_all_water = False\n",
    "restrict_to_interface = RestrictToInterfaceVectorOperation(lower_chain_id, upper_chain_id, CB_dist_cutoff, nearby_atom_cutoff,\n",
    "                                                           vector_angle_cutoff, vector_dist_cutoff, include_all_water)\n",
    "\n",
    "# 将TaskOperations加载至TaskFactory中\n",
    "pack_tf = TaskFactory()\n",
    "pack_tf.push_back(restrict_to_interface)\n",
    "\n",
    "# 生成PackerTask\n",
    "packer_task = pack_tf.create_task_and_apply_taskoperations(interface_pose)\n",
    "print(packer_task)"
   ]
  },
  {
   "cell_type": "markdown",
   "id": "administrative-scott",
   "metadata": {},
   "source": [
    "### *4 Input-based design\n",
    "\n",
    "输入依赖的TaskOperations大多和序列比对有关。"
   ]
  },
  {
   "cell_type": "markdown",
   "id": "tough-delay",
   "metadata": {},
   "source": [
    "#### 4.1 AlignedThread\n",
    "\n",
    "使用经过比对的序列作为输入，与同源家族中的序列进行比对，gap区域、保守的区域设置为no_repack，并将比对上的区域的序列替换为同源序列的氨基酸。"
   ]
  },
  {
   "cell_type": "code",
   "execution_count": 32,
   "id": "thousand-announcement",
   "metadata": {},
   "outputs": [
    {
     "data": {
      "text/plain": [
       "'DELQKWVEQAERNG'"
      ]
     },
     "execution_count": 32,
     "metadata": {},
     "output_type": "execute_result"
    }
   ],
   "source": [
    "# 目前pose的序列\n",
    "pose.sequence()"
   ]
  },
  {
   "cell_type": "markdown",
   "id": "efficient-dating",
   "metadata": {},
   "source": [
    "制作一个假的aligned.fatsa:\n",
    "```\n",
    "> pose\n",
    "DELQKWVEQAERNG\n",
    "> fake_homology\n",
    "DELQKLKKQAEQNG\n",
    "```"
   ]
  },
  {
   "cell_type": "code",
   "execution_count": 33,
   "id": "unique-audit",
   "metadata": {},
   "outputs": [
    {
     "name": "stdout",
     "output_type": "stream",
     "text": [
      "\u001b[0mprotocols.TaskOperations.AlignedThreadOperation: {0} \u001b[0mtemplate seq:\n",
      "DELQKWVEQAERNG\n",
      "query seq:\n",
      "DELQKLKKQAEQNGDELQKMKKQAEQNGDELQKMKKQAEQNG\n",
      "\u001b[0mprotocols.TaskOperations.AlignedThreadOperation: {0} \u001b[0msequence for threading: \n",
      "DELQKLKKQAEQNG\n",
      "#Packer_Task\n",
      "\n",
      "Threads to request: ALL AVAILABLE\n",
      "\n",
      "resid\tpack?\tdesign?\tallowed_aas\n",
      "1\tTRUE\tFALSE\tASP:NtermProteinFull\n",
      "2\tTRUE\tFALSE\tGLU\n",
      "3\tTRUE\tFALSE\tLEU\n",
      "4\tTRUE\tFALSE\tGLN\n",
      "5\tTRUE\tFALSE\tLYS\n",
      "6\tTRUE\tTRUE\tLEU\n",
      "7\tTRUE\tTRUE\tLYS\n",
      "8\tTRUE\tTRUE\tLYS\n",
      "9\tTRUE\tFALSE\tGLN\n",
      "10\tTRUE\tFALSE\tALA\n",
      "11\tTRUE\tFALSE\tGLU\n",
      "12\tTRUE\tTRUE\tGLN\n",
      "13\tTRUE\tFALSE\tASN\n",
      "14\tTRUE\tFALSE\tGLY:CtermProteinFull\n",
      "\n"
     ]
    }
   ],
   "source": [
    "from pyrosetta.rosetta.protocols.task_operations import AlignedThreadOperation\n",
    "Aligned = AlignedThreadOperation()\n",
    "Aligned.alignment_file('./data/align.fasta') # 仅支持fasta文件\n",
    "Aligned.query_name('fake_homology')  # 比对文件中的query序列的代号，指同源序列的名字\n",
    "Aligned.template_name('pose')  # 比对文件中的template序列的代号，应该要和输入的pose一致\n",
    "Aligned.start_res(1)  # 确定从哪个氨基酸开始比对\n",
    "\n",
    "# 将TaskOperations加载至TaskFactory中\n",
    "pack_tf = TaskFactory()\n",
    "pack_tf.push_back(Aligned)\n",
    "\n",
    "# 生成PackerTask\n",
    "packer_task = pack_tf.create_task_and_apply_taskoperations(pose)\n",
    "print(packer_task)"
   ]
  },
  {
   "cell_type": "markdown",
   "id": "loved-cherry",
   "metadata": {},
   "source": [
    "#### 4.2 RestrictNativeResidues\n",
    "将现有的pose与ref_pose(对照)进行比对(并且两个pose的长度必须一致！)，根据序列一致性，将ref和native pose中保守的氨基酸位点，设置为repack或Design."
   ]
  },
  {
   "cell_type": "code",
   "execution_count": 34,
   "id": "furnished-composer",
   "metadata": {},
   "outputs": [
    {
     "name": "stdout",
     "output_type": "stream",
     "text": [
      "\u001b[0mcore.import_pose.import_pose: {0} \u001b[0mFile './data/helix_ref.pdb' automatically determined to be of type PDB\n",
      "\u001b[0mcore.io.pose_from_sfr.PoseFromSFRBuilder: {0} \u001b[0m\u001b[1m[ WARNING ]\u001b[0m discarding 2 atoms at position 3 in file ./data/helix_ref.pdb. Best match rsd_type:  MET\n",
      "\u001b[0mcore.io.pose_from_sfr.PoseFromSFRBuilder: {0} \u001b[0m\u001b[1m[ WARNING ]\u001b[0m discarding 1 atoms at position 6 in file ./data/helix_ref.pdb. Best match rsd_type:  ASN\n",
      "\u001b[0mcore.io.pose_from_sfr.PoseFromSFRBuilder: {0} \u001b[0m\u001b[1m[ WARNING ]\u001b[0m discarding 4 atoms at position 9 in file ./data/helix_ref.pdb. Best match rsd_type:  HIS\n",
      "\u001b[0mcore.io.pose_from_sfr.PoseFromSFRBuilder: {0} \u001b[0m\u001b[1m[ WARNING ]\u001b[0m discarding 1 atoms at position 13 in file ./data/helix_ref.pdb. Best match rsd_type:  LEU\n",
      "\u001b[0mcore.conformation.Conformation: {0} \u001b[0m\u001b[1m[ WARNING ]\u001b[0m missing heavyatom:  OXT on residue GLY:CtermProteinFull 14\n",
      "\u001b[0mcore.io.pose_from_sfr.PoseFromSFRBuilder: {0} \u001b[0m\u001b[1m[ WARNING ]\u001b[0m can't find pose atom for file-residue 3 atom 3HB  (trying to store temperature in PDBInfo)\n",
      "\u001b[0mcore.io.pose_from_sfr.PoseFromSFRBuilder: {0} \u001b[0m\u001b[1m[ WARNING ]\u001b[0m can't find pose atom for file-residue 3 atom 3HG  (trying to store temperature in PDBInfo)\n",
      "\u001b[0mcore.io.pose_from_sfr.PoseFromSFRBuilder: {0} \u001b[0m\u001b[1m[ WARNING ]\u001b[0m can't find pose atom for file-residue 6 atom 3HB  (trying to store temperature in PDBInfo)\n",
      "\u001b[0mcore.io.pose_from_sfr.PoseFromSFRBuilder: {0} \u001b[0m\u001b[1m[ WARNING ]\u001b[0m can't find pose atom for file-residue 9 atom 1HE  (trying to store temperature in PDBInfo)\n",
      "\u001b[0mcore.io.pose_from_sfr.PoseFromSFRBuilder: {0} \u001b[0m\u001b[1m[ WARNING ]\u001b[0m can't find pose atom for file-residue 9 atom 2HD  (trying to store temperature in PDBInfo)\n",
      "\u001b[0mcore.io.pose_from_sfr.PoseFromSFRBuilder: {0} \u001b[0m\u001b[1m[ WARNING ]\u001b[0m can't find pose atom for file-residue 9 atom 2HE  (trying to store temperature in PDBInfo)\n",
      "\u001b[0mcore.io.pose_from_sfr.PoseFromSFRBuilder: {0} \u001b[0m\u001b[1m[ WARNING ]\u001b[0m can't find pose atom for file-residue 9 atom 3HB  (trying to store temperature in PDBInfo)\n",
      "\u001b[0mcore.io.pose_from_sfr.PoseFromSFRBuilder: {0} \u001b[0m\u001b[1m[ WARNING ]\u001b[0m can't find pose atom for file-residue 13 atom 3HB  (trying to store temperature in PDBInfo)\n"
     ]
    }
   ],
   "source": [
    "# 读取ref_pose\n",
    "ref_pose = pose_from_pdb('./data/helix_ref.pdb')"
   ]
  },
  {
   "cell_type": "code",
   "execution_count": 35,
   "id": "homeless-hamburg",
   "metadata": {},
   "outputs": [
    {
     "name": "stdout",
     "output_type": "stream",
     "text": [
      "DEMQKNVEHAERLG\n",
      "DELQKWVEQAERNG\n"
     ]
    }
   ],
   "source": [
    "# 发现3，5，8，12位点序列有差异。\n",
    "print(ref_pose.sequence())\n",
    "print(pose.sequence())"
   ]
  },
  {
   "cell_type": "code",
   "execution_count": 36,
   "id": "developmental-commissioner",
   "metadata": {},
   "outputs": [
    {
     "name": "stdout",
     "output_type": "stream",
     "text": [
      "\u001b[0mprotocols.task_operations.RestrictNativeResiduesOperation: {0} \u001b[0m4 non-native, designable residues found in pose\n",
      "#Packer_Task\n",
      "\n",
      "Threads to request: ALL AVAILABLE\n",
      "\n",
      "resid\tpack?\tdesign?\tallowed_aas\n",
      "1\tFALSE\tFALSE\t\n",
      "2\tFALSE\tFALSE\t\n",
      "3\tTRUE\tTRUE\tALA,CYS,ASP,GLU,PHE,GLY,HIS,HIS_D,ILE,LYS,LEU,MET,ASN,PRO,GLN,ARG,SER,THR,VAL,TRP,TYR\n",
      "4\tFALSE\tFALSE\t\n",
      "5\tFALSE\tFALSE\t\n",
      "6\tTRUE\tTRUE\tALA,CYS,ASP,GLU,PHE,GLY,HIS,HIS_D,ILE,LYS,LEU,MET,ASN,PRO,GLN,ARG,SER,THR,VAL,TRP,TYR\n",
      "7\tFALSE\tFALSE\t\n",
      "8\tFALSE\tFALSE\t\n",
      "9\tTRUE\tTRUE\tALA,CYS,ASP,GLU,PHE,GLY,HIS,HIS_D,ILE,LYS,LEU,MET,ASN,PRO,GLN,ARG,SER,THR,VAL,TRP,TYR\n",
      "10\tFALSE\tFALSE\t\n",
      "11\tFALSE\tFALSE\t\n",
      "12\tFALSE\tFALSE\t\n",
      "13\tTRUE\tTRUE\tALA,CYS,ASP,GLU,PHE,GLY,HIS,HIS_D,ILE,LYS,LEU,MET,ASN,PRO,GLN,ARG,SER,THR,VAL,TRP,TYR\n",
      "14\tFALSE\tFALSE\t\n",
      "\n"
     ]
    }
   ],
   "source": [
    "from pyrosetta.rosetta.protocols.task_operations import RestrictNativeResiduesOperation\n",
    "no_pack_to_native = RestrictNativeResiduesOperation()\n",
    "no_pack_to_native.reference_pose(ref_pose)\n",
    "no_pack_to_native.prevent_repacking(1) # 1 = 仅设计非保守区段，其余设为no_repack. 0 = 设计非保守区段，其余设置为repack.\n",
    "\n",
    "# 将TaskOperations加载至TaskFactory中\n",
    "pack_tf = TaskFactory()\n",
    "pack_tf.push_back(no_pack_to_native)\n",
    "\n",
    "# 生成PackerTask\n",
    "packer_task = pack_tf.create_task_and_apply_taskoperations(pose)\n",
    "print(packer_task)"
   ]
  },
  {
   "cell_type": "code",
   "execution_count": 37,
   "id": "realistic-database",
   "metadata": {},
   "outputs": [
    {
     "name": "stdout",
     "output_type": "stream",
     "text": [
      "\u001b[0mprotocols.task_operations.RestrictNativeResiduesOperation: {0} \u001b[0m4 non-native, designable residues found in pose\n",
      "#Packer_Task\n",
      "\n",
      "Threads to request: ALL AVAILABLE\n",
      "\n",
      "resid\tpack?\tdesign?\tallowed_aas\n",
      "1\tTRUE\tFALSE\tASP:NtermProteinFull\n",
      "2\tTRUE\tFALSE\tGLU\n",
      "3\tTRUE\tTRUE\tALA,CYS,ASP,GLU,PHE,GLY,HIS,HIS_D,ILE,LYS,LEU,MET,ASN,PRO,GLN,ARG,SER,THR,VAL,TRP,TYR\n",
      "4\tTRUE\tFALSE\tGLN\n",
      "5\tTRUE\tFALSE\tLYS\n",
      "6\tTRUE\tTRUE\tALA,CYS,ASP,GLU,PHE,GLY,HIS,HIS_D,ILE,LYS,LEU,MET,ASN,PRO,GLN,ARG,SER,THR,VAL,TRP,TYR\n",
      "7\tTRUE\tFALSE\tVAL\n",
      "8\tTRUE\tFALSE\tGLU\n",
      "9\tTRUE\tTRUE\tALA,CYS,ASP,GLU,PHE,GLY,HIS,HIS_D,ILE,LYS,LEU,MET,ASN,PRO,GLN,ARG,SER,THR,VAL,TRP,TYR\n",
      "10\tTRUE\tFALSE\tALA\n",
      "11\tTRUE\tFALSE\tGLU\n",
      "12\tTRUE\tFALSE\tARG\n",
      "13\tTRUE\tTRUE\tALA,CYS,ASP,GLU,PHE,GLY,HIS,HIS_D,ILE,LYS,LEU,MET,ASN,PRO,GLN,ARG,SER,THR,VAL,TRP,TYR\n",
      "14\tTRUE\tFALSE\tGLY:CtermProteinFull\n",
      "\n"
     ]
    }
   ],
   "source": [
    "from pyrosetta.rosetta.protocols.task_operations import RestrictNativeResiduesOperation\n",
    "no_pack_to_native = RestrictNativeResiduesOperation()\n",
    "no_pack_to_native.reference_pose(ref_pose)\n",
    "no_pack_to_native.prevent_repacking(0) # 1 = 仅设计非保守区段，其余设为no_repack. 0 = 设计非保守区段，其余设置为repack.\n",
    "\n",
    "# 将TaskOperations加载至TaskFactory中\n",
    "pack_tf = TaskFactory()\n",
    "pack_tf.push_back(no_pack_to_native)\n",
    "\n",
    "# 生成PackerTask\n",
    "packer_task = pack_tf.create_task_and_apply_taskoperations(pose)\n",
    "print(packer_task)"
   ]
  },
  {
   "cell_type": "markdown",
   "id": "right-image",
   "metadata": {},
   "source": [
    "#### 4.3 RestrictIdentitiesAtAlignedPositions\n",
    "与输入的PDB结构序列进行比对，只有比对得上的位点得到保留，其他的位置可以进行Design，不要求PDB结构之间长度完全相同，但需要指定design aligment的区域不能大于pose的本身长度。"
   ]
  },
  {
   "cell_type": "code",
   "execution_count": 38,
   "id": "offshore-advancement",
   "metadata": {},
   "outputs": [
    {
     "name": "stdout",
     "output_type": "stream",
     "text": [
      "\u001b[0mcore.import_pose.import_pose: {0} \u001b[0mFile './data/three_helix_pose.pdb' automatically determined to be of type PDB\n",
      "\u001b[0mcore.import_pose.import_pose: {0} \u001b[0mFile './data/homo1.pdb' automatically determined to be of type PDB\n"
     ]
    }
   ],
   "source": [
    "pose1 = pose_from_pdb('./data/three_helix_pose.pdb')\n",
    "pose2 = pose_from_pdb('./data/homo1.pdb')  # ref pose;"
   ]
  },
  {
   "cell_type": "markdown",
   "id": "beautiful-chase",
   "metadata": {},
   "source": [
    "<center><img src=\"./img/structure_align.png\" width = \"500\" height = \"200\" align=center /></center>"
   ]
  },
  {
   "cell_type": "code",
   "execution_count": 39,
   "id": "frequent-accuracy",
   "metadata": {},
   "outputs": [
    {
     "name": "stdout",
     "output_type": "stream",
     "text": [
      "\u001b[0mcore.import_pose.import_pose: {0} \u001b[0mFile './data/homo1.pdb' automatically determined to be of type PDB\n",
      "\u001b[0mprotocols.TaskOperations.RestrictIdentitiesAtAlignedPositionsOperation: {0} \u001b[0mResidue nearest is: 1\n",
      "\u001b[0mprotocols.TaskOperations.RestrictIdentitiesAtAlignedPositionsOperation: {0} \u001b[0mResidue nearest is: ASP1\n",
      "\u001b[0mprotocols.TaskOperations.RestrictIdentitiesAtAlignedPositionsOperation: {0} \u001b[0mResidue nearest is: 2\n",
      "\u001b[0mprotocols.TaskOperations.RestrictIdentitiesAtAlignedPositionsOperation: {0} \u001b[0mResidue nearest is: GLU2\n",
      "\u001b[0mprotocols.TaskOperations.RestrictIdentitiesAtAlignedPositionsOperation: {0} \u001b[0mResidue nearest is: 3\n",
      "\u001b[0mprotocols.TaskOperations.RestrictIdentitiesAtAlignedPositionsOperation: {0} \u001b[0mResidue nearest is: LEU3\n",
      "\u001b[0mprotocols.TaskOperations.RestrictIdentitiesAtAlignedPositionsOperation: {0} \u001b[0mResidue nearest is: 3\n",
      "\u001b[0mprotocols.TaskOperations.RestrictIdentitiesAtAlignedPositionsOperation: {0} \u001b[0mResidue nearest is: GLN4\n",
      "\u001b[0mprotocols.TaskOperations.RestrictIdentitiesAtAlignedPositionsOperation: {0} \u001b[0mResidue nearest is: 5\n",
      "\u001b[0mprotocols.TaskOperations.RestrictIdentitiesAtAlignedPositionsOperation: {0} \u001b[0mResidue nearest is: LYS5\n",
      "\u001b[0mprotocols.TaskOperations.RestrictIdentitiesAtAlignedPositionsOperation: {0} \u001b[0mResidue nearest is: 6\n",
      "\u001b[0mprotocols.TaskOperations.RestrictIdentitiesAtAlignedPositionsOperation: {0} \u001b[0mResidue nearest is: TRP6\n",
      "\u001b[0mprotocols.TaskOperations.RestrictIdentitiesAtAlignedPositionsOperation: {0} \u001b[0mResidue nearest is: 23\n",
      "\u001b[0mprotocols.TaskOperations.RestrictIdentitiesAtAlignedPositionsOperation: {0} \u001b[0mResidue nearest is: VAL7\n",
      "\u001b[0mprotocols.TaskOperations.RestrictIdentitiesAtAlignedPositionsOperation: {0} \u001b[0mResidue nearest is: 7\n",
      "\u001b[0mprotocols.TaskOperations.RestrictIdentitiesAtAlignedPositionsOperation: {0} \u001b[0mResidue nearest is: GLU8\n",
      "\u001b[0mprotocols.TaskOperations.RestrictIdentitiesAtAlignedPositionsOperation: {0} \u001b[0mResidue nearest is: 10\n",
      "\u001b[0mprotocols.TaskOperations.RestrictIdentitiesAtAlignedPositionsOperation: {0} \u001b[0mResidue nearest is: GLN9\n",
      "\u001b[0mprotocols.TaskOperations.RestrictIdentitiesAtAlignedPositionsOperation: {0} \u001b[0m\u001b[1m[ WARNING ]\u001b[0m could not find a residue near to 10\n",
      "\u001b[0mprotocols.TaskOperations.RestrictIdentitiesAtAlignedPositionsOperation: {0} \u001b[0mResidue nearest is: 20\n",
      "\u001b[0mprotocols.TaskOperations.RestrictIdentitiesAtAlignedPositionsOperation: {0} \u001b[0mResidue nearest is: GLU11\n",
      "\u001b[0mprotocols.TaskOperations.RestrictIdentitiesAtAlignedPositionsOperation: {0} \u001b[0m\u001b[1m[ WARNING ]\u001b[0m could not find a residue near to 12\n",
      "\u001b[0mprotocols.TaskOperations.RestrictIdentitiesAtAlignedPositionsOperation: {0} \u001b[0mResidue nearest is: 16\n",
      "\u001b[0mprotocols.TaskOperations.RestrictIdentitiesAtAlignedPositionsOperation: {0} \u001b[0mResidue nearest is: ASN13\n",
      "\u001b[0mprotocols.TaskOperations.RestrictIdentitiesAtAlignedPositionsOperation: {0} \u001b[0mResidue nearest is: 16\n",
      "\u001b[0mprotocols.TaskOperations.RestrictIdentitiesAtAlignedPositionsOperation: {0} \u001b[0mResidue nearest is: GLY14\n",
      "\u001b[0mprotocols.TaskOperations.RestrictIdentitiesAtAlignedPositionsOperation: {0} \u001b[0m\u001b[1m[ WARNING ]\u001b[0m could not find a residue near to 15\n",
      "\u001b[0mprotocols.TaskOperations.RestrictIdentitiesAtAlignedPositionsOperation: {0} \u001b[0m\u001b[1m[ WARNING ]\u001b[0m could not find a residue near to 16\n",
      "\u001b[0mprotocols.TaskOperations.RestrictIdentitiesAtAlignedPositionsOperation: {0} \u001b[0m\u001b[1m[ WARNING ]\u001b[0m could not find a residue near to 17\n",
      "\u001b[0mprotocols.TaskOperations.RestrictIdentitiesAtAlignedPositionsOperation: {0} \u001b[0m\u001b[1m[ WARNING ]\u001b[0m could not find a residue near to 18\n",
      "\u001b[0mprotocols.TaskOperations.RestrictIdentitiesAtAlignedPositionsOperation: {0} \u001b[0m\u001b[1m[ WARNING ]\u001b[0m could not find a residue near to 19\n",
      "\u001b[0mprotocols.TaskOperations.RestrictIdentitiesAtAlignedPositionsOperation: {0} \u001b[0m\u001b[1m[ WARNING ]\u001b[0m could not find a residue near to 20\n",
      "\u001b[0mprotocols.TaskOperations.RestrictIdentitiesAtAlignedPositionsOperation: {0} \u001b[0m\u001b[1m[ WARNING ]\u001b[0m could not find a residue near to 21\n",
      "\u001b[0mprotocols.TaskOperations.RestrictIdentitiesAtAlignedPositionsOperation: {0} \u001b[0m\u001b[1m[ WARNING ]\u001b[0m could not find a residue near to 22\n",
      "\u001b[0mprotocols.TaskOperations.RestrictIdentitiesAtAlignedPositionsOperation: {0} \u001b[0m\u001b[1m[ WARNING ]\u001b[0m could not find a residue near to 23\n",
      "\u001b[0mprotocols.TaskOperations.RestrictIdentitiesAtAlignedPositionsOperation: {0} \u001b[0m\u001b[1m[ WARNING ]\u001b[0m could not find a residue near to 24\n",
      "\u001b[0mprotocols.TaskOperations.RestrictIdentitiesAtAlignedPositionsOperation: {0} \u001b[0m\u001b[1m[ WARNING ]\u001b[0m could not find a residue near to 25\n",
      "\u001b[0mprotocols.TaskOperations.RestrictIdentitiesAtAlignedPositionsOperation: {0} \u001b[0m\u001b[1m[ WARNING ]\u001b[0m could not find a residue near to 26\n",
      "\u001b[0mprotocols.TaskOperations.RestrictIdentitiesAtAlignedPositionsOperation: {0} \u001b[0m\u001b[1m[ WARNING ]\u001b[0m could not find a residue near to 27\n",
      "\u001b[0mprotocols.TaskOperations.RestrictIdentitiesAtAlignedPositionsOperation: {0} \u001b[0m\u001b[1m[ WARNING ]\u001b[0m could not find a residue near to 28\n",
      "\u001b[0mprotocols.TaskOperations.RestrictIdentitiesAtAlignedPositionsOperation: {0} \u001b[0m\u001b[1m[ WARNING ]\u001b[0m could not find a residue near to 29\n",
      "\u001b[0mprotocols.TaskOperations.RestrictIdentitiesAtAlignedPositionsOperation: {0} \u001b[0m\u001b[1m[ WARNING ]\u001b[0m could not find a residue near to 30\n",
      "\u001b[0mprotocols.TaskOperations.RestrictIdentitiesAtAlignedPositionsOperation: {0} \u001b[0m\u001b[1m[ WARNING ]\u001b[0m could not find a residue near to 31\n",
      "\u001b[0mprotocols.TaskOperations.RestrictIdentitiesAtAlignedPositionsOperation: {0} \u001b[0m\u001b[1m[ WARNING ]\u001b[0m could not find a residue near to 32\n",
      "\u001b[0mprotocols.TaskOperations.RestrictIdentitiesAtAlignedPositionsOperation: {0} \u001b[0m\u001b[1m[ WARNING ]\u001b[0m could not find a residue near to 33\n",
      "\u001b[0mprotocols.TaskOperations.RestrictIdentitiesAtAlignedPositionsOperation: {0} \u001b[0m\u001b[1m[ WARNING ]\u001b[0m could not find a residue near to 34\n",
      "\u001b[0mprotocols.TaskOperations.RestrictIdentitiesAtAlignedPositionsOperation: {0} \u001b[0mResidue nearest is: 28\n",
      "\u001b[0mprotocols.TaskOperations.RestrictIdentitiesAtAlignedPositionsOperation: {0} \u001b[0mResidue nearest is: ARG35\n",
      "\u001b[0mprotocols.TaskOperations.RestrictIdentitiesAtAlignedPositionsOperation: {0} \u001b[0mResidue nearest is: 25\n",
      "\u001b[0mprotocols.TaskOperations.RestrictIdentitiesAtAlignedPositionsOperation: {0} \u001b[0mResidue nearest is: PHE36\n",
      "\u001b[0mprotocols.TaskOperations.RestrictIdentitiesAtAlignedPositionsOperation: {0} \u001b[0m\u001b[1m[ WARNING ]\u001b[0m could not find a residue near to 37\n",
      "\u001b[0mprotocols.TaskOperations.RestrictIdentitiesAtAlignedPositionsOperation: {0} \u001b[0m\u001b[1m[ WARNING ]\u001b[0m could not find a residue near to 38\n",
      "\u001b[0mprotocols.TaskOperations.RestrictIdentitiesAtAlignedPositionsOperation: {0} \u001b[0m\u001b[1m[ WARNING ]\u001b[0m could not find a residue near to 39\n",
      "\u001b[0mprotocols.TaskOperations.RestrictIdentitiesAtAlignedPositionsOperation: {0} \u001b[0m\u001b[1m[ WARNING ]\u001b[0m could not find a residue near to 40\n",
      "\u001b[0mprotocols.TaskOperations.RestrictIdentitiesAtAlignedPositionsOperation: {0} \u001b[0m\u001b[1m[ WARNING ]\u001b[0m could not find a residue near to 41\n",
      "\u001b[0mprotocols.TaskOperations.RestrictIdentitiesAtAlignedPositionsOperation: {0} \u001b[0m\u001b[1m[ WARNING ]\u001b[0m could not find a residue near to 42\n",
      "#Packer_Task\n",
      "\n",
      "Threads to request: ALL AVAILABLE\n",
      "\n",
      "resid\tpack?\tdesign?\tallowed_aas\n",
      "1\tTRUE\tTRUE\tASP:NtermProteinFull\n",
      "2\tTRUE\tFALSE\tGLU\n",
      "3\tFALSE\tFALSE\t\n",
      "4\tTRUE\tTRUE\tALA,CYS,ASP,GLU,PHE,GLY,HIS,HIS_D,ILE,LYS,LEU,MET,ASN,PRO,GLN,ARG,SER,THR,VAL,TRP,TYR\n",
      "5\tTRUE\tTRUE\tLYS\n",
      "6\tTRUE\tTRUE\tTRP\n",
      "7\tTRUE\tTRUE\tGLU\n",
      "8\tTRUE\tTRUE\tALA,CYS,ASP,GLU,PHE,GLY,HIS,HIS_D,ILE,LYS,LEU,MET,ASN,PRO,GLN,ARG,SER,THR,VAL,TRP,TYR\n",
      "9\tTRUE\tTRUE\tALA,CYS,ASP,GLU,PHE,GLY,HIS,HIS_D,ILE,LYS,LEU,MET,ASN,PRO,GLN,ARG,SER,THR,VAL,TRP,TYR\n",
      "10\tTRUE\tTRUE\tGLN\n",
      "11\tTRUE\tTRUE\tALA,CYS,ASP,GLU,PHE,GLY,HIS,HIS_D,ILE,LYS,LEU,MET,ASN,PRO,GLN,ARG,SER,THR,VAL,TRP,TYR\n",
      "12\tTRUE\tTRUE\tALA,CYS,ASP,GLU,PHE,GLY,HIS,HIS_D,ILE,LYS,LEU,MET,ASN,PRO,GLN,ARG,SER,THR,VAL,TRP,TYR\n",
      "13\tTRUE\tTRUE\tALA,CYS,ASP,GLU,PHE,GLY,HIS,HIS_D,ILE,LYS,LEU,MET,ASN,PRO,GLN,ARG,SER,THR,VAL,TRP,TYR\n",
      "14\tTRUE\tTRUE\tALA,CYS,ASP,GLU,PHE,GLY,HIS,HIS_D,ILE,LYS,LEU,MET,ASN,PRO,GLN,ARG,SER,THR,VAL,TRP,TYR\n",
      "15\tTRUE\tTRUE\tALA,CYS,ASP,GLU,PHE,GLY,HIS,HIS_D,ILE,LYS,LEU,MET,ASN,PRO,GLN,ARG,SER,THR,VAL,TRP,TYR\n",
      "16\tFALSE\tFALSE\t\n",
      "17\tTRUE\tTRUE\tALA,CYS,ASP,GLU,PHE,GLY,HIS,HIS_D,ILE,LYS,LEU,MET,ASN,PRO,GLN,ARG,SER,THR,VAL,TRP,TYR\n",
      "18\tTRUE\tTRUE\tALA,CYS,ASP,GLU,PHE,GLY,HIS,HIS_D,ILE,LYS,LEU,MET,ASN,PRO,GLN,ARG,SER,THR,VAL,TRP,TYR\n",
      "19\tTRUE\tTRUE\tALA,CYS,ASP,GLU,PHE,GLY,HIS,HIS_D,ILE,LYS,LEU,MET,ASN,PRO,GLN,ARG,SER,THR,VAL,TRP,TYR\n",
      "20\tTRUE\tTRUE\tGLU\n",
      "21\tTRUE\tTRUE\tALA,CYS,ASP,GLU,PHE,GLY,HIS,HIS_D,ILE,LYS,LEU,MET,ASN,PRO,GLN,ARG,SER,THR,VAL,TRP,TYR\n",
      "22\tTRUE\tTRUE\tALA,CYS,ASP,GLU,PHE,GLY,HIS,HIS_D,ILE,LYS,LEU,MET,ASN,PRO,GLN,ARG,SER,THR,VAL,TRP,TYR\n",
      "23\tTRUE\tTRUE\tVAL\n",
      "24\tTRUE\tTRUE\tALA,CYS,ASP,GLU,PHE,GLY,HIS,HIS_D,ILE,LYS,LEU,MET,ASN,PRO,GLN,ARG,SER,THR,VAL,TRP,TYR\n",
      "25\tTRUE\tTRUE\tPHE\n",
      "26\tTRUE\tTRUE\tALA,CYS,ASP,GLU,PHE,GLY,HIS,HIS_D,ILE,LYS,LEU,MET,ASN,PRO,GLN,ARG,SER,THR,VAL,TRP,TYR\n",
      "27\tTRUE\tTRUE\tALA,CYS,ASP,GLU,PHE,GLY,HIS,HIS_D,ILE,LYS,LEU,MET,ASN,PRO,GLN,ARG,SER,THR,VAL,TRP,TYR\n",
      "28\tTRUE\tTRUE\tARG\n",
      "29\tTRUE\tTRUE\tALA,CYS,ASP,GLU,PHE,GLY,HIS,HIS_D,ILE,LYS,LEU,MET,ASN,PRO,GLN,ARG,SER,THR,VAL,TRP,TYR\n",
      "30\tTRUE\tTRUE\tALA,CYS,ASP,GLU,PHE,GLY,HIS,HIS_D,ILE,LYS,LEU,MET,ASN,PRO,GLN,ARG,SER,THR,VAL,TRP,TYR\n",
      "31\tTRUE\tTRUE\tALA,CYS,ASP,GLU,PHE,GLY,HIS,HIS_D,ILE,LYS,LEU,MET,ASN,PRO,GLN,ARG,SER,THR,VAL,TRP,TYR\n",
      "32\tTRUE\tTRUE\tALA,CYS,ASP,GLU,PHE,GLY,HIS,HIS_D,ILE,LYS,LEU,MET,ASN,PRO,GLN,ARG,SER,THR,VAL,TRP,TYR\n",
      "33\tTRUE\tTRUE\tALA,CYS,ASP,GLU,PHE,GLY,HIS,HIS_D,ILE,LYS,LEU,MET,ASN,PRO,GLN,ARG,SER,THR,VAL,TRP,TYR\n",
      "34\tTRUE\tTRUE\tALA,CYS,ASP,GLU,PHE,GLY,HIS,HIS_D,ILE,LYS,LEU,MET,ASN,PRO,GLN,ARG,SER,THR,VAL,TRP,TYR\n",
      "35\tTRUE\tTRUE\tALA,CYS,ASP,GLU,PHE,GLY,HIS,HIS_D,ILE,LYS,LEU,MET,ASN,PRO,GLN,ARG,SER,THR,VAL,TRP,TYR\n",
      "36\tTRUE\tTRUE\tALA,CYS,ASP,GLU,PHE,GLY,HIS,HIS_D,ILE,LYS,LEU,MET,ASN,PRO,GLN,ARG,SER,THR,VAL,TRP,TYR\n",
      "37\tTRUE\tTRUE\tALA,CYS,ASP,GLU,PHE,GLY,HIS,HIS_D,ILE,LYS,LEU,MET,ASN,PRO,GLN,ARG,SER,THR,VAL,TRP,TYR\n",
      "38\tTRUE\tTRUE\tALA,CYS,ASP,GLU,PHE,GLY,HIS,HIS_D,ILE,LYS,LEU,MET,ASN,PRO,GLN,ARG,SER,THR,VAL,TRP,TYR\n",
      "39\tTRUE\tTRUE\tALA,CYS,ASP,GLU,PHE,GLY,HIS,HIS_D,ILE,LYS,LEU,MET,ASN,PRO,GLN,ARG,SER,THR,VAL,TRP,TYR\n",
      "40\tTRUE\tTRUE\tALA,CYS,ASP,GLU,PHE,GLY,HIS,HIS_D,ILE,LYS,LEU,MET,ASN,PRO,GLN,ARG,SER,THR,VAL,TRP,TYR\n",
      "41\tTRUE\tTRUE\tALA,CYS,ASP,GLU,PHE,GLY,HIS,HIS_D,ILE,LYS,LEU,MET,ASN,PRO,GLN,ARG,SER,THR,VAL,TRP,TYR\n",
      "42\tTRUE\tTRUE\tALA,CYS,ASP,GLU,PHE,GLY,HIS,HIS_D,ILE,LYS,LEU,MET,ASN,PRO,GLN,ARG,SER,THR,VAL,TRP,TYR\n",
      "43\tTRUE\tTRUE\tALA:CtermProteinFull,CYS:CtermProteinFull,ASP:CtermProteinFull,GLU:CtermProteinFull,PHE:CtermProteinFull,GLY:CtermProteinFull,HIS:CtermProteinFull,HIS_D:CtermProteinFull,ILE:CtermProteinFull,LYS:CtermProteinFull,LEU:CtermProteinFull,MET:CtermProteinFull,ASN:CtermProteinFull,PRO:CtermProteinFull,GLN:CtermProteinFull,ARG:CtermProteinFull,SER:CtermProteinFull,THR:CtermProteinFull,VAL:CtermProteinFull,TRP:CtermProteinFull,TYR:CtermProteinFull\n",
      "\n"
     ]
    }
   ],
   "source": [
    "from pyrosetta.rosetta.protocols.task_operations import RestrictIdentitiesAtAlignedPositionsOperation\n",
    "aligned_position_design = RestrictIdentitiesAtAlignedPositionsOperation()\n",
    "aligned_position_design.source_pose('./data/homo1.pdb')  # pose1=ref_pose\n",
    "aligned_position_design.chain(1)  # 设定pose_ref中第几条链被用于比对\n",
    "aligned_position_design.design_only_target_residues(False) # 允许reapckshell中氨基酸进行repack. 默认False\n",
    "aligned_position_design.prevent_repacking(False) # 是否不允许repack?\n",
    "\n",
    "# 当ref_pose和pose中不等长时，需要指定在哪个范围内进行alignment。\n",
    "vector1 = pyrosetta.rosetta.utility.vector1_unsigned_long()\n",
    "for i in range(1, pose1.total_residue()):\n",
    "    vector1.append(i)\n",
    "aligned_position_design.res_ids(vector1)\n",
    "\n",
    "# 将TaskOperations加载至TaskFactory中\n",
    "pack_tf = TaskFactory()\n",
    "pack_tf.push_back(aligned_position_design)\n",
    "\n",
    "# 生成PackerTask\n",
    "packer_task = pack_tf.create_task_and_apply_taskoperations(pose1)\n",
    "print(packer_task)"
   ]
  },
  {
   "cell_type": "markdown",
   "id": "vocational-preview",
   "metadata": {},
   "source": [
    "#### 4.4 SeqprofConsensus\n",
    "根据PSSM文件来定义序列设计的自由度。"
   ]
  },
  {
   "cell_type": "code",
   "execution_count": null,
   "id": "fatty-perfume",
   "metadata": {},
   "outputs": [],
   "source": []
  },
  {
   "cell_type": "markdown",
   "id": "based-charger",
   "metadata": {},
   "source": [
    "#### 4.5 ThreadSequenceOperation\n",
    "用于将一个序列“穿针”到一个Pose的所有位点上。"
   ]
  },
  {
   "cell_type": "code",
   "execution_count": 42,
   "id": "robust-award",
   "metadata": {},
   "outputs": [
    {
     "name": "stdout",
     "output_type": "stream",
     "text": [
      "#Packer_Task\n",
      "\n",
      "Threads to request: ALL AVAILABLE\n",
      "\n",
      "resid\tpack?\tdesign?\tallowed_aas\n",
      "1\tTRUE\tTRUE\tASP:NtermProteinFull\n",
      "2\tTRUE\tFALSE\tGLU\n",
      "3\tTRUE\tFALSE\tLEU\n",
      "4\tTRUE\tTRUE\tGLN\n",
      "5\tTRUE\tTRUE\tLYS\n",
      "6\tTRUE\tTRUE\tTRP\n",
      "7\tTRUE\tTRUE\tVAL\n",
      "8\tTRUE\tTRUE\tGLU\n",
      "9\tTRUE\tTRUE\tGLN\n",
      "10\tTRUE\tTRUE\tALA\n",
      "11\tTRUE\tTRUE\tGLU\n",
      "12\tTRUE\tTRUE\tARG\n",
      "13\tTRUE\tTRUE\tASN\n",
      "14\tTRUE\tTRUE\tGLY\n",
      "15\tTRUE\tTRUE\tVAL\n",
      "16\tTRUE\tTRUE\tSER\n",
      "17\tTRUE\tTRUE\tLEU\n",
      "18\tTRUE\tFALSE\tGLU\n",
      "19\tTRUE\tFALSE\tGLU\n",
      "20\tTRUE\tTRUE\tILE\n",
      "21\tTRUE\tTRUE\tGLU\n",
      "22\tTRUE\tFALSE\tLYS\n",
      "23\tTRUE\tTRUE\tTRP\n",
      "24\tTRUE\tTRUE\tILE\n",
      "25\tTRUE\tFALSE\tLYS\n",
      "26\tTRUE\tFALSE\tLYS\n",
      "27\tTRUE\tTRUE\tALA\n",
      "28\tTRUE\tTRUE\tGLY\n",
      "29\tTRUE\tTRUE\tASP\n",
      "30\tTRUE\tTRUE\tGLU\n",
      "31\tTRUE\tFALSE\tGLU\n",
      "32\tTRUE\tTRUE\tLEU\n",
      "33\tTRUE\tTRUE\tLEU\n",
      "34\tTRUE\tFALSE\tLYS\n",
      "35\tTRUE\tTRUE\tARG\n",
      "36\tTRUE\tTRUE\tPHE\n",
      "37\tTRUE\tTRUE\tGLN\n",
      "38\tTRUE\tTRUE\tLYS\n",
      "39\tTRUE\tTRUE\tLYS\n",
      "40\tTRUE\tTRUE\tVAL\n",
      "41\tTRUE\tFALSE\tLYS\n",
      "42\tTRUE\tTRUE\tGLU\n",
      "43\tTRUE\tFALSE\tARG:CtermProteinFull\n",
      "\n"
     ]
    }
   ],
   "source": [
    "from pyrosetta.rosetta.protocols.task_operations import ThreadSequenceOperation\n",
    "thread = ThreadSequenceOperation()\n",
    "thread.target_sequence(pose2.sequence())\n",
    "\n",
    "# 将TaskOperations加载至TaskFactory中\n",
    "pack_tf = TaskFactory()\n",
    "pack_tf.push_back(thread)\n",
    "\n",
    "# 生成PackerTask\n",
    "packer_task = pack_tf.create_task_and_apply_taskoperations(pose1)\n",
    "print(packer_task)"
   ]
  },
  {
   "cell_type": "markdown",
   "id": "postal-journal",
   "metadata": {},
   "source": [
    "#### 4.6 JointSequence\n",
    "# todo"
   ]
  },
  {
   "cell_type": "markdown",
   "id": "senior-collect",
   "metadata": {},
   "source": [
    "### 2.2 Rotamer Specification"
   ]
  },
  {
   "cell_type": "markdown",
   "id": "stuck-alfred",
   "metadata": {},
   "source": [
    "#### 2.2.1 InteractingRotamerExplosion"
   ]
  },
  {
   "cell_type": "markdown",
   "id": "theoretical-circular",
   "metadata": {},
   "source": [
    "#### 2.2.2 ImportUnboundRotamers"
   ]
  },
  {
   "cell_type": "markdown",
   "id": "signed-berkeley",
   "metadata": {},
   "source": [
    "#### 2.2.3 LimitAromaChi2"
   ]
  },
  {
   "cell_type": "markdown",
   "id": "representative-manchester",
   "metadata": {},
   "source": [
    "#### 2.2.4 SampleRotamersFromPDB"
   ]
  },
  {
   "cell_type": "markdown",
   "id": "animated-service",
   "metadata": {},
   "source": [
    "#### 2.2.5 PruneBuriedUnsats"
   ]
  },
  {
   "cell_type": "code",
   "execution_count": null,
   "id": "provincial-mills",
   "metadata": {},
   "outputs": [],
   "source": []
  },
  {
   "cell_type": "markdown",
   "id": "another-smoke",
   "metadata": {},
   "source": [
    "### 2.3 Packer Behavior Modification"
   ]
  },
  {
   "cell_type": "markdown",
   "id": "abandoned-marshall",
   "metadata": {},
   "source": [
    "#### 2.3.1 KeepSequenceSymmetry"
   ]
  },
  {
   "cell_type": "markdown",
   "id": "personal-sponsorship",
   "metadata": {},
   "source": [
    "#### 2.3.1 ModifyAnnealer"
   ]
  },
  {
   "cell_type": "markdown",
   "id": "changing-membership",
   "metadata": {},
   "source": [
    "#### 2.3.1 ProteinLigandInterfaceUpweighter"
   ]
  },
  {
   "cell_type": "markdown",
   "id": "centered-bidding",
   "metadata": {},
   "source": [
    "#### 2.3.1 RestrictInteractionGraphThreadsOperation"
   ]
  },
  {
   "cell_type": "markdown",
   "id": "included-helena",
   "metadata": {},
   "source": [
    "#### 2.3.1 SetIGType"
   ]
  },
  {
   "cell_type": "code",
   "execution_count": null,
   "id": "lined-mineral",
   "metadata": {},
   "outputs": [],
   "source": []
  },
  {
   "cell_type": "markdown",
   "id": "supported-custom",
   "metadata": {},
   "source": [
    "### 2.4 Antibody and CDR Specific Operations"
   ]
  },
  {
   "cell_type": "markdown",
   "id": "statutory-shower",
   "metadata": {},
   "source": [
    "#### 2.4.1 AddCDRProfilesOperation"
   ]
  },
  {
   "cell_type": "markdown",
   "id": "union-wilson",
   "metadata": {},
   "source": [
    "#### 2.4.2 AddCDRProfileSetsOperation"
   ]
  },
  {
   "cell_type": "markdown",
   "id": "eight-oxygen",
   "metadata": {},
   "source": [
    "#### 2.4.3 DisableAntibodyRegionOperation"
   ]
  },
  {
   "cell_type": "markdown",
   "id": "enhanced-candle",
   "metadata": {},
   "source": [
    "#### 2.4.4 DisableCDRsOperation"
   ]
  },
  {
   "cell_type": "markdown",
   "id": "spare-attitude",
   "metadata": {},
   "source": [
    "#### 2.4.5 RestrictToCDRsAndNeighbors"
   ]
  },
  {
   "cell_type": "code",
   "execution_count": null,
   "id": "acknowledged-variance",
   "metadata": {},
   "outputs": [],
   "source": []
  },
  {
   "cell_type": "markdown",
   "id": "outdoor-cincinnati",
   "metadata": {},
   "source": [
    "### 2.5 Enzyme-related Operation(待补充)"
   ]
  },
  {
   "cell_type": "markdown",
   "id": "usual-chancellor",
   "metadata": {},
   "source": [
    "to-do"
   ]
  },
  {
   "cell_type": "code",
   "execution_count": null,
   "id": "verbal-bloom",
   "metadata": {},
   "outputs": [],
   "source": []
  }
 ],
 "metadata": {
  "kernelspec": {
   "display_name": "Python 3",
   "language": "python",
   "name": "python3"
  },
  "language_info": {
   "codemirror_mode": {
    "name": "ipython",
    "version": 3
   },
   "file_extension": ".py",
   "mimetype": "text/x-python",
   "name": "python",
   "nbconvert_exporter": "python",
   "pygments_lexer": "ipython3",
   "version": "3.6.12"
  }
 },
 "nbformat": 4,
 "nbformat_minor": 5
}
