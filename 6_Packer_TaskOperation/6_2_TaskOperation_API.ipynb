{
 "cells": [
  {
   "cell_type": "markdown",
   "id": "competitive-negative",
   "metadata": {},
   "source": [
    "## TaskOperation API"
   ]
  },
  {
   "cell_type": "markdown",
   "id": "beneficial-rabbit",
   "metadata": {},
   "source": [
    "@Author: 吴炜坤\n",
    "\n",
    "@email：weikun.wu@xtalpi.com/weikunwu@163.com"
   ]
  },
  {
   "cell_type": "markdown",
   "id": "similar-organization",
   "metadata": {},
   "source": [
    "本章节主要详尽地介绍TaskOperation的API，主要参考页面:\n",
    "> http://new.rosettacommons.org/docs/latest/scripting_documentation/RosettaScripts/TaskOperations/TaskOperations-RosettaScripts#specialized-operations_packer-behavior-modification"
   ]
  },
  {
   "cell_type": "markdown",
   "id": "spiritual-vegetable",
   "metadata": {},
   "source": [
    "TaskOperation从构建逻辑上来分类共计有两种类型:\n",
    "\n",
    "* Residue Level TaskOperations: 根据Selector设定选择范围内位点的Rotamer自由度(手动挡);\n",
    "* Specialized Operations: 根据预设好逻辑，对位点进行全局Rotamer操作(自动挡);"
   ]
  },
  {
   "cell_type": "markdown",
   "id": "thousand-denial",
   "metadata": {},
   "source": [
    "## 一、Residue Level TaskOperations"
   ]
  },
  {
   "cell_type": "markdown",
   "id": "prostate-farmer",
   "metadata": {},
   "source": [
    "Residue Level TaskOperations(RLT)一般需要配合Selector来指定操作的范围。用户可以直观地将RLT理解为一个自定义版本的Specialized Operations。特别注意的是:RLT是无法直接被TaskFactory所读取，其必须通过OperateOnResidueSubset函数来生成一个标准的TaskOperations。"
   ]
  },
  {
   "cell_type": "markdown",
   "id": "double-robinson",
   "metadata": {},
   "source": [
    "Rosetta中目前支持的所有RTL的列表:\n",
    "- RestrictToRepackingRLT\n",
    "- PreventRepackingRLT\n",
    "- RestrictAbsentCanonicalAASExceptNativeRLT\n",
    "- RestrictAbsentCanonicalAASRLT\n",
    "- DisallowIfNonnativeRLT\n",
    "- IncludeCurrentRLT\n",
    "- ExtraRotamersGenericRLT"
   ]
  },
  {
   "cell_type": "code",
   "execution_count": 6,
   "id": "economic-drove",
   "metadata": {},
   "outputs": [
    {
     "name": "stdout",
     "output_type": "stream",
     "text": [
      "PyRosetta-4 2020 [Rosetta PyRosetta4.conda.mac.cxx11thread.serialization.python36.Release 2020.50+release.1295438cd4bd2be39c9dbbfab8db669ab62415ab 2020-12-12T00:30:01] retrieved from: http://www.pyrosetta.org\n",
      "(C) Copyright Rosetta Commons Member Institutions. Created in JHU by Sergey Lyskov and PyRosetta Team.\n",
      "\u001b[0mcore.init: {0} \u001b[0mChecking for fconfig files in pwd and ./rosetta/flags\n",
      "\u001b[0mcore.init: {0} \u001b[0mRosetta version: PyRosetta4.conda.mac.cxx11thread.serialization.python36.Release r274 2020.50+release.1295438cd4b 1295438cd4bd2be39c9dbbfab8db669ab62415ab http://www.pyrosetta.org 2020-12-12T00:30:01\n",
      "\u001b[0mcore.init: {0} \u001b[0mcommand: PyRosetta -ex1 -ex2aro -database /opt/miniconda3/lib/python3.6/site-packages/pyrosetta/database\n",
      "\u001b[0mbasic.random.init_random_generator: {0} \u001b[0m'RNG device' seed mode, using '/dev/urandom', seed=-266372846 seed_offset=0 real_seed=-266372846 thread_index=0\n",
      "\u001b[0mbasic.random.init_random_generator: {0} \u001b[0mRandomGenerator:init: Normal mode, seed=-266372846 RG_type=mt19937\n",
      "\u001b[0mcore.import_pose.import_pose: {0} \u001b[0mFile './data/helix.pdb' automatically determined to be of type PDB\n",
      "\u001b[0mcore.conformation.Conformation: {0} \u001b[0m\u001b[1m[ WARNING ]\u001b[0m missing heavyatom:  OXT on residue GLY:CtermProteinFull 14\n"
     ]
    }
   ],
   "source": [
    "# 初始化PyRosetta并读取一段螺旋结构的PDB。\n",
    "from pyrosetta import *\n",
    "init()\n",
    "pose = pose_from_pdb('./data/helix.pdb')"
   ]
  },
  {
   "cell_type": "markdown",
   "id": "herbal-eating",
   "metadata": {},
   "source": [
    "**RestrictToRepackingRLT在上一章节中已经介绍，此处不再赘述。**"
   ]
  },
  {
   "cell_type": "code",
   "execution_count": 17,
   "id": "closing-dollar",
   "metadata": {},
   "outputs": [],
   "source": [
    "# 预先定义好 氨基酸的作用范围。\n",
    "from pyrosetta.rosetta.core.pack.task.operation import *\n",
    "from pyrosetta.rosetta.core.pack.task.operation import OperateOnResidueSubset\n",
    "from pyrosetta.rosetta.core.select.residue_selector import ResidueIndexSelector\n",
    "from pyrosetta.rosetta.core.pack.task import TaskFactory\n",
    "# 选择氨基酸范围\n",
    "select_pos = ResidueIndexSelector('2,3,4,5,6,7,8,9')"
   ]
  },
  {
   "cell_type": "markdown",
   "id": "middle-twins",
   "metadata": {},
   "source": [
    "#### 1.1 PreventRepackingRLT"
   ]
  },
  {
   "cell_type": "markdown",
   "id": "checked-nursery",
   "metadata": {},
   "source": [
    "将选择区域的氨基酸Rotamer自由度完全关闭，其侧链构象维持不变。"
   ]
  },
  {
   "cell_type": "code",
   "execution_count": 18,
   "id": "miniature-council",
   "metadata": {},
   "outputs": [
    {
     "name": "stdout",
     "output_type": "stream",
     "text": [
      "#Packer_Task\n",
      "\n",
      "Threads to request: ALL AVAILABLE\n",
      "\n",
      "resid\tpack?\tdesign?\tallowed_aas\n",
      "1\tTRUE\tTRUE\tALA:NtermProteinFull,CYS:NtermProteinFull,ASP:NtermProteinFull,GLU:NtermProteinFull,PHE:NtermProteinFull,GLY:NtermProteinFull,HIS:NtermProteinFull,HIS_D:NtermProteinFull,ILE:NtermProteinFull,LYS:NtermProteinFull,LEU:NtermProteinFull,MET:NtermProteinFull,ASN:NtermProteinFull,PRO:NtermProteinFull,GLN:NtermProteinFull,ARG:NtermProteinFull,SER:NtermProteinFull,THR:NtermProteinFull,VAL:NtermProteinFull,TRP:NtermProteinFull,TYR:NtermProteinFull\n",
      "2\tFALSE\tFALSE\t\n",
      "3\tFALSE\tFALSE\t\n",
      "4\tFALSE\tFALSE\t\n",
      "5\tFALSE\tFALSE\t\n",
      "6\tFALSE\tFALSE\t\n",
      "7\tFALSE\tFALSE\t\n",
      "8\tFALSE\tFALSE\t\n",
      "9\tFALSE\tFALSE\t\n",
      "10\tTRUE\tTRUE\tALA,CYS,ASP,GLU,PHE,GLY,HIS,HIS_D,ILE,LYS,LEU,MET,ASN,PRO,GLN,ARG,SER,THR,VAL,TRP,TYR\n",
      "11\tTRUE\tTRUE\tALA,CYS,ASP,GLU,PHE,GLY,HIS,HIS_D,ILE,LYS,LEU,MET,ASN,PRO,GLN,ARG,SER,THR,VAL,TRP,TYR\n",
      "12\tTRUE\tTRUE\tALA,CYS,ASP,GLU,PHE,GLY,HIS,HIS_D,ILE,LYS,LEU,MET,ASN,PRO,GLN,ARG,SER,THR,VAL,TRP,TYR\n",
      "13\tTRUE\tTRUE\tALA,CYS,ASP,GLU,PHE,GLY,HIS,HIS_D,ILE,LYS,LEU,MET,ASN,PRO,GLN,ARG,SER,THR,VAL,TRP,TYR\n",
      "14\tTRUE\tTRUE\tALA:CtermProteinFull,CYS:CtermProteinFull,ASP:CtermProteinFull,GLU:CtermProteinFull,PHE:CtermProteinFull,GLY:CtermProteinFull,HIS:CtermProteinFull,HIS_D:CtermProteinFull,ILE:CtermProteinFull,LYS:CtermProteinFull,LEU:CtermProteinFull,MET:CtermProteinFull,ASN:CtermProteinFull,PRO:CtermProteinFull,GLN:CtermProteinFull,ARG:CtermProteinFull,SER:CtermProteinFull,THR:CtermProteinFull,VAL:CtermProteinFull,TRP:CtermProteinFull,TYR:CtermProteinFull\n",
      "\n"
     ]
    }
   ],
   "source": [
    "# 使用OperateOnResidueSubset生成TaskOperations\n",
    "packing_taskop = OperateOnResidueSubset(PreventRepackingRLT(), select_pos, False)\n",
    "\n",
    "# 将TaskOperations加载至TaskFactory中\n",
    "pack_tf = TaskFactory()\n",
    "pack_tf.push_back(packing_taskop)\n",
    "\n",
    "# 生成PackerTask\n",
    "packer_task = pack_tf.create_task_and_apply_taskoperations(pose)\n",
    "print(packer_task)"
   ]
  },
  {
   "cell_type": "markdown",
   "id": "oriented-minimum",
   "metadata": {},
   "source": [
    "#### 1.2 RestrictAbsentCanonicalAASExceptNativeRLT"
   ]
  },
  {
   "cell_type": "markdown",
   "id": "aerial-acceptance",
   "metadata": {},
   "source": [
    "将Rotamer自由度限定在给定的氨基酸类型列表，并允许保留当前位点氨基酸类型的Rotamer保留。"
   ]
  },
  {
   "cell_type": "code",
   "execution_count": 23,
   "id": "narrative-conditioning",
   "metadata": {},
   "outputs": [
    {
     "name": "stdout",
     "output_type": "stream",
     "text": [
      "#Packer_Task\n",
      "\n",
      "Threads to request: ALL AVAILABLE\n",
      "\n",
      "resid\tpack?\tdesign?\tallowed_aas\n",
      "1\tTRUE\tTRUE\tALA:NtermProteinFull,CYS:NtermProteinFull,ASP:NtermProteinFull,GLU:NtermProteinFull,PHE:NtermProteinFull,GLY:NtermProteinFull,HIS:NtermProteinFull,HIS_D:NtermProteinFull,ILE:NtermProteinFull,LYS:NtermProteinFull,LEU:NtermProteinFull,MET:NtermProteinFull,ASN:NtermProteinFull,PRO:NtermProteinFull,GLN:NtermProteinFull,ARG:NtermProteinFull,SER:NtermProteinFull,THR:NtermProteinFull,VAL:NtermProteinFull,TRP:NtermProteinFull,TYR:NtermProteinFull\n",
      "2\tTRUE\tTRUE\tGLU,ILE,LYS,GLN\n",
      "3\tTRUE\tTRUE\tILE,LYS,LEU,GLN\n",
      "4\tTRUE\tTRUE\tILE,LYS,GLN\n",
      "5\tTRUE\tTRUE\tILE,LYS,GLN\n",
      "6\tTRUE\tTRUE\tILE,LYS,GLN,TRP\n",
      "7\tTRUE\tTRUE\tILE,LYS,GLN,VAL\n",
      "8\tTRUE\tTRUE\tGLU,ILE,LYS,GLN\n",
      "9\tTRUE\tTRUE\tILE,LYS,GLN\n",
      "10\tTRUE\tTRUE\tALA,CYS,ASP,GLU,PHE,GLY,HIS,HIS_D,ILE,LYS,LEU,MET,ASN,PRO,GLN,ARG,SER,THR,VAL,TRP,TYR\n",
      "11\tTRUE\tTRUE\tALA,CYS,ASP,GLU,PHE,GLY,HIS,HIS_D,ILE,LYS,LEU,MET,ASN,PRO,GLN,ARG,SER,THR,VAL,TRP,TYR\n",
      "12\tTRUE\tTRUE\tALA,CYS,ASP,GLU,PHE,GLY,HIS,HIS_D,ILE,LYS,LEU,MET,ASN,PRO,GLN,ARG,SER,THR,VAL,TRP,TYR\n",
      "13\tTRUE\tTRUE\tALA,CYS,ASP,GLU,PHE,GLY,HIS,HIS_D,ILE,LYS,LEU,MET,ASN,PRO,GLN,ARG,SER,THR,VAL,TRP,TYR\n",
      "14\tTRUE\tTRUE\tALA:CtermProteinFull,CYS:CtermProteinFull,ASP:CtermProteinFull,GLU:CtermProteinFull,PHE:CtermProteinFull,GLY:CtermProteinFull,HIS:CtermProteinFull,HIS_D:CtermProteinFull,ILE:CtermProteinFull,LYS:CtermProteinFull,LEU:CtermProteinFull,MET:CtermProteinFull,ASN:CtermProteinFull,PRO:CtermProteinFull,GLN:CtermProteinFull,ARG:CtermProteinFull,SER:CtermProteinFull,THR:CtermProteinFull,VAL:CtermProteinFull,TRP:CtermProteinFull,TYR:CtermProteinFull\n",
      "\n"
     ]
    }
   ],
   "source": [
    "# 定义自由度\n",
    "design_with_wt = RestrictAbsentCanonicalAASExceptNativeRLT()\n",
    "design_with_wt.aas_to_keep('QKI')\n",
    "\n",
    "# 使用OperateOnResidueSubset生成TaskOperations\n",
    "packing_taskop = OperateOnResidueSubset(design_with_wt, select_pos, False)\n",
    "\n",
    "# 将TaskOperations加载至TaskFactory中\n",
    "pack_tf = TaskFactory()\n",
    "pack_tf.push_back(packing_taskop)\n",
    "\n",
    "# 生成PackerTask\n",
    "packer_task = pack_tf.create_task_and_apply_taskoperations(pose)\n",
    "print(packer_task)"
   ]
  },
  {
   "cell_type": "markdown",
   "id": "solid-battery",
   "metadata": {},
   "source": [
    "#### 1.3 RestrictAbsentCanonicalAASRLT"
   ]
  },
  {
   "cell_type": "markdown",
   "id": "toxic-independence",
   "metadata": {},
   "source": [
    "功能与RestrictAbsentCanonicalAASExceptNativeRLT类似，将Rotamer自由度限定在给定的氨基酸类型列表。唯一的差别在于RestrictAbsentCanonicalAASRLT会忘记当前的氨基酸类型。"
   ]
  },
  {
   "cell_type": "code",
   "execution_count": 25,
   "id": "vulnerable-stable",
   "metadata": {},
   "outputs": [
    {
     "name": "stdout",
     "output_type": "stream",
     "text": [
      "#Packer_Task\n",
      "\n",
      "Threads to request: ALL AVAILABLE\n",
      "\n",
      "resid\tpack?\tdesign?\tallowed_aas\n",
      "1\tTRUE\tTRUE\tALA:NtermProteinFull,CYS:NtermProteinFull,ASP:NtermProteinFull,GLU:NtermProteinFull,PHE:NtermProteinFull,GLY:NtermProteinFull,HIS:NtermProteinFull,HIS_D:NtermProteinFull,ILE:NtermProteinFull,LYS:NtermProteinFull,LEU:NtermProteinFull,MET:NtermProteinFull,ASN:NtermProteinFull,PRO:NtermProteinFull,GLN:NtermProteinFull,ARG:NtermProteinFull,SER:NtermProteinFull,THR:NtermProteinFull,VAL:NtermProteinFull,TRP:NtermProteinFull,TYR:NtermProteinFull\n",
      "2\tTRUE\tTRUE\tILE,LYS,GLN\n",
      "3\tTRUE\tTRUE\tILE,LYS,GLN\n",
      "4\tTRUE\tTRUE\tILE,LYS,GLN\n",
      "5\tTRUE\tTRUE\tILE,LYS,GLN\n",
      "6\tTRUE\tTRUE\tILE,LYS,GLN\n",
      "7\tTRUE\tTRUE\tILE,LYS,GLN\n",
      "8\tTRUE\tTRUE\tILE,LYS,GLN\n",
      "9\tTRUE\tTRUE\tILE,LYS,GLN\n",
      "10\tTRUE\tTRUE\tALA,CYS,ASP,GLU,PHE,GLY,HIS,HIS_D,ILE,LYS,LEU,MET,ASN,PRO,GLN,ARG,SER,THR,VAL,TRP,TYR\n",
      "11\tTRUE\tTRUE\tALA,CYS,ASP,GLU,PHE,GLY,HIS,HIS_D,ILE,LYS,LEU,MET,ASN,PRO,GLN,ARG,SER,THR,VAL,TRP,TYR\n",
      "12\tTRUE\tTRUE\tALA,CYS,ASP,GLU,PHE,GLY,HIS,HIS_D,ILE,LYS,LEU,MET,ASN,PRO,GLN,ARG,SER,THR,VAL,TRP,TYR\n",
      "13\tTRUE\tTRUE\tALA,CYS,ASP,GLU,PHE,GLY,HIS,HIS_D,ILE,LYS,LEU,MET,ASN,PRO,GLN,ARG,SER,THR,VAL,TRP,TYR\n",
      "14\tTRUE\tTRUE\tALA:CtermProteinFull,CYS:CtermProteinFull,ASP:CtermProteinFull,GLU:CtermProteinFull,PHE:CtermProteinFull,GLY:CtermProteinFull,HIS:CtermProteinFull,HIS_D:CtermProteinFull,ILE:CtermProteinFull,LYS:CtermProteinFull,LEU:CtermProteinFull,MET:CtermProteinFull,ASN:CtermProteinFull,PRO:CtermProteinFull,GLN:CtermProteinFull,ARG:CtermProteinFull,SER:CtermProteinFull,THR:CtermProteinFull,VAL:CtermProteinFull,TRP:CtermProteinFull,TYR:CtermProteinFull\n",
      "\n"
     ]
    }
   ],
   "source": [
    "# 定义自由度\n",
    "design_to = RestrictAbsentCanonicalAASRLT()\n",
    "design_to.aas_to_keep('QKI')\n",
    "\n",
    "# 使用OperateOnResidueSubset生成TaskOperations\n",
    "packing_taskop = OperateOnResidueSubset(design_to, select_pos, False)\n",
    "\n",
    "# 将TaskOperations加载至TaskFactory中\n",
    "pack_tf = TaskFactory()\n",
    "pack_tf.push_back(packing_taskop)\n",
    "\n",
    "# 生成PackerTask\n",
    "packer_task = pack_tf.create_task_and_apply_taskoperations(pose)\n",
    "print(packer_task)"
   ]
  },
  {
   "cell_type": "markdown",
   "id": "brutal-objective",
   "metadata": {},
   "source": [
    "#### 1.4 DisallowIfNonnativeRLT"
   ]
  },
  {
   "cell_type": "markdown",
   "id": "southeast-share",
   "metadata": {},
   "source": [
    "不允许突变为列表中指定氨基酸类型，但允许保留当前位点氨基酸类型的Rotamer保留。"
   ]
  },
  {
   "cell_type": "code",
   "execution_count": 47,
   "id": "outer-turkey",
   "metadata": {},
   "outputs": [
    {
     "name": "stdout",
     "output_type": "stream",
     "text": [
      "#Packer_Task\n",
      "\n",
      "Threads to request: ALL AVAILABLE\n",
      "\n",
      "resid\tpack?\tdesign?\tallowed_aas\n",
      "1\tTRUE\tTRUE\tALA:NtermProteinFull,CYS:NtermProteinFull,ASP:NtermProteinFull,GLU:NtermProteinFull,PHE:NtermProteinFull,GLY:NtermProteinFull,HIS:NtermProteinFull,HIS_D:NtermProteinFull,ILE:NtermProteinFull,LYS:NtermProteinFull,LEU:NtermProteinFull,MET:NtermProteinFull,ASN:NtermProteinFull,PRO:NtermProteinFull,GLN:NtermProteinFull,ARG:NtermProteinFull,SER:NtermProteinFull,THR:NtermProteinFull,VAL:NtermProteinFull,TRP:NtermProteinFull,TYR:NtermProteinFull\n",
      "2\tTRUE\tTRUE\tCYS,ASP,GLU,PHE,GLY,MET,ASN,PRO,SER,THR,VAL,TRP,TYR\n",
      "3\tTRUE\tTRUE\tCYS,ASP,GLU,PHE,GLY,LEU,MET,ASN,PRO,SER,THR,VAL,TRP,TYR\n",
      "4\tTRUE\tTRUE\tCYS,ASP,GLU,PHE,GLY,MET,ASN,PRO,GLN,SER,THR,VAL,TRP,TYR\n",
      "5\tTRUE\tTRUE\tCYS,ASP,GLU,PHE,GLY,LYS,MET,ASN,PRO,SER,THR,VAL,TRP,TYR\n",
      "6\tTRUE\tTRUE\tCYS,ASP,GLU,PHE,GLY,MET,ASN,PRO,SER,THR,VAL,TRP,TYR\n",
      "7\tTRUE\tTRUE\tCYS,ASP,GLU,PHE,GLY,MET,ASN,PRO,SER,THR,VAL,TRP,TYR\n",
      "8\tTRUE\tTRUE\tCYS,ASP,GLU,PHE,GLY,MET,ASN,PRO,SER,THR,VAL,TRP,TYR\n",
      "9\tTRUE\tTRUE\tCYS,ASP,GLU,PHE,GLY,MET,ASN,PRO,GLN,SER,THR,VAL,TRP,TYR\n",
      "10\tTRUE\tTRUE\tALA,CYS,ASP,GLU,PHE,GLY,HIS,HIS_D,ILE,LYS,LEU,MET,ASN,PRO,GLN,ARG,SER,THR,VAL,TRP,TYR\n",
      "11\tTRUE\tTRUE\tALA,CYS,ASP,GLU,PHE,GLY,HIS,HIS_D,ILE,LYS,LEU,MET,ASN,PRO,GLN,ARG,SER,THR,VAL,TRP,TYR\n",
      "12\tTRUE\tTRUE\tALA,CYS,ASP,GLU,PHE,GLY,HIS,HIS_D,ILE,LYS,LEU,MET,ASN,PRO,GLN,ARG,SER,THR,VAL,TRP,TYR\n",
      "13\tTRUE\tTRUE\tALA,CYS,ASP,GLU,PHE,GLY,HIS,HIS_D,ILE,LYS,LEU,MET,ASN,PRO,GLN,ARG,SER,THR,VAL,TRP,TYR\n",
      "14\tTRUE\tTRUE\tALA:CtermProteinFull,CYS:CtermProteinFull,ASP:CtermProteinFull,GLU:CtermProteinFull,PHE:CtermProteinFull,GLY:CtermProteinFull,HIS:CtermProteinFull,HIS_D:CtermProteinFull,ILE:CtermProteinFull,LYS:CtermProteinFull,LEU:CtermProteinFull,MET:CtermProteinFull,ASN:CtermProteinFull,PRO:CtermProteinFull,GLN:CtermProteinFull,ARG:CtermProteinFull,SER:CtermProteinFull,THR:CtermProteinFull,VAL:CtermProteinFull,TRP:CtermProteinFull,TYR:CtermProteinFull\n",
      "\n"
     ]
    }
   ],
   "source": [
    "# 定义自由度\n",
    "not_design_to = DisallowIfNonnativeRLT()\n",
    "not_design_to.disallow_aas('HLQKILRA')\n",
    "\n",
    "# 使用OperateOnResidueSubset生成TaskOperations\n",
    "packing_taskop = OperateOnResidueSubset(not_design_to, select_pos, False)\n",
    "\n",
    "# 将TaskOperations加载至TaskFactory中\n",
    "pack_tf = TaskFactory()\n",
    "pack_tf.push_back(packing_taskop)\n",
    "\n",
    "# 生成PackerTask\n",
    "packer_task = pack_tf.create_task_and_apply_taskoperations(pose)\n",
    "print(packer_task)"
   ]
  },
  {
   "cell_type": "markdown",
   "id": "dense-burden",
   "metadata": {},
   "source": [
    "#### 1.5 IncludeCurrentRLT\n",
    "设定Packer在执行期间，考虑Pose输入时的Rotamer状态。"
   ]
  },
  {
   "cell_type": "code",
   "execution_count": 57,
   "id": "desperate-strengthening",
   "metadata": {},
   "outputs": [
    {
     "data": {
      "text/plain": [
       "True"
      ]
     },
     "execution_count": 57,
     "metadata": {},
     "output_type": "execute_result"
    }
   ],
   "source": [
    "# 使用OperateOnResidueSubset生成TaskOperations\n",
    "packing_taskop = OperateOnResidueSubset(IncludeCurrentRLT(), select_pos, False)\n",
    "\n",
    "# 将TaskOperations加载至TaskFactory中\n",
    "pack_tf = TaskFactory()\n",
    "pack_tf.push_back(packing_taskop)\n",
    "\n",
    "# 生成PackerTask\n",
    "packer_task = pack_tf.create_task_and_apply_taskoperations(pose)\n",
    "\n",
    "# 检查是否Pack中是否包含input的rotamer构象:\n",
    "packer_task.include_current(2)"
   ]
  },
  {
   "cell_type": "code",
   "execution_count": 58,
   "id": "frozen-ethernet",
   "metadata": {},
   "outputs": [
    {
     "data": {
      "text/plain": [
       "False"
      ]
     },
     "execution_count": 58,
     "metadata": {},
     "output_type": "execute_result"
    }
   ],
   "source": [
    "# 检查是否Pack中是否包含input的rotamer构象:\n",
    "packer_task.include_current(1)"
   ]
  },
  {
   "cell_type": "markdown",
   "id": "executive-daisy",
   "metadata": {},
   "source": [
    "#### 1.6 ExtraRotamersGenericRLT\n",
    "设定在Rotamer采样中，是否考虑增加额外的数量，否则仅会考虑理想型的Rotamer。"
   ]
  },
  {
   "cell_type": "code",
   "execution_count": null,
   "id": "wooden-klein",
   "metadata": {},
   "outputs": [],
   "source": []
  },
  {
   "cell_type": "markdown",
   "id": "saved-strength",
   "metadata": {},
   "source": [
    "## 二、Specialized Operations"
   ]
  },
  {
   "cell_type": "markdown",
   "id": "induced-finance",
   "metadata": {},
   "source": [
    "### 2.1 Position/Identity Specification"
   ]
  },
  {
   "cell_type": "markdown",
   "id": "limited-significance",
   "metadata": {},
   "source": [
    "### 2.2 Rotamer Specification"
   ]
  },
  {
   "cell_type": "markdown",
   "id": "front-greene",
   "metadata": {},
   "source": [
    "### 2.3 Packer Behavior Modification"
   ]
  },
  {
   "cell_type": "markdown",
   "id": "bizarre-street",
   "metadata": {},
   "source": [
    "### 2.4 Antibody and CDR Specific Operations"
   ]
  },
  {
   "cell_type": "code",
   "execution_count": null,
   "id": "speaking-belfast",
   "metadata": {},
   "outputs": [],
   "source": []
  }
 ],
 "metadata": {
  "kernelspec": {
   "display_name": "Python 3",
   "language": "python",
   "name": "python3"
  },
  "language_info": {
   "codemirror_mode": {
    "name": "ipython",
    "version": 3
   },
   "file_extension": ".py",
   "mimetype": "text/x-python",
   "name": "python",
   "nbconvert_exporter": "python",
   "pygments_lexer": "ipython3",
   "version": "3.6.12"
  }
 },
 "nbformat": 4,
 "nbformat_minor": 5
}
