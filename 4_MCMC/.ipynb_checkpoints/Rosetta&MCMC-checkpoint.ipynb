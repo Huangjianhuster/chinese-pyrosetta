{
 "cells": [
  {
   "cell_type": "markdown",
   "id": "progressive-communist",
   "metadata": {},
   "source": [
    "## Rosetta & MCMC(马尔可夫链蒙特卡罗算法)\n",
    "\n",
    "@Author: 吴炜坤\n",
    "\n",
    "@email：weikun.wu@xtalpi.com weikunwu@163.com"
   ]
  },
  {
   "cell_type": "markdown",
   "id": "considered-sweet",
   "metadata": {},
   "source": [
    "在Rosetta中，蛋白质的构象采样使用的是梅特罗波利斯算法（Metropolis algorithm），顾明思议包括“蒙特卡罗”和“马尔可夫链”。"
   ]
  },
  {
   "cell_type": "markdown",
   "id": "israeli-price",
   "metadata": {},
   "source": [
    "#### 状态空间\n",
    "在构象搜索的问题中，状态空间就是**构象空间**，它维度是N维的, 由构象的自由度数量所决定。\n",
    "在这里为了方便理解，我们只考虑这么一种场景: 由1个甘氨基酸和1个丙氨酸组成的多肽结构，这个结构中只有两个自由度，即甘氨基酸的PSI和丙氨酸的PHI角的情况。那如果描述这个二肽的构象，只需要2个参数就足够了。此时的构象空间画出来就是一张由XY轴组成的正方形(下图左)。其中绿色的点代表不同骨架状态，**这些所有可能存在的构象就共同组成了这个二肽结构的构象空间**\n",
    "\n",
    "<img src=\"./img/conformation_space.jpg\" width = \"800\" height = \"200\" align=center />"
   ]
  },
  {
   "cell_type": "markdown",
   "id": "compatible-championship",
   "metadata": {},
   "source": [
    "但是对于分子量更大的蛋白质(更多的氨基酸，更多的主链和侧链自由度)，其构象空间是高维的，并且具有非常多的局部能量鞍点。(玻尔兹曼与构象分布)"
   ]
  },
  {
   "cell_type": "markdown",
   "id": "reserved-accessory",
   "metadata": {},
   "source": [
    "[玻尔兹曼图、体系的funnel图。]"
   ]
  },
  {
   "cell_type": "markdown",
   "id": "fourth-clone",
   "metadata": {},
   "source": [
    "#### 蒙特卡洛\n",
    "蒙特卡罗方法是一种随机模拟的方法，也就是求解随机事件发生的概率或者随机变量的期望时，通过设计一种抽样方法，得到某一个特定事件发生的频率，或计算某一些性质的积分值或平均值。"
   ]
  },
  {
   "cell_type": "markdown",
   "id": "local-circulation",
   "metadata": {},
   "source": [
    "【蒙特卡洛图片】"
   ]
  },
  {
   "cell_type": "markdown",
   "id": "consistent-maryland",
   "metadata": {},
   "source": []
  },
  {
   "cell_type": "markdown",
   "id": "intimate-northwest",
   "metadata": {},
   "source": [
    "回到我们的例子中，在构象空间中存在着各种各样的点，而这些点(构象)其实含有“隐藏属性”即**构象的能量**。在真实的世界中，不同构象并非均匀分布，而是服从玻尔兹曼分布，当构象能量越低，它在真实世界中出现的概率就越大，并且不同构象之间存在着能量差，若干几个能量特别低的构象可能占据了90%以上出现概率。那在蛋白质构象搜索的过程中，那如何才能找到这些低能量的构象状态的集合或则计算他们分布的概率呢？\n",
    "\n",
    "虽然我们可以计算每一种可能的状态能量，但是遍历所有的构象是困难且耗时的，通过蒙特卡洛的方法，我们可以随机抽样，并快速估计某些低能构象出现的区间分布情况。\n",
    "\n",
    "具体操作:\n",
    "1. 在一次独立的采样中，随机设定上述GA二肽的两个PHI/PSI二面角，得到一个独立的构象，并计算该构像能量(假设我们计算的能量100%准确);\n",
    "2. 通过大量的重复独立的采样，得到许多的构象集合，截取构象能量前5%，统计拟合PHI/PSI二面角分布。\n",
    "\n",
    "本质上还是通过大批量的随机抽样来逼近或近似真实世界的构象概率分布的过程。\n",
    "\n",
    "如下左图，我们通过10万次采样，取能量前1%的构象做统计，得到的分布图如下, 可以观测到，有2个区间的构象富集，说明这个分布区间的主链能量比较低。\n",
    "\n",
    "<img src=\"./img/mc_samping.jpg\" width = \"600\" height = \"200\" align=center />"
   ]
  },
  {
   "cell_type": "markdown",
   "id": "included-explorer",
   "metadata": {},
   "source": []
  },
  {
   "cell_type": "markdown",
   "id": "previous-anderson",
   "metadata": {},
   "source": [
    "#### 马尔科夫链\n",
    "> 引自维基百科: 马尔可夫链为状态空间中经过从一个状态到另一个状态的转换的随机过程。该过程要求具备“无记忆”的性质：下一状态的概率分布只能由当前状态决定，在时间序列中它前面的事件均与之无关。这种特定类型的“无记忆性”称作马尔可夫性质。\n",
    "\n",
    "- 下一个状态转移的概率只与当前状态有关，但这个概率我们预先是不知道的。在Rosetta中这个概率由Move的类型决定\n",
    "- \n",
    "\n",
    "为什么要用马尔科夫链蒙特卡洛，他的优势在于对高维空间中的抽样？"
   ]
  },
  {
   "cell_type": "code",
   "execution_count": null,
   "id": "internal-blond",
   "metadata": {},
   "outputs": [],
   "source": []
  },
  {
   "cell_type": "markdown",
   "id": "relevant-diamond",
   "metadata": {},
   "source": [
    "#### Metropolis-Hastings方法"
   ]
  },
  {
   "cell_type": "markdown",
   "id": "agreed-population",
   "metadata": {},
   "source": [
    "这是计算目标函数差的最快方法。 判断新解是否被接受，判断的依据是一个接受准则，最常用的接受准则是Metropolis准则"
   ]
  },
  {
   "cell_type": "markdown",
   "id": "worldwide-grain",
   "metadata": {},
   "source": [
    "Rosetta is stochastic software; given the huge search space available, we walk through it randomly rather than exhaustively. Accordingly, a simulation must be run many times to produce a population of results, called decoys, which may be analyzed statistically. Generally, the number of output structures can be controlled by the -nstruct (number of structures) option. See Rosetta at Different Scales for a general sense of the recommended number of output structures for different tasks, and refer to the documentation and demos for details on specific protocols."
   ]
  },
  {
   "cell_type": "markdown",
   "id": "signed-luther",
   "metadata": {},
   "source": [
    "假设我们通过能量函数计算得到的构象能量是100%与真实能量吻合。在给定的恒温体系下，我们如何才能统计这个体系的平均能量呢？一个很直观的公式就是将某一个状态的体系能量乘以该体系出现的概率，将所有可能的状态进行加权加和，这样我们就可以得到体系的能量。\n",
    "\n",
    "计算公式:\n",
    "$$\n",
    "<Q> = \\sum_{j} e^{-E_{i} / k T}\n",
    "$$\n",
    "$$\n",
    "p_{i} = \\frac{e^{-E_{i} / k T }}{<Q>}\n",
    "$$\n",
    "$$\n",
    "<E> = \\sum_{i} E_{i} p_{i}\n",
    "$$\n",
    "一个简单粗暴的方法就是直接随机采样(蒙特卡洛)，每一次都进行主链二面角数值的随机化，计算每一种可能构象的能量。只要采样数足够大，我们计算得到的配分函数 $<Q>$ 来计算每种构象出现的概率$p_{i}$, 最后得到体系的能量$<E>$。\n",
    "\n",
    "但是实际的情况是，在恒温体系下:\n",
    "- 低能构象的比例远大于高能构象的比例, 所以一次独立的随机采样得到构象大概率其能量都比较高，而高能量构象在实际体系中出现概率低，因此对平均能量的贡献小, 导致采样效率低下;\n",
    "- 只要采样的构象足够地多，才能比较准确地计算出配分函数和构象的概率;\n",
    "- 一个N个氨基酸的主链自由度有2(N-1), 独立重复的抽样随着自由度增加而成倍增加，需要极大的计算资源。"
   ]
  },
  {
   "cell_type": "code",
   "execution_count": null,
   "id": "expanded-ethiopia",
   "metadata": {},
   "outputs": [],
   "source": []
  },
  {
   "cell_type": "code",
   "execution_count": null,
   "id": "whole-delta",
   "metadata": {},
   "outputs": [],
   "source": []
  },
  {
   "cell_type": "markdown",
   "id": "executive-survivor",
   "metadata": {},
   "source": [
    "### *引用参考:\n",
    "\n",
    "ref1: https://wiki.mbalib.com/wiki/%E8%92%99%E7%89%B9%E5%8D%A1%E7%BD%97%E6%96%B9%E6%B3%95\n",
    "\n",
    "ref2: https://zhuanlan.zhihu.com/p/146020807\n",
    "\n",
    "ref3: https://setosa.io/ev/markov-chains/\n",
    "\n",
    "ref4: https://blog.csdn.net/jinshengtao/article/details/105888161"
   ]
  },
  {
   "cell_type": "markdown",
   "id": "accessible-partner",
   "metadata": {},
   "source": [
    "https://setosa.io/ev/markov-chains/\n",
    "\n",
    "以天气的变化，说明马尔科夫链与马尔科夫转移矩阵对现象预测的建模。"
   ]
  },
  {
   "cell_type": "code",
   "execution_count": null,
   "id": "brutal-knife",
   "metadata": {},
   "outputs": [],
   "source": []
  }
 ],
 "metadata": {
  "kernelspec": {
   "display_name": "Python 3",
   "language": "python",
   "name": "python3"
  },
  "language_info": {
   "codemirror_mode": {
    "name": "ipython",
    "version": 3
   },
   "file_extension": ".py",
   "mimetype": "text/x-python",
   "name": "python",
   "nbconvert_exporter": "python",
   "pygments_lexer": "ipython3",
   "version": "3.6.12"
  }
 },
 "nbformat": 4,
 "nbformat_minor": 5
}
