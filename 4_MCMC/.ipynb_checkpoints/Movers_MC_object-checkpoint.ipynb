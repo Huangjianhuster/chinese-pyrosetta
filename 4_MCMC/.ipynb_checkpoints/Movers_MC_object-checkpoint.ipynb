{
 "cells": [
  {
   "cell_type": "markdown",
   "id": "presidential-division",
   "metadata": {},
   "source": [
    "## MonteCarlo object & Movers\n",
    "\n",
    "@Author: 吴炜坤\n",
    "\n",
    "@email：weikun.wu@xtalpi.com/weikunwu@163.com"
   ]
  },
  {
   "cell_type": "markdown",
   "id": "directed-imaging",
   "metadata": {},
   "source": [
    "在上一个章节中，我们已经对Metropolis算法有了基本的了解。在本章节中，我们将介绍PyRosetta中的MonteCarlo对象以及介绍一些简单movers的使用。在最后我们将示例如何定义一个用于采样的方法流程。"
   ]
  },
  {
   "cell_type": "markdown",
   "id": "elementary-passion",
   "metadata": {},
   "source": [
    "### 一、MonteCarlo object"
   ]
  },
  {
   "cell_type": "markdown",
   "id": "known-andrews",
   "metadata": {},
   "source": [
    "Metropolis算法有两个关键步骤，那就是move和accept，举例之前在mcmc.py中的代码函数, 判断接受过程中包括三个步骤, 记录move前的构象以及其能量, 采样后判断$P_{accept}$是否接受新的构象。\n",
    "\n",
    "在PyRosetta里，开发者们已经定义好了一个MonteCarlo的类，这个类主要有两个作用:\n",
    "- 记录最低低能量的Pose构象;\n",
    "- 判断是否接受新的构象.\n",
    "\n",
    "通过直接调用这个类和特定的moves组合使用，就可以实现Metropolis算法，以下我们将举一个实际的例子:"
   ]
  },
  {
   "cell_type": "markdown",
   "id": "unable-norfolk",
   "metadata": {},
   "source": [
    "1 首先进行初始化和pose的生成:"
   ]
  },
  {
   "cell_type": "code",
   "execution_count": 3,
   "id": "honest-stuff",
   "metadata": {},
   "outputs": [
    {
     "name": "stdout",
     "output_type": "stream",
     "text": [
      "PyRosetta-4 2020 [Rosetta PyRosetta4.conda.mac.cxx11thread.serialization.python36.Release 2020.50+release.1295438cd4bd2be39c9dbbfab8db669ab62415ab 2020-12-12T00:30:01] retrieved from: http://www.pyrosetta.org\n",
      "(C) Copyright Rosetta Commons Member Institutions. Created in JHU by Sergey Lyskov and PyRosetta Team.\n",
      "\u001b[0mcore.init: {0} \u001b[0mChecking for fconfig files in pwd and ./rosetta/flags\n",
      "\u001b[0mcore.init: {0} \u001b[0mRosetta version: PyRosetta4.conda.mac.cxx11thread.serialization.python36.Release r274 2020.50+release.1295438cd4b 1295438cd4bd2be39c9dbbfab8db669ab62415ab http://www.pyrosetta.org 2020-12-12T00:30:01\n",
      "\u001b[0mcore.init: {0} \u001b[0mcommand: PyRosetta -ex1 -ex2aro -database /opt/miniconda3/lib/python3.6/site-packages/pyrosetta/database\n",
      "\u001b[0mbasic.random.init_random_generator: {0} \u001b[0m'RNG device' seed mode, using '/dev/urandom', seed=509525957 seed_offset=0 real_seed=509525957 thread_index=0\n",
      "\u001b[0mbasic.random.init_random_generator: {0} \u001b[0mRandomGenerator:init: Normal mode, seed=509525957 RG_type=mt19937\n",
      "Old Pose Score:5.5084677688899575\n"
     ]
    }
   ],
   "source": [
    "# 可视化:\n",
    "import nglview\n",
    "\n",
    "# pyrosetta初始化\n",
    "from pyrosetta import init, pose_from_sequence, create_score_function\n",
    "from pyrosetta.rosetta.protocols.moves import MonteCarlo\n",
    "init()\n",
    "scorefxn = create_score_function('ref2015')\n",
    "\n",
    "# 从序列生成Pose\n",
    "pose = pose_from_sequence('AAA')\n",
    "\n",
    "# 定义温度\n",
    "kT = 1.0\n",
    "\n",
    "# 定义MonteCarlo object:\n",
    "mc = MonteCarlo(pose, scorefxn, kT)\n",
    "\n",
    "print(f'Old Pose Score:{scorefxn(pose)}')"
   ]
  },
  {
   "cell_type": "code",
   "execution_count": 4,
   "id": "altered-confidence",
   "metadata": {},
   "outputs": [
    {
     "data": {
      "application/vnd.jupyter.widget-view+json": {
       "model_id": "f46d61a5284c4c0ea8f0ea8ed74d3f14",
       "version_major": 2,
       "version_minor": 0
      },
      "text/plain": [
       "NGLWidget()"
      ]
     },
     "metadata": {},
     "output_type": "display_data"
    }
   ],
   "source": [
    "# old pose\n",
    "nglview.show_rosetta(pose)"
   ]
  },
  {
   "cell_type": "markdown",
   "id": "upset-worship",
   "metadata": {},
   "source": [
    "2 尝试进行构象的move和接受判断:（重新运行代码之后，结构可能就已经变了）"
   ]
  },
  {
   "cell_type": "code",
   "execution_count": 5,
   "id": "latter-fourth",
   "metadata": {},
   "outputs": [
    {
     "name": "stdout",
     "output_type": "stream",
     "text": [
      "New Pose Score:21.67053276514237\n"
     ]
    }
   ],
   "source": [
    "# 对骨架二面角进行随机的扰动.\n",
    "import random\n",
    "new_phi = random.uniform(-180, 180)\n",
    "new_psi = random.uniform(-180, 180)\n",
    "pose.set_phi(2, new_phi)\n",
    "pose.set_psi(2, new_psi)\n",
    "print(f'New Pose Score:{scorefxn(pose)}')"
   ]
  },
  {
   "cell_type": "code",
   "execution_count": 6,
   "id": "native-trail",
   "metadata": {},
   "outputs": [
    {
     "data": {
      "application/vnd.jupyter.widget-view+json": {
       "model_id": "b0e5f091ea8845f5a4e08ea58390b585",
       "version_major": 2,
       "version_minor": 0
      },
      "text/plain": [
       "NGLWidget()"
      ]
     },
     "metadata": {},
     "output_type": "display_data"
    }
   ],
   "source": [
    "# 可视化:\n",
    "nglview.show_rosetta(pose)"
   ]
  },
  {
   "cell_type": "markdown",
   "id": "behind-works",
   "metadata": {},
   "source": [
    "观察上述的两个构象, 接下来尝试使用MonteCarlo对象进行接受判断:"
   ]
  },
  {
   "cell_type": "code",
   "execution_count": 7,
   "id": "brilliant-anderson",
   "metadata": {},
   "outputs": [
    {
     "data": {
      "text/plain": [
       "False"
      ]
     },
     "execution_count": 7,
     "metadata": {},
     "output_type": "execute_result"
    }
   ],
   "source": [
    "# accept?\n",
    "mc.boltzmann(pose)"
   ]
  },
  {
   "cell_type": "markdown",
   "id": "statistical-holiday",
   "metadata": {},
   "source": [
    "使用mc对象中的函数，可以给出更加详细的接受信息，如下，本次是第n次trials，接受的结果是？"
   ]
  },
  {
   "cell_type": "code",
   "execution_count": 8,
   "id": "trained-appliance",
   "metadata": {},
   "outputs": [
    {
     "name": "stdout",
     "output_type": "stream",
     "text": [
      "\u001b[0mprotocols.moves.MonteCarlo: {0} \u001b[0mMonteCarlo:: last_accepted_score,lowest_score: 5.50847 5.50847\n",
      "\u001b[0mprotocols.moves.TrialCounter: {0} \u001b[0m             unk trials=      1 NO ACCEPTS.\n"
     ]
    }
   ],
   "source": [
    "# mc details;\n",
    "mc.show_scores()\n",
    "mc.show_counters()"
   ]
  },
  {
   "cell_type": "markdown",
   "id": "offshore-drunk",
   "metadata": {},
   "source": [
    "#### 小练习"
   ]
  },
  {
   "cell_type": "markdown",
   "id": "formal-abraham",
   "metadata": {},
   "source": [
    "请结合上述的函数，写一个随机采样骨架二面角的MonteCarlo采样程序(100次循环)。"
   ]
  },
  {
   "cell_type": "markdown",
   "id": "polished-qualification",
   "metadata": {},
   "source": [
    "### 二、Movers"
   ]
  },
  {
   "cell_type": "markdown",
   "id": "introductory-flight",
   "metadata": {},
   "source": [
    "> A Mover is a type of object in Rosetta that interacts with a Pose. Frequently, a Mover changes the Pose. "
   ]
  },
  {
   "cell_type": "markdown",
   "id": "reported-metro",
   "metadata": {},
   "source": [
    "从Mover的定义直观理解，所有能造成Pose中构象变化的操作，都可成为mover。在上述的例子中，我们通过单一地改变某一个二面角的操作，是蒙特卡洛的一次Move。\n",
    "接下来将会介绍几个与骨架优化相关的Mover，并且在下面的例子中读者将会学到如何将mover进行组装。"
   ]
  },
  {
   "cell_type": "markdown",
   "id": "french-sword",
   "metadata": {},
   "source": [
    "#### 1 Small and Shear Moves"
   ]
  },
  {
   "cell_type": "markdown",
   "id": "israeli-ethiopia",
   "metadata": {},
   "source": [
    "SmallMover和ShearMover是封装好的随机干扰phi/psi二面角的Mover，但有少许不同:\n",
    "- SmallMover: 随机选择一个氨基酸位点，扰动phi/psi二面角\n",
    "- ShearMover: 随机选择一个氨基酸位点，扰动phi角，随后将这个数值乘以-1，去干扰psi角。\n",
    "\n",
    "SmallMover和ShearMover会同时进行骨架的合理性，确保干扰的残基位于Ramachandran plot允许的区域:\n",
    "\n",
    "<center><img src=\"./img/rama.jpg\" width = \"600\" height = \"200\" align=center /></center>\n",
    "\n",
    "这两个简单mover最常被用于小幅度扰动当前骨架结构的工具。"
   ]
  },
  {
   "cell_type": "code",
   "execution_count": 9,
   "id": "recovered-acrobat",
   "metadata": {},
   "outputs": [],
   "source": [
    "from pyrosetta.rosetta.protocols.simple_moves import ShearMover, SmallMover\n",
    "from pyrosetta.rosetta.core.kinematics import MoveMap\n",
    "movemap = MoveMap()\n",
    "movemap.set_bb(True)\n",
    "n_moves = 5  # 定义执行多少次随机扰动\n",
    "kT = 2.0\n",
    "small_mover = SmallMover(movemap, kT, n_moves)\n",
    "shear_mover = ShearMover(movemap, kT, n_moves)"
   ]
  },
  {
   "cell_type": "code",
   "execution_count": 10,
   "id": "selected-permit",
   "metadata": {
    "tags": []
   },
   "outputs": [],
   "source": [
    "# small_mover/shear_mover 可以设定特定二级结构的扰动范围:\n",
    "small_mover.angle_max(\"H\", 25)\n",
    "small_mover.angle_max(\"E\", 25)\n",
    "small_mover.angle_max(\"L\", 25)"
   ]
  },
  {
   "cell_type": "code",
   "execution_count": 11,
   "id": "indonesian-terminology",
   "metadata": {},
   "outputs": [
    {
     "name": "stdout",
     "output_type": "stream",
     "text": [
      "\u001b[0mcore.scoring.ramachandran: {0} \u001b[0mshapovalov_lib::shap_rama_smooth_level of 4( aka highest_smooth ) got activated.\n",
      "\u001b[0mbasic.io.database: {0} \u001b[0mDatabase file opened: scoring/score_functions/rama/shapovalov/kappa25/all.ramaProb\n",
      "\u001b[0mbasic.io.database: {0} \u001b[0mDatabase file opened: scoring/score_functions/rama/flat/avg_L_rama.dat\n",
      "\u001b[0mcore.scoring.ramachandran: {0} \u001b[0mReading custom Ramachandran table from scoring/score_functions/rama/flat/avg_L_rama.dat.\n",
      "\u001b[0mbasic.io.database: {0} \u001b[0mDatabase file opened: scoring/score_functions/rama/flat/sym_all_rama.dat\n",
      "\u001b[0mcore.scoring.ramachandran: {0} \u001b[0mReading custom Ramachandran table from scoring/score_functions/rama/flat/sym_all_rama.dat.\n",
      "\u001b[0mbasic.io.database: {0} \u001b[0mDatabase file opened: scoring/score_functions/rama/flat/sym_G_rama.dat\n",
      "\u001b[0mcore.scoring.ramachandran: {0} \u001b[0mReading custom Ramachandran table from scoring/score_functions/rama/flat/sym_G_rama.dat.\n",
      "\u001b[0mbasic.io.database: {0} \u001b[0mDatabase file opened: scoring/score_functions/rama/flat/sym_P_rama.dat\n",
      "\u001b[0mcore.scoring.ramachandran: {0} \u001b[0mReading custom Ramachandran table from scoring/score_functions/rama/flat/sym_P_rama.dat.\n",
      "\u001b[0mbasic.io.database: {0} \u001b[0mDatabase file opened: scoring/score_functions/rama/flat/avg_L_rama_str.dat\n",
      "\u001b[0mcore.scoring.ramachandran: {0} \u001b[0mReading custom Ramachandran table from scoring/score_functions/rama/flat/avg_L_rama_str.dat.\n",
      "\u001b[0mbasic.io.database: {0} \u001b[0mDatabase file opened: scoring/score_functions/rama/flat/sym_all_rama_str.dat\n",
      "\u001b[0mcore.scoring.ramachandran: {0} \u001b[0mReading custom Ramachandran table from scoring/score_functions/rama/flat/sym_all_rama_str.dat.\n",
      "\u001b[0mbasic.io.database: {0} \u001b[0mDatabase file opened: scoring/score_functions/rama/flat/sym_G_rama_str.dat\n",
      "\u001b[0mcore.scoring.ramachandran: {0} \u001b[0mReading custom Ramachandran table from scoring/score_functions/rama/flat/sym_G_rama_str.dat.\n",
      "\u001b[0mbasic.io.database: {0} \u001b[0mDatabase file opened: scoring/score_functions/rama/flat/sym_P_rama_str.dat\n",
      "\u001b[0mcore.scoring.ramachandran: {0} \u001b[0mReading custom Ramachandran table from scoring/score_functions/rama/flat/sym_P_rama_str.dat.\n"
     ]
    },
    {
     "data": {
      "application/vnd.jupyter.widget-view+json": {
       "model_id": "4266379bd09f4b5682f0e2573a581849",
       "version_major": 2,
       "version_minor": 0
      },
      "text/plain": [
       "NGLWidget()"
      ]
     },
     "metadata": {},
     "output_type": "display_data"
    }
   ],
   "source": [
    "shear_mover.apply(pose)\n",
    "# 可视化:\n",
    "nglview.show_rosetta(pose)"
   ]
  },
  {
   "cell_type": "code",
   "execution_count": 12,
   "id": "cardiovascular-patrol",
   "metadata": {},
   "outputs": [
    {
     "name": "stdout",
     "output_type": "stream",
     "text": [
      "New Pose Score:4.315771159241792\n"
     ]
    }
   ],
   "source": [
    "print(f'New Pose Score:{scorefxn(pose)}')"
   ]
  },
  {
   "cell_type": "markdown",
   "id": "hollywood-accent",
   "metadata": {},
   "source": [
    "与之前的结果相比，可见使用SmallMover比我们随机在[-180, 180]的区间内随机选择一个数，构象的能量都要更低，构象也更加地合理，因为其检查了打分函数中的Rama项（骨架二面角势）"
   ]
  },
  {
   "cell_type": "markdown",
   "id": "administrative-internship",
   "metadata": {},
   "source": [
    "除了SmallMover和ShearMover以外，Rosetta的基础型Mover类型有非常的多，具体可参考官网链接: https://new.rosettacommons.org/docs/latest/scripting_documentation/RosettaScripts/Movers/Movers-RosettaScripts"
   ]
  },
  {
   "cell_type": "markdown",
   "id": "interesting-fiber",
   "metadata": {},
   "source": [
    "#### 2. MinMover\n"
   ]
  },
  {
   "cell_type": "markdown",
   "id": "virgin-credit",
   "metadata": {},
   "source": [
    "MinMover是Rosetta中被大量使用的一个Mover，基本的方法是使用梯度下降法优化首先对Pose中每一个自由度做偏导计算梯度∇E, 然后以一定的步长去改变当前Pose的各个自由度分量，重新计算当前构象的能量。不断地迭代重复，直到能量收敛到忍受值范围之内。"
   ]
  },
  {
   "cell_type": "markdown",
   "id": "young-output",
   "metadata": {},
   "source": [
    "举一个实际的例子说明: 当前体系中只有4个原子组成的二面角。通过4个原子的坐标可计算第1和第4个原子之间的范德华力得分。通过对两个原子距离的LJ势函数求导，可知两个原子之间的变化方向对能量的影响，选择梯度下降的方向对距离做一个很小的加量$\\delta d$, 此时两个原子之间的距离为$d+\\delta d$。如此经过几轮迭代，当梯度∇E趋向于0且小于忍受值，迭代停止，构象达到能量较低的状态。"
   ]
  },
  {
   "cell_type": "markdown",
   "id": "laden-westminster",
   "metadata": {},
   "source": [
    "<center><img src=\"./img/GD.jpg\" width = \"700\" height = \"200\" align=center /><center>"
   ]
  },
  {
   "cell_type": "markdown",
   "id": "fifteen-candidate",
   "metadata": {},
   "source": [
    "MinMover是Rosetta中被大量使用的一个Mover通常与Metropolis Monte Carlo连用。MinMover有几个关键的设置，其使用的能量函数、定义Pose自由度的Movemap、梯度下降的方法以及能量的耐受值。"
   ]
  },
  {
   "cell_type": "code",
   "execution_count": 13,
   "id": "checked-emphasis",
   "metadata": {},
   "outputs": [],
   "source": [
    "# 初始化定义MinMover\n",
    "from pyrosetta.rosetta.protocols.minimization_packing import MinMover\n",
    "# 定义movemap\n",
    "my_movemap = MoveMap()\n",
    "my_movemap.set_bb(True)\n",
    "\n",
    "# 初始化minmover\n",
    "min_mover = MinMover()\n",
    "min_mover.movemap(my_movemap)\n",
    "min_mover.min_type('lbfgs_armijo_nonmonotone')\n",
    "min_mover.score_function(scorefxn)\n",
    "min_mover.tolerance(0.01) # 能量变化的耐受值，当小于该值时停止优化."
   ]
  },
  {
   "cell_type": "markdown",
   "id": "grateful-forwarding",
   "metadata": {},
   "source": [
    "关于min_type有比较多的选择: 可参考: https://new.rosettacommons.org/docs/latest/rosetta_basics/structural_concepts/minimization-overview\n",
    "\n",
    "此处做出摘要和开发者的评论:\n",
    "\"dfpmin\" uses an exact line search, and Jim says it requires ~10 function evaluations per line search.\n",
    "\n",
    "\"dfpmin_armijo\" uses an inexact line search, where the step along the search direction only needs to improve the energy by a certain amount, and also make the gradient a certain amount flatter (but not necessarily reach the minimum). This ends up being significantly more efficient, as once it gets going only 2-3 function evaluations are needed per line search, and approximately the same number of line searches are needed as for the exact dfpmin.\n",
    "\n",
    "\"dfpmin_armijo_nonmonotone\" uses an even less exact line search along the descent direction, so that the step need only be better than one of the last few points visited. This allows temporary increases in energy, so that the search may escape shallow local minima and flat basins. Jim estimates this is several times more efficient than the exact dfpmin.\n",
    "\n",
    "\"dfpmin_strong_wolfe\" uses the More-Thuente line minimization algorithm that enforces both the Armijo and Wolfe conditions. This gives a better parabolic approximation to a minimum and can run a little faster than armijo.\n",
    "\n",
    "\"lbfgs_armijo\" uses the L-BFGS minimizer implementation with the Armijo inexact line search conditions.\n",
    "\n",
    "\"lbfgs_armijo_nonmonotone\" uses the L-BFGS minimizer implementation with the even more inexact line search conditions.\n",
    "\n",
    "\"lbfgs_strong_wolfe\" uses the L-BFGS minimizer implementation with the Wolfe conditions."
   ]
  },
  {
   "cell_type": "code",
   "execution_count": 14,
   "id": "premium-authority",
   "metadata": {},
   "outputs": [
    {
     "name": "stdout",
     "output_type": "stream",
     "text": [
      "\u001b[0mcore.import_pose.import_pose: {0} \u001b[0mFile './data/HighEnergy.pdb' automatically determined to be of type PDB\n"
     ]
    }
   ],
   "source": [
    "# 读入预先生成的高能量构象:\n",
    "from pyrosetta.io import pose_from_pdb\n",
    "bad_pose = pose_from_pdb('./data/HighEnergy.pdb')"
   ]
  },
  {
   "cell_type": "code",
   "execution_count": 15,
   "id": "ruled-enforcement",
   "metadata": {},
   "outputs": [
    {
     "data": {
      "text/plain": [
       "<pyrosetta.rosetta.protocols.moves.PyMOLObserver at 0x7fa62118cb58>"
      ]
     },
     "execution_count": 15,
     "metadata": {},
     "output_type": "execute_result"
    }
   ],
   "source": [
    "# 设置在Pymol中进行能量最小化的观察;\n",
    "from pyrosetta.teaching import PyMOLMover\n",
    "from pyrosetta.rosetta.protocols.moves import AddPyMOLObserver_to_conformation\n",
    "pmm = PyMOLMover()\n",
    "pmm.keep_history(True)\n",
    "pmm.apply(bad_pose)\n",
    "AddPyMOLObserver_to_conformation(bad_pose, True)"
   ]
  },
  {
   "cell_type": "code",
   "execution_count": 16,
   "id": "curious-invasion",
   "metadata": {},
   "outputs": [],
   "source": [
    "# 进行能量最小化\n",
    "min_mover.apply(bad_pose)"
   ]
  },
  {
   "cell_type": "markdown",
   "id": "bacterial-plastic",
   "metadata": {},
   "source": [
    "<center><img src=\"./img/minmover.gif\" width = \"400\" height = \"200\" align=center /><center>"
   ]
  },
  {
   "cell_type": "markdown",
   "id": "conceptual-pixel",
   "metadata": {},
   "source": [
    "观察可得能量最小化的轨迹。"
   ]
  },
  {
   "cell_type": "markdown",
   "id": "cellular-legislature",
   "metadata": {},
   "source": [
    "#### 3. Combination Mover"
   ]
  },
  {
   "cell_type": "markdown",
   "id": "surprised-custom",
   "metadata": {},
   "source": [
    "在Rosetta中有封装好的一些Combination Mover可以控制流程的运行逻辑，使用他们可以很方便的构建起一个MC流程。以下将着重介绍:"
   ]
  },
  {
   "cell_type": "code",
   "execution_count": 17,
   "id": "liquid-think",
   "metadata": {},
   "outputs": [],
   "source": [
    "# 初始化\n",
    "from pyrosetta.rosetta.protocols.moves import SequenceMover, RandomMover"
   ]
  },
  {
   "cell_type": "markdown",
   "id": "pleased-stranger",
   "metadata": {},
   "source": [
    "**SequenceMover和RandomMover**都是可以通过add_mover来设置子Mover的。他们的控制逻辑有些不同:\n",
    "- SequenceMover: 按顺序将子Movers逐一执行;\n",
    "- RandomMover: 随机挑选一个子Movers执行;"
   ]
  },
  {
   "cell_type": "code",
   "execution_count": 18,
   "id": "proud-model",
   "metadata": {},
   "outputs": [],
   "source": [
    "# SequenceMover\n",
    "seq_mover = SequenceMover()\n",
    "seq_mover.add_mover(small_mover)\n",
    "seq_mover.add_mover(shear_mover)\n",
    "seq_mover.add_mover(min_mover)\n",
    "seq_mover.apply(bad_pose)"
   ]
  },
  {
   "cell_type": "code",
   "execution_count": 19,
   "id": "resident-artwork",
   "metadata": {},
   "outputs": [],
   "source": [
    "# RandomMover\n",
    "rand_mover = RandomMover()\n",
    "rand_mover.add_mover(small_mover)\n",
    "rand_mover.add_mover(shear_mover)\n",
    "rand_mover.add_mover(min_mover)\n",
    "rand_mover.apply(bad_pose)"
   ]
  },
  {
   "cell_type": "markdown",
   "id": "animated-grant",
   "metadata": {},
   "source": [
    "<br>"
   ]
  },
  {
   "cell_type": "markdown",
   "id": "musical-scout",
   "metadata": {},
   "source": [
    "**TrialMover**是将一个Mover执行后与再MonteCarlo对象连用，判断构象是否被接受，它可以以SequenceMover或RandomMover构建的底层Mover的作为输入。同时也可以被SequenceMover或RandomMover所创建的更高层级Mover所包含。"
   ]
  },
  {
   "cell_type": "code",
   "execution_count": 20,
   "id": "formal-carter",
   "metadata": {},
   "outputs": [
    {
     "name": "stdout",
     "output_type": "stream",
     "text": [
      "\u001b[0mprotocols.moves.MonteCarlo: {0} \u001b[0mMC: 1  4.31577  4.31577  4.31577  4.31577  0  0  0  rejected\n",
      "\u001b[0mprotocols.moves.TrialCounter: {0} \u001b[0m           Small trials=      1 NO ACCEPTS.\n",
      "\u001b[0mprotocols.moves.MonteCarlo: {0} \u001b[0mMC: 1  3.64061  3.64061  3.64061  3.64061  0  0  0  accepted score beat low\n",
      "\u001b[0mprotocols.moves.TrialCounter: {0} \u001b[0m           Small trials=      2;  accepts= 0.5000;  energy_drop/trial=  -0.33758\n",
      "\u001b[0mprotocols.moves.MonteCarlo: {0} \u001b[0mMC: 1  3.64061  3.64061  3.64061  3.64061  0  0  0  rejected\n",
      "\u001b[0mprotocols.moves.TrialCounter: {0} \u001b[0m           Small trials=      3;  accepts= 0.3333;  energy_drop/trial=  -0.22505\n",
      "\u001b[0mprotocols.moves.MonteCarlo: {0} \u001b[0mMC: 1  3.64061  3.64061  3.64061  3.64061  0  0  0  rejected\n",
      "\u001b[0mprotocols.moves.TrialCounter: {0} \u001b[0m           Small trials=      4;  accepts= 0.2500;  energy_drop/trial=  -0.16879\n",
      "\u001b[0mprotocols.moves.MonteCarlo: {0} \u001b[0mMC: 1  4.17161  3.64061  4.17161  3.64061  0  0  0  accepted thermally\n",
      "\u001b[0mprotocols.moves.TrialCounter: {0} \u001b[0m           Small trials=      5;  accepts= 0.4000;  energy_drop/trial=  -0.02883\n"
     ]
    }
   ],
   "source": [
    "# demo for TrialMover(底层)\n",
    "from pyrosetta.rosetta.protocols.moves import TrialMover\n",
    "\n",
    "# 定义打分函数:\n",
    "scorefxn = create_score_function('ref2015')\n",
    "# 定义温度\n",
    "kT = 1.0\n",
    "# 定义MonteCarlo object:\n",
    "mc = MonteCarlo(pose, scorefxn, kT)\n",
    "\n",
    "for i in range(5):\n",
    "    trial_mover = TrialMover(small_mover, mc)\n",
    "    trial_mover.apply(pose)\n",
    "    mc.show_state()"
   ]
  },
  {
   "cell_type": "code",
   "execution_count": 21,
   "id": "boxed-margin",
   "metadata": {},
   "outputs": [],
   "source": [
    "# demo for TrialMover(中层)\n",
    "rand_mover = RandomMover()\n",
    "rand_mover.add_mover(trial_mover)\n",
    "rand_mover.add_mover(min_mover)"
   ]
  },
  {
   "cell_type": "code",
   "execution_count": 22,
   "id": "billion-squad",
   "metadata": {},
   "outputs": [
    {
     "name": "stdout",
     "output_type": "stream",
     "text": [
      "\u001b[0mprotocols.moves.MonteCarlo: {0} \u001b[0mMC: 1  4.06398  4.06398  4.06398  4.06398  0  0  0  accepted score beat low\n",
      "\u001b[0mprotocols.moves.TrialCounter: {0} \u001b[0m        MinMover trials=      1;  accepts= 1.0000;  energy_drop/trial=  -0.10763\n",
      "\u001b[0mprotocols.moves.MonteCarlo: {0} \u001b[0mMC: 1  4.17161  4.06398  4.17161  4.06398  0  0  0  accepted thermally\n",
      "\u001b[0mprotocols.moves.TrialCounter: {0} \u001b[0m        MinMover trials=      1;  accepts= 1.0000;  energy_drop/trial=  -0.10763\n",
      "\u001b[0mprotocols.moves.TrialCounter: {0} \u001b[0m       MoverBase trials=      1;  accepts= 1.0000;  energy_drop/trial=   0.10763\n",
      "\u001b[0mprotocols.moves.MonteCarlo: {0} \u001b[0mMC: 1  2.93786  2.93786  2.93786  2.93786  0  0  0  accepted score beat low\n",
      "\u001b[0mprotocols.moves.TrialCounter: {0} \u001b[0m        MinMover trials=      1;  accepts= 1.0000;  energy_drop/trial=  -0.10763\n",
      "\u001b[0mprotocols.moves.TrialCounter: {0} \u001b[0m       MoverBase trials=      2;  accepts= 1.0000;  energy_drop/trial=  -0.56306\n",
      "\u001b[0mprotocols.moves.MonteCarlo: {0} \u001b[0mMC: 1  2.822  2.822  2.822  2.822  0  0  0  accepted score beat low\n",
      "\u001b[0mprotocols.moves.TrialCounter: {0} \u001b[0m        MinMover trials=      2;  accepts= 1.0000;  energy_drop/trial=  -0.11174\n",
      "\u001b[0mprotocols.moves.TrialCounter: {0} \u001b[0m       MoverBase trials=      2;  accepts= 1.0000;  energy_drop/trial=  -0.56306\n",
      "\u001b[0mprotocols.moves.MonteCarlo: {0} \u001b[0mMC: 1  2.8217  2.8217  2.8217  2.8217  0  0  0  accepted score beat low\n",
      "\u001b[0mprotocols.moves.TrialCounter: {0} \u001b[0m        MinMover trials=      3;  accepts= 1.0000;  energy_drop/trial=  -0.07460\n",
      "\u001b[0mprotocols.moves.TrialCounter: {0} \u001b[0m       MoverBase trials=      2;  accepts= 1.0000;  energy_drop/trial=  -0.56306\n"
     ]
    }
   ],
   "source": [
    "# demo for TrialMover(顶层)\n",
    "top_mc = MonteCarlo(pose, scorefxn, kT)\n",
    "top_trial_mover = TrialMover(rand_mover, top_mc)\n",
    "for i in range(5):\n",
    "    top_trial_mover.apply(pose)\n",
    "    top_mc.show_state()"
   ]
  },
  {
   "cell_type": "markdown",
   "id": "suspected-balance",
   "metadata": {},
   "source": [
    "<br>"
   ]
  },
  {
   "cell_type": "markdown",
   "id": "chinese-efficiency",
   "metadata": {},
   "source": [
    "上面的代码也可以改写使用**RepeatMover**来写"
   ]
  },
  {
   "cell_type": "code",
   "execution_count": 23,
   "id": "fitting-request",
   "metadata": {},
   "outputs": [],
   "source": [
    "# demo for RepeatMover(顶层)\n",
    "from pyrosetta.rosetta.protocols.moves import RepeatMover\n",
    "top_mc = MonteCarlo(pose, scorefxn, kT)\n",
    "top_trial_mover = TrialMover(rand_mover, top_mc)\n",
    "rmover = RepeatMover(top_trial_mover, 5)\n",
    "rmover.apply(pose)"
   ]
  },
  {
   "cell_type": "markdown",
   "id": "directed-flexibility",
   "metadata": {},
   "source": [
    "**值得注意的是，不同层级的TrialMover需要有它单独独享的一个MonteCarlo object。试想下，如果公用一个MonteCarlo object会发生什么？**\n"
   ]
  },
  {
   "cell_type": "markdown",
   "id": "inclusive-cleaners",
   "metadata": {},
   "source": [
    "综上所述，灵活使用这些Combination Mover可以构建出多种多样的搜索逻辑。"
   ]
  },
  {
   "cell_type": "markdown",
   "id": "moving-productivity",
   "metadata": {},
   "source": [
    "#### 小练习"
   ]
  },
  {
   "cell_type": "markdown",
   "id": "fuzzy-culture",
   "metadata": {},
   "source": [
    "Use the Mover constructs to create a complex folding algorithm. Create a simple program to do the following:\n",
    "\n",
    "a. Five small moves\n",
    "\n",
    "b. Minimize\n",
    "\n",
    "c. Five shear moves\n",
    "\n",
    "d. Minimize\n",
    "\n",
    "e. Monte Carlo Metropolis criterion\n",
    "\n",
    "f. Repeat a–e 100 times\n",
    "\n",
    "g. Repeat a–f five times, each time decreasing the magnitude of the small and shear moves from 25° to 5° in 5° increments.\n",
    "\n",
    "Sketch a flowchart, and submit both the flowchart and your code."
   ]
  },
  {
   "cell_type": "code",
   "execution_count": null,
   "id": "massive-klein",
   "metadata": {},
   "outputs": [],
   "source": []
  },
  {
   "cell_type": "code",
   "execution_count": null,
   "id": "suspended-plenty",
   "metadata": {},
   "outputs": [],
   "source": []
  },
  {
   "cell_type": "code",
   "execution_count": null,
   "id": "worse-revision",
   "metadata": {},
   "outputs": [],
   "source": []
  }
 ],
 "metadata": {
  "kernelspec": {
   "display_name": "Python 3",
   "language": "python",
   "name": "python3"
  },
  "language_info": {
   "codemirror_mode": {
    "name": "ipython",
    "version": 3
   },
   "file_extension": ".py",
   "mimetype": "text/x-python",
   "name": "python",
   "nbconvert_exporter": "python",
   "pygments_lexer": "ipython3",
   "version": "3.6.12"
  }
 },
 "nbformat": 4,
 "nbformat_minor": 5
}
