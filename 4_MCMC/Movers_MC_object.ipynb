{
 "cells": [
  {
   "cell_type": "markdown",
   "id": "lasting-beauty",
   "metadata": {},
   "source": [
    "## Movers & MC object\n",
    "\n",
    "@Author: 吴炜坤\n",
    "\n",
    "@email：weikun.wu@xtalpi.com weikunwu@163.com"
   ]
  },
  {
   "cell_type": "code",
   "execution_count": null,
   "id": "precise-contribution",
   "metadata": {},
   "outputs": [],
   "source": []
  }
 ],
 "metadata": {
  "kernelspec": {
   "display_name": "Python 3",
   "language": "python",
   "name": "python3"
  },
  "language_info": {
   "codemirror_mode": {
    "name": "ipython",
    "version": 3
   },
   "file_extension": ".py",
   "mimetype": "text/x-python",
   "name": "python",
   "nbconvert_exporter": "python",
   "pygments_lexer": "ipython3",
   "version": "3.6.12"
  }
 },
 "nbformat": 4,
 "nbformat_minor": 5
}
