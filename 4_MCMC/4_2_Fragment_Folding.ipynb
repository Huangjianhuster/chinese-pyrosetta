{
 "cells": [
  {
   "cell_type": "markdown",
   "id": "maritime-large",
   "metadata": {},
   "source": [
    "## Fragment & Folding\n",
    "\n",
    "@Author: 吴炜坤\n",
    "\n",
    "@email：weikun.wu@xtalpi.com/weikunwu@163.com"
   ]
  },
  {
   "cell_type": "markdown",
   "id": "greater-pharmacy",
   "metadata": {},
   "source": [
    "经过前面的学习，读者应该已经掌握了使用mcmc算法进行蛋白质构象搜索的基本方法。此处我们尝试对一段螺旋序列进行结构的预测，还是使用我们之前的ShearMover/SmallMover/MinMover以及各种CombineMover来构建一个蛋白质Folding的程序:"
   ]
  },
  {
   "cell_type": "markdown",
   "id": "instrumental-oxide",
   "metadata": {},
   "source": [
    "### 一、崎岖的能量面"
   ]
  },
  {
   "cell_type": "markdown",
   "id": "discrete-roller",
   "metadata": {},
   "source": [
    "首先从简单的开始，我们使用PDB:ID为2i9m的一段$\\alpha$螺旋结构:"
   ]
  },
  {
   "cell_type": "code",
   "execution_count": 209,
   "id": "anticipated-gilbert",
   "metadata": {
    "tags": []
   },
   "outputs": [
    {
     "name": "stdout",
     "output_type": "stream",
     "text": [
      "PyRosetta-4 2020 [Rosetta PyRosetta4.conda.mac.cxx11thread.serialization.python36.Release 2020.50+release.1295438cd4bd2be39c9dbbfab8db669ab62415ab 2020-12-12T00:30:01] retrieved from: http://www.pyrosetta.org\n",
      "(C) Copyright Rosetta Commons Member Institutions. Created in JHU by Sergey Lyskov and PyRosetta Team.\n",
      "\u001b[0mcore.init: {0} \u001b[0mChecking for fconfig files in pwd and ./rosetta/flags\n",
      "\u001b[0mcore.init: {0} \u001b[0mRosetta version: PyRosetta4.conda.mac.cxx11thread.serialization.python36.Release r274 2020.50+release.1295438cd4b 1295438cd4bd2be39c9dbbfab8db669ab62415ab http://www.pyrosetta.org 2020-12-12T00:30:01\n",
      "\u001b[0mcore.init: {0} \u001b[0mcommand: PyRosetta -ex1 -ex2aro -database /opt/miniconda3/lib/python3.6/site-packages/pyrosetta/database\n",
      "\u001b[0mbasic.random.init_random_generator: {0} \u001b[0m'RNG device' seed mode, using '/dev/urandom', seed=-17331044 seed_offset=0 real_seed=-17331044 thread_index=0\n",
      "\u001b[0mbasic.random.init_random_generator: {0} \u001b[0mRandomGenerator:init: Normal mode, seed=-17331044 RG_type=mt19937\n",
      "\u001b[0mcore.import_pose.import_pose: {0} \u001b[0mFile './data/2i9m.pdb' automatically determined to be of type PDB\n",
      "\u001b[0mcore.io.pose_from_sfr.PoseFromSFRBuilder: {0} \u001b[0m\u001b[1m[ WARNING ]\u001b[0m discarding 1 atoms at position 1 in file ./data/2i9m.pdb. Best match rsd_type:  SER:NtermProteinFull\n",
      "\u001b[0mcore.conformation.Conformation: {0} \u001b[0m\u001b[1m[ WARNING ]\u001b[0m missing heavyatom:  OXT on residue GLY:CtermProteinFull 17\n"
     ]
    },
    {
     "data": {
      "application/vnd.jupyter.widget-view+json": {
       "model_id": "859ba3ee36d34eacabc23c8c99317959",
       "version_major": 2,
       "version_minor": 0
      },
      "text/plain": [
       "NGLWidget()"
      ]
     },
     "metadata": {},
     "output_type": "display_data"
    }
   ],
   "source": [
    "# load\n",
    "import nglview\n",
    "from pyrosetta import init, pose_from_pdb\n",
    "\n",
    "init()\n",
    "pose = pose_from_pdb('./data/2i9m.pdb')\n",
    "nglview.show_rosetta(pose)"
   ]
  },
  {
   "cell_type": "code",
   "execution_count": 210,
   "id": "parliamentary-conservation",
   "metadata": {},
   "outputs": [
    {
     "name": "stdout",
     "output_type": "stream",
     "text": [
      "SAAEAYAKRIAEAMAKG\n",
      "\u001b[0mcore.import_pose.import_pose: {0} \u001b[0mFile './data/linear_pep.pdb' automatically determined to be of type PDB\n"
     ]
    },
    {
     "data": {
      "application/vnd.jupyter.widget-view+json": {
       "model_id": "0ea3e477989e4df5b5d9c77c57028286",
       "version_major": 2,
       "version_minor": 0
      },
      "text/plain": [
       "NGLWidget()"
      ]
     },
     "metadata": {},
     "output_type": "display_data"
    }
   ],
   "source": [
    "# 获取他的序列;\n",
    "sequence = pose.sequence()\n",
    "print(sequence)\n",
    "\n",
    "# 读入预先准备好的线性多肽;\n",
    "linear_pose = pose_from_pdb('./data/linear_pep.pdb')\n",
    "nglview.show_rosetta(linear_pose)"
   ]
  },
  {
   "cell_type": "code",
   "execution_count": 211,
   "id": "threatened-christopher",
   "metadata": {},
   "outputs": [],
   "source": [
    "# 使用TrailMover和其他Mover一起构建一个folding的程序;\n",
    "# pyrosetta初始化\n",
    "from pyrosetta import create_score_function\n",
    "from pyrosetta.rosetta.protocols.moves import MonteCarlo\n",
    "# 创建全原子打分函数:\n",
    "scorefxn = create_score_function('ref2015')\n",
    "# 定义温度\n",
    "kT = 1.0\n",
    "# 定义MonteCarlo object:\n",
    "mc = MonteCarlo(linear_pose, scorefxn, kT)\n",
    "\n",
    "# 定义movers\n",
    "from pyrosetta.rosetta.protocols.simple_moves import ShearMover, SmallMover\n",
    "from pyrosetta.rosetta.protocols.minimization_packing import MinMover\n",
    "from pyrosetta.rosetta.core.kinematics import MoveMap\n",
    "movemap = MoveMap()\n",
    "movemap.set_bb(True)\n",
    "n_moves = 1  # 定义执行多少次随机扰动\n",
    "small_mover = SmallMover(movemap, kT, n_moves)\n",
    "shear_mover = ShearMover(movemap, kT, n_moves)\n",
    "small_mover.angle_max(25)\n",
    "shear_mover.angle_max(25)\n",
    "\n",
    "# 初始化minmover\n",
    "min_mover = MinMover()\n",
    "min_mover.movemap(movemap)\n",
    "min_mover.min_type('lbfgs_armijo_nonmonotone')\n",
    "min_mover.score_function(scorefxn)\n",
    "min_mover.tolerance(0.01) # 能量变化的耐受值，当小于该值时停止优化.\n",
    "\n",
    "# 初始化combine mover\n",
    "from pyrosetta.rosetta.protocols.moves import RandomMover\n",
    "# RandomMover\n",
    "rand_mover = RandomMover()\n",
    "rand_mover.add_mover(small_mover)\n",
    "rand_mover.add_mover(shear_mover)\n",
    "# rand_mover.add_mover(min_mover)\n",
    "\n",
    "from pyrosetta.rosetta.protocols.moves import TrialMover\n",
    "trial_mover = TrialMover(rand_mover, mc)"
   ]
  },
  {
   "cell_type": "markdown",
   "id": "careful-token",
   "metadata": {},
   "source": [
    "好！上面已经准备好了mcmc的程序了，读者可以尝试运行10、100、1000次。查看最后的构象状态。"
   ]
  },
  {
   "cell_type": "code",
   "execution_count": 213,
   "id": "faced-criticism",
   "metadata": {},
   "outputs": [
    {
     "name": "stdout",
     "output_type": "stream",
     "text": [
      "\u001b[0mprotocols.moves.MonteCarlo: {0} \u001b[0mMC: 1  14.3101  14.3101  14.3101  14.3101  0  0  0  accepted thermally\n",
      "\u001b[0mprotocols.moves.TrialCounter: {0} \u001b[0m           Shear trials=    138;  accepts= 0.6159;  energy_drop/trial=  -0.19094\n",
      "\u001b[0mprotocols.moves.TrialCounter: {0} \u001b[0m           Small trials=    162;  accepts= 0.8210;  energy_drop/trial=  -0.10319\n",
      "\u001b[0mprotocols.moves.MonteCarlo: {0} \u001b[0mMonteCarlo:: last_accepted_score,lowest_score: 14.3101 14.3101\n"
     ]
    },
    {
     "data": {
      "application/vnd.jupyter.widget-view+json": {
       "model_id": "a1e887e3e3d748b09a63ff69d30eab14",
       "version_major": 2,
       "version_minor": 0
      },
      "text/plain": [
       "NGLWidget()"
      ]
     },
     "metadata": {},
     "output_type": "display_data"
    }
   ],
   "source": [
    "# 记录一下构象变化轨迹:\n",
    "from pyrosetta.teaching import PyMOLMover\n",
    "from pyrosetta.rosetta.protocols.moves import AddPyMOLObserver_to_conformation\n",
    "pmm = PyMOLMover()\n",
    "pmm.keep_history(True)\n",
    "pmm.apply(linear_pose)\n",
    "AddPyMOLObserver_to_conformation(linear_pose, True)\n",
    "\n",
    "# 循环跑起来！\n",
    "for i in range(100):\n",
    "    trial_mover.apply(linear_pose)\n",
    "\n",
    "# 获取能量最低的构象:\n",
    "mc.recover_low(linear_pose)\n",
    "mc.show_state()\n",
    "mc.show_scores()\n",
    "\n",
    "# 可视化\n",
    "nglview.show_rosetta(linear_pose)"
   ]
  },
  {
   "cell_type": "markdown",
   "id": "responsible-forestry",
   "metadata": {},
   "source": [
    "结果好像并非我们所想象的那么顺利。最先开始的线性多肽并没有按照预期折叠成想要的形状。出现了什么问题？让我们看一下轨迹:\n",
    "<center><img src=\"./img/fullatom_fold.gif\" width = \"600\" height = \"200\" align=center /></center>"
   ]
  },
  {
   "cell_type": "markdown",
   "id": "civilian-locator",
   "metadata": {},
   "source": [
    "细心的同学可能会发现，我们模拟过程中没有处理侧链的结构，由于侧链没有进行变化，导致骨架发生变化时，侧链原子之间容易产生碰撞。导致每一步的能量基本都是升高的状态！这也是就在全原子打分函数下，能量面十分的崎岖，难以被遍历搜索。如果此时同时考虑侧链和主链，那自由度又过大，搜索效率下降。那在Rosetta中，这个问题是如何被解决的呢？那就是centroid模型与cen_std能量函数。\n",
    "\n",
    "<center><img src=\"./img/能量面的对比.jpg\" width = \"900\" height = \"200\" align=center /></center>"
   ]
  },
  {
   "cell_type": "markdown",
   "id": "cognitive-alexander",
   "metadata": {},
   "source": [
    "### 二、粗粒化模型与能量面"
   ]
  },
  {
   "cell_type": "markdown",
   "id": "burning-bahamas",
   "metadata": {},
   "source": [
    "在之前的章节中，我们提及过Rosetta中Pose有两种原子模型以及有粗粒化的打分函数。在粗粒化的原子模型和力场下，蛋白折叠的能量面平滑了许多，让我们对主链构象的搜索有了更大的移动空间。\n",
    "\n",
    "<center><img src=\"./img/能量面的变化.jpg\" width = \"900\" height = \"200\" align=center /></center>\n",
    "\n",
    "在这一节，我们将尝试在粗粒化的打分函数的能量面上进行蛋白质折叠模拟。"
   ]
  },
  {
   "cell_type": "code",
   "execution_count": 157,
   "id": "velvet-landing",
   "metadata": {},
   "outputs": [
    {
     "name": "stdout",
     "output_type": "stream",
     "text": [
      "\u001b[0mcore.import_pose.import_pose: {0} \u001b[0mFile './data/linear_pep.pdb' automatically determined to be of type PDB\n"
     ]
    },
    {
     "data": {
      "text/plain": [
       "<pyrosetta.rosetta.protocols.moves.PyMOLObserver at 0x7fbfb24528f0>"
      ]
     },
     "execution_count": 157,
     "metadata": {},
     "output_type": "execute_result"
    }
   ],
   "source": [
    "# 转换pose、构建打分函数:\n",
    "from pyrosetta.rosetta.protocols.simple_moves import SwitchResidueTypeSetMover\n",
    "\n",
    "# 读入预先准备好的线性多肽;\n",
    "linear_pose = pose_from_pdb('./data/linear_pep.pdb')\n",
    "nglview.show_rosetta(linear_pose)\n",
    "\n",
    "# 转换pose为粗粒化模型:\n",
    "switch_mover = SwitchResidueTypeSetMover(\"centroid\")\n",
    "switch_mover.apply(linear_pose)\n",
    "\n",
    "# cen_std打分函数\n",
    "cen_score = create_score_function('cen_std')\n",
    "\n",
    "# 重新定义MonteCarlo object:\n",
    "mc = MonteCarlo(linear_pose, cen_score, kT)\n",
    "trial_mover = TrialMover(rand_mover, mc)\n",
    "pmm.apply(linear_pose)\n",
    "AddPyMOLObserver_to_conformation(linear_pose, True)"
   ]
  },
  {
   "cell_type": "code",
   "execution_count": null,
   "id": "large-future",
   "metadata": {},
   "outputs": [],
   "source": [
    "# 循环跑起来！需要2-3min运行时间。\n",
    "for i in range(5000):\n",
    "    trial_mover.apply(linear_pose)\n",
    "\n",
    "# 获取能量最低的构象:\n",
    "mc.recover_low(linear_pose)\n",
    "mc.show_state()\n",
    "mc.show_scores()\n",
    "\n",
    "# 可视化\n",
    "nglview.show_rosetta(linear_pose)"
   ]
  },
  {
   "cell_type": "markdown",
   "id": "prepared-eagle",
   "metadata": {},
   "source": [
    "在构象搜索了5000步之后，我们发现在centroid原子模型和粗粒化的力场下，我们要模拟的多肽构象有了较大的构象变化，而不再是简单的线性结构。\n",
    "\n",
    "**思考: 为何还未成功折叠至我们的目标螺旋状态？**"
   ]
  },
  {
   "cell_type": "markdown",
   "id": "wicked-trauma",
   "metadata": {},
   "source": [
    "### 三、Fragment增强采样"
   ]
  },
  {
   "cell_type": "markdown",
   "id": "certain-anniversary",
   "metadata": {},
   "source": [
    "最早在CASP8比赛中，Rosetta基于Fragment进行MCMC采样被成功地应用于蛋白结构预测(当然Fragment的方法做结构预测早已过时了)。这里的使用Fragment的原理非常简单，首先通过序列的一级信息，可以预测得到相应的二级结构，只要从已有的17万个PDB结构数据中，找到类似序列且类似二级结构的多肽片段，将他们进行组装，就可以快速采样目标的结构。"
   ]
  },
  {
   "cell_type": "markdown",
   "id": "viral-slave",
   "metadata": {},
   "source": [
    "Robetta的官方服务器上还留着Fragment生成的服务器，新手可以直接从这里获取Fragment。使用教育邮箱注册后就可以提交任务。此处最小的序列长度是27。<br>\n",
    "\n",
    "https://robetta.bakerlab.org/fragmentsubmit.jsp"
   ]
  },
  {
   "cell_type": "markdown",
   "id": "marine-showcase",
   "metadata": {},
   "source": [
    "在此处，我们更换一个更加复杂的蛋白作为案例: PDBID_1B72。"
   ]
  },
  {
   "cell_type": "code",
   "execution_count": 203,
   "id": "magnetic-settle",
   "metadata": {},
   "outputs": [
    {
     "name": "stdout",
     "output_type": "stream",
     "text": [
      "\u001b[0mcore.import_pose.import_pose: {0} \u001b[0mFile './data/1b72.pdb' automatically determined to be of type PDB\n"
     ]
    },
    {
     "data": {
      "application/vnd.jupyter.widget-view+json": {
       "model_id": "ba2930bdca4c4febb3d0f2ea71ad270f",
       "version_major": 2,
       "version_minor": 0
      },
      "text/plain": [
       "NGLWidget()"
      ]
     },
     "metadata": {},
     "output_type": "display_data"
    }
   ],
   "source": [
    "# 读取目标的pose\n",
    "ref_pose = pose_from_pdb('./data/1b72.pdb')\n",
    "ref_pose.sequence()  # 这就是1b72的序列，可以用这个去fragment服务器上提交任务。\n",
    "nglview.show_rosetta(ref_pose)"
   ]
  },
  {
   "cell_type": "code",
   "execution_count": 200,
   "id": "wicked-affairs",
   "metadata": {},
   "outputs": [
    {
     "name": "stdout",
     "output_type": "stream",
     "text": [
      "\u001b[0mcore.fragments.ConstantLengthFragSet: {0} \u001b[0mfinished reading top 200 3mer fragments from file ./data/3mer.frags\n",
      "\u001b[0mcore.fragments.ConstantLengthFragSet: {0} \u001b[0mfinished reading top 200 9mer fragments from file ./data/9mer.frags\n"
     ]
    },
    {
     "data": {
      "application/vnd.jupyter.widget-view+json": {
       "model_id": "c01a09c7928f40cbac39829b4ad72629",
       "version_major": 2,
       "version_minor": 0
      },
      "text/plain": [
       "NGLWidget()"
      ]
     },
     "metadata": {},
     "output_type": "display_data"
    }
   ],
   "source": [
    "# 教案的制作中已经通过服务器准备好了相应的fragment文件，位于./data/*frags.\n",
    "# 此处通过fragment相关的管理器mover读入fragment信息:\n",
    "from pyrosetta.rosetta.core.fragment import ConstantLengthFragSet\n",
    "fragset3 = ConstantLengthFragSet(3)\n",
    "fragset3.read_fragment_file(\"./data/3mer.frags\")\n",
    "fragset9 = ConstantLengthFragSet(9)\n",
    "fragset9.read_fragment_file(\"./data/9mer.frags\")\n",
    "\n",
    "# 准备线性结构\n",
    "frag_pose = pose_from_sequence('LRTNFTTRQLTELEKEFHFNKYLSRARRVEIAATLELNETQVKIWFQNRRMKQKKRERE', \"centroid\")\n",
    "nglview.show_rosetta(frag_pose)"
   ]
  },
  {
   "cell_type": "markdown",
   "id": "confirmed-taste",
   "metadata": {},
   "source": [
    "这里，我们不再使用SmallMover和ShearMover做主链结构的move，而是换用ClassicFragmentMover，这个mover可以将我们分离的3mer(3氨基酸片段)和9mer(9氨基酸片段)插入当前的线性结构当中。"
   ]
  },
  {
   "cell_type": "code",
   "execution_count": 201,
   "id": "competitive-rebate",
   "metadata": {},
   "outputs": [],
   "source": [
    "#\n",
    "from pyrosetta.rosetta.protocols.simple_moves import ClassicFragmentMover\n",
    "from pyrosetta.rosetta.core.kinematics import MoveMap\n",
    "movemap = MoveMap()\n",
    "movemap.set_bb(True)\n",
    "\n",
    "# 加载fragment插入mover\n",
    "fragmover3 = ClassicFragmentMover(fragset3, movemap)\n",
    "fragmover9 = ClassicFragmentMover(fragset9, movemap)\n",
    "\n",
    "# 初始化combine mover\n",
    "from pyrosetta.rosetta.protocols.moves import RandomMover\n",
    "# RandomMover\n",
    "rand_mover = RandomMover()\n",
    "rand_mover.add_mover(fragmover3)\n",
    "rand_mover.add_mover(fragmover9)\n",
    "\n",
    "# 重新定义MonteCarlo object:\n",
    "frag_mc = MonteCarlo(frag_pose, cen_score, kT)\n",
    "\n",
    "from pyrosetta.rosetta.protocols.moves import TrialMover\n",
    "trial_mover = TrialMover(rand_mover, frag_mc)"
   ]
  },
  {
   "cell_type": "markdown",
   "id": "endangered-wednesday",
   "metadata": {},
   "source": [
    "尝试运行以下用fragment插入法的mcmc代码。"
   ]
  },
  {
   "cell_type": "code",
   "execution_count": 206,
   "id": "accomplished-feedback",
   "metadata": {},
   "outputs": [
    {
     "name": "stdout",
     "output_type": "stream",
     "text": [
      "\u001b[0mprotocols.moves.MonteCarlo: {0} \u001b[0mMC: 1  -23.2168  -23.2168  -23.2168  -23.2168  0  0  0  rejected\n",
      "\u001b[0mprotocols.moves.TrialCounter: {0} \u001b[0mClassicFragmentM trials=  11000;  accepts= 0.0837;  energy_drop/trial=  -0.00301\n",
      "\u001b[0mprotocols.moves.MonteCarlo: {0} \u001b[0mMonteCarlo:: last_accepted_score,lowest_score: -23.2168 -23.2168\n"
     ]
    },
    {
     "data": {
      "application/vnd.jupyter.widget-view+json": {
       "model_id": "d16d59a352004722a22230189f72307f",
       "version_major": 2,
       "version_minor": 0
      },
      "text/plain": [
       "NGLWidget()"
      ]
     },
     "metadata": {},
     "output_type": "display_data"
    }
   ],
   "source": [
    "# 循环跑起来！需要2-3min运行时间。\n",
    "for i in range(10000):\n",
    "    trial_mover.apply(frag_pose)\n",
    "\n",
    "# 获取能量最低的构象:\n",
    "frag_mc.recover_low(frag_pose)\n",
    "frag_mc.show_state()\n",
    "frag_mc.show_scores()\n",
    "\n",
    "# 可视化\n",
    "nglview.show_rosetta(frag_pose)"
   ]
  },
  {
   "cell_type": "code",
   "execution_count": 208,
   "id": "sunset-allah",
   "metadata": {},
   "outputs": [
    {
     "data": {
      "text/plain": [
       "True"
      ]
     },
     "execution_count": 208,
     "metadata": {},
     "output_type": "execute_result"
    }
   ],
   "source": [
    "frag_pose.dump_pdb('./data/prediction.pdb')"
   ]
  },
  {
   "cell_type": "markdown",
   "id": "immediate-theology",
   "metadata": {},
   "source": [
    "尝试比较预测结构和真实结构的RMSD差异:"
   ]
  },
  {
   "cell_type": "markdown",
   "id": "loose-belarus",
   "metadata": {},
   "source": [
    "<center><img src=\"./img/prediction.png\" width = \"500\" height = \"200\" align=center /></center>"
   ]
  },
  {
   "cell_type": "markdown",
   "id": "hired-springfield",
   "metadata": {},
   "source": [
    "**思考: 这种基于Fragment插入的结构预测方法有什么局限性？**"
   ]
  },
  {
   "cell_type": "markdown",
   "id": "virtual-championship",
   "metadata": {},
   "source": [
    "目前深度学习的方法预测蛋白质结构已经得到了长足的发展，已经全面超越了传统contacts+folding的建模策略。因此在结构预测领域已经很少使用。但目前Fragment的方法对于结构生成和蛋白质设计依然有着重要的作用。"
   ]
  },
  {
   "cell_type": "markdown",
   "id": "prospective-subsection",
   "metadata": {},
   "source": [
    "## 练习题:\n"
   ]
  },
  {
   "cell_type": "markdown",
   "id": "nonprofit-darwin",
   "metadata": {},
   "source": [
    "1. 尝试构建一个每次在Fragment插入之后，接着使用SmallMover和ShearMover采样局部结构的结构搜索程序。【提示:可能需要2个mc object】"
   ]
  },
  {
   "cell_type": "markdown",
   "id": "endangered-given",
   "metadata": {},
   "source": [
    "2. 尝试调整不同的kT，查看对预测结构的影响"
   ]
  },
  {
   "cell_type": "markdown",
   "id": "loose-spectacular",
   "metadata": {},
   "source": []
  }
 ],
 "metadata": {
  "kernelspec": {
   "display_name": "Python 3",
   "language": "python",
   "name": "python3"
  },
  "language_info": {
   "codemirror_mode": {
    "name": "ipython",
    "version": 3
   },
   "file_extension": ".py",
   "mimetype": "text/x-python",
   "name": "python",
   "nbconvert_exporter": "python",
   "pygments_lexer": "ipython3",
   "version": "3.6.12"
  }
 },
 "nbformat": 4,
 "nbformat_minor": 5
}
