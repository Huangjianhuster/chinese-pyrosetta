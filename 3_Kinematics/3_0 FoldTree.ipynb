{
 "cells": [
  {
   "cell_type": "markdown",
   "id": "strategic-printer",
   "metadata": {},
   "source": [
    "# Rosetta FoldTree\n",
    "\n",
    "@Author: 张博文\n",
    "\n",
    "@email：bowen.zhang@xtalpi.com"
   ]
  },
  {
   "cell_type": "markdown",
   "id": "defined-supply",
   "metadata": {},
   "source": [
    "在第一章第五节中，我们学习了有关蛋白质构象几何的处理方式的各种概念及处理方式。在处理蛋白质构象设计的过程中，我们需要针对这些几何关系对蛋白质结构进行计算。此时，就会涉及到了计算过程中的坐标的处理方式。这一章将介绍的就是Rosetta中坐标的处理方式。"
   ]
  },
  {
   "cell_type": "code",
   "execution_count": 1,
   "id": "classified-convention",
   "metadata": {},
   "outputs": [
    {
     "data": {
      "application/vnd.jupyter.widget-view+json": {
       "model_id": "41d88030720c4bc8af2dfe811422b647",
       "version_major": 2,
       "version_minor": 0
      },
      "text/plain": []
     },
     "metadata": {},
     "output_type": "display_data"
    },
    {
     "name": "stdout",
     "output_type": "stream",
     "text": [
      "PyRosetta-4 2020 [Rosetta PyRosetta4.conda.mac.cxx11thread.serialization.python36.Release 2020.50+release.1295438cd4bd2be39c9dbbfab8db669ab62415ab 2020-12-12T00:30:01] retrieved from: http://www.pyrosetta.org\n",
      "(C) Copyright Rosetta Commons Member Institutions. Created in JHU by Sergey Lyskov and PyRosetta Team.\n",
      "\u001b[0mcore.init: {0} \u001b[0mChecking for fconfig files in pwd and ./rosetta/flags\n",
      "\u001b[0mcore.init: {0} \u001b[0mRosetta version: PyRosetta4.conda.mac.cxx11thread.serialization.python36.Release r274 2020.50+release.1295438cd4b 1295438cd4bd2be39c9dbbfab8db669ab62415ab http://www.pyrosetta.org 2020-12-12T00:30:01\n",
      "\u001b[0mcore.init: {0} \u001b[0mcommand: PyRosetta -ex1 -ex2aro -database /opt/miniconda3/lib/python3.6/site-packages/pyrosetta/database\n",
      "\u001b[0mbasic.random.init_random_generator: {0} \u001b[0m'RNG device' seed mode, using '/dev/urandom', seed=-613619303 seed_offset=0 real_seed=-613619303 thread_index=0\n",
      "\u001b[0mbasic.random.init_random_generator: {0} \u001b[0mRandomGenerator:init: Normal mode, seed=-613619303 RG_type=mt19937\n"
     ]
    }
   ],
   "source": [
    "# 初始化pyrosetta，使用pyrosetta必须要做的一件事情\n",
    "from pyrosetta import *\n",
    "from pyrosetta.rosetta import *\n",
    "from pyrosetta.teaching import *\n",
    "import nglview\n",
    "init()"
   ]
  },
  {
   "cell_type": "markdown",
   "id": "mature-browse",
   "metadata": {},
   "source": [
    "### 内坐标及自由度计算复杂度降低处理方式"
   ]
  },
  {
   "cell_type": "markdown",
   "id": "previous-retreat",
   "metadata": {},
   "source": [
    "PDB文件中，大多数的表示都是欧式坐标(X,Y,Z)，当改变或设置这3个值时，该原子的位置也就确定了，此时每个原子都具有三个自由度，但三个自由度对于计算来说复杂度过高。"
   ]
  },
  {
   "cell_type": "markdown",
   "id": "harmful-warner",
   "metadata": {},
   "source": [
    "**为了便于计算在进行计算的时候，坐标的表示方式是这样的：**"
   ]
  },
  {
   "cell_type": "markdown",
   "id": "working-coordination",
   "metadata": {},
   "source": [
    "1 使用了内坐标来进行表示。内坐标定义如下：如下图所示，对于一个原子，其位置坐标通过其与临近原子的键长、键角、二面角来进行表示。此个原子来说，构象的改变是通过改变键长、键角和二面角来完成的，自由度仍为3"
   ]
  },
  {
   "cell_type": "markdown",
   "id": "desirable-reset",
   "metadata": {},
   "source": [
    "<center><img src=\"./imgs/internal_coordinate.png\" width = \"600\" height = \"300\" align=center /> </center>"
   ]
  },
  {
   "cell_type": "markdown",
   "id": "stuck-cricket",
   "metadata": {},
   "source": [
    "2 减少自由度计算复杂度：\n",
    "\n",
    "尽管此时对于一个原子来说自由度仍为3，但这三个自由度在蛋白质设计中的重要程度并不相同。往往在蛋白质建模的过程中，键长、键角的变化相对来说设计很微小的，**这时候若设置将此两者设置为理想值，以二面角的变化来表示构象变化。此时自由度就降为1了！**。同时，对于特定的原子（例如大多数的氢）其二面角受其化学环境的影响是固定的，此时自由度就变为0了。"
   ]
  },
  {
   "cell_type": "markdown",
   "id": "adjacent-television",
   "metadata": {},
   "source": [
    "在下面这个路径中，我们可以找到Rosetta中关于每种天然氨基酸的参数文件"
   ]
  },
  {
   "cell_type": "raw",
   "id": "material-adapter",
   "metadata": {},
   "source": [
    "<path-to-Rosetta>/main/database/chemical/residue_type_sets/fa_standard/residue_types/l-caa"
   ]
  },
  {
   "cell_type": "markdown",
   "id": "secondary-integral",
   "metadata": {},
   "source": [
    "### FoldTree的定义和功能"
   ]
  },
  {
   "cell_type": "markdown",
   "id": "agricultural-mining",
   "metadata": {},
   "source": [
    "#### 什么是杠杆效应？"
   ]
  },
  {
   "cell_type": "markdown",
   "id": "warming-adapter",
   "metadata": {},
   "source": [
    "在经过以上基于内坐标的定义后，我们便可以改变蛋白质的二面角来改变蛋白质的构象。下面我们举例，首先得到了一个由五个残基组成的多肽，并更改了3号残基的phi角。"
   ]
  },
  {
   "cell_type": "code",
   "execution_count": 2,
   "id": "apparent-delivery",
   "metadata": {},
   "outputs": [
    {
     "name": "stdout",
     "output_type": "stream",
     "text": [
      "\u001b[0mcore.chemical.GlobalResidueTypeSet: {0} \u001b[0mFinished initializing fa_standard residue type set.  Created 985 residue types\n",
      "\u001b[0mcore.chemical.GlobalResidueTypeSet: {0} \u001b[0mTotal time to initialize 0.696664 seconds.\n"
     ]
    },
    {
     "data": {
      "application/vnd.jupyter.widget-view+json": {
       "model_id": "c34f1b401ce04f338aca734ca564401b",
       "version_major": 2,
       "version_minor": 0
      },
      "text/plain": [
       "NGLWidget()"
      ]
     },
     "metadata": {},
     "output_type": "display_data"
    }
   ],
   "source": [
    "pose = pose_from_sequence('KPALN') # 根据序列生成一个示例的多肽序列\n",
    "pose.dump_pdb('./data/example.pdb') # 保存该pose为pdb文件\n",
    "nglview.show_rosetta(pose)"
   ]
  },
  {
   "cell_type": "code",
   "execution_count": 3,
   "id": "adequate-collapse",
   "metadata": {},
   "outputs": [
    {
     "data": {
      "application/vnd.jupyter.widget-view+json": {
       "model_id": "cdc62c935df04057b88af636bd5522e8",
       "version_major": 2,
       "version_minor": 0
      },
      "text/plain": [
       "NGLWidget()"
      ]
     },
     "metadata": {},
     "output_type": "display_data"
    }
   ],
   "source": [
    "# 更改示例多肽序列的3号残基的phi角\n",
    "pose.set_phi(3,70) # 修改3号残基的phi角\n",
    "pose.dump_pdb('./data/example_change.pdb')  # 保存修改后的pose为pdb文件\n",
    "nglview.show_rosetta(pose)"
   ]
  },
  {
   "cell_type": "markdown",
   "id": "superior-composition",
   "metadata": {},
   "source": [
    "类似的，如下图，实际上只想动的是三号残基的phi角，但实际上，肽链的残基彼此相关，最后肽链的整个构象都被改变了，从第三个残基之后，肽链部分如同杠杆一般抬了起来（蓝色构象）。这便是杠杆效应。三号残基之前的残基都没有发生改变，而下游的残基会适应3号残基的改变来进行改变，可以理解为，这个改变只会调整3号残基下游的残基，上游则不会改变，而这便是FoldTree。"
   ]
  },
  {
   "cell_type": "markdown",
   "id": "endless-bangladesh",
   "metadata": {},
   "source": [
    "值得注意的是，以一个自由度的改变，表示了3N（下游）*atom_number个自由度的卡迪尔坐标换算，这种计算效率是极高的。"
   ]
  },
  {
   "cell_type": "markdown",
   "id": "bright-smooth",
   "metadata": {},
   "source": [
    "<center><img src=\"./imgs/phi_change.png\" width = \"600\" height = \"300\" align=center /> </center>"
   ]
  },
  {
   "cell_type": "markdown",
   "id": "cubic-decrease",
   "metadata": {},
   "source": [
    "#### 什么是FoldTree？"
   ]
  },
  {
   "cell_type": "markdown",
   "id": "behind-village",
   "metadata": {},
   "source": [
    "FoldTree是Rosetta中处理给定结构中主链氨基酸连接方式的一种方式，就如上一小节所示，**在Rosseta中对于蛋白质主链内部及主链之间会有一个上下游关系的表示，他定义了在蛋白质结构中，哪些残基是上游或是母节点、哪些残基是下游或是子节点，并为其贴上了标签。在Rosetta中规定，只有上游的氨基酸会发生改变，而下游不会发生。**"
   ]
  },
  {
   "cell_type": "markdown",
   "id": "funny-period",
   "metadata": {},
   "source": [
    "此处举一个最简单的例子: FoldTree的顺序是从N端到C端，仅有一条链。因此1号残基是此树结构的\"根\"，8号残基是最末端的\"支\"。如果此时对4号残基的骨架的二面角做出改变。只有下游的氨基酸会发生坐标杠杠效应的变化*（5->6->7->8）。"
   ]
  },
  {
   "cell_type": "markdown",
   "id": "foster-ethics",
   "metadata": {},
   "source": [
    "<center><img src=\"./imgs/simple_foldtree.jpg\" width = \"600\" height = \"300\" align=center /> </center>"
   ]
  },
  {
   "cell_type": "markdown",
   "id": "devoted-separation",
   "metadata": {},
   "source": [
    "FoldTree除了上文提到过的杠杆效应外，还有三种特性：\n",
    "1. 杠杆效应\n",
    "2. 顺序性\n",
    "3. 跳跃性\n",
    "4. 可切割性\n",
    "\n",
    "在本章节中，我们先介绍前两个特性。"
   ]
  },
  {
   "cell_type": "markdown",
   "id": "contemporary-prerequisite",
   "metadata": {},
   "source": [
    "#### FoldTree的表示方式"
   ]
  },
  {
   "cell_type": "markdown",
   "id": "unexpected-standing",
   "metadata": {},
   "source": [
    "Edge是FoldTree的基本组成部分，一个FoldTree是由1个或多个Edge组成。在Pyrosetta中Fold_Tree通过fold_tree方法来进行调用"
   ]
  },
  {
   "cell_type": "code",
   "execution_count": 6,
   "id": "opposite-shareware",
   "metadata": {},
   "outputs": [
    {
     "name": "stdout",
     "output_type": "stream",
     "text": [
      "\u001b[0mcore.import_pose.import_pose: {0} \u001b[0mFile './data/1v74.pdb' automatically determined to be of type PDB\n",
      "\u001b[0mcore.conformation.Conformation: {0} \u001b[0m\u001b[1m[ WARNING ]\u001b[0m missing heavyatom:  OXT on residue LEU:CtermProteinFull 107\n",
      "\u001b[0mcore.conformation.Conformation: {0} \u001b[0m\u001b[1m[ WARNING ]\u001b[0m missing heavyatom:  OXT on residue LEU:CtermProteinFull 195\n"
     ]
    }
   ],
   "source": [
    "# PDB:1v74的例子\n",
    "pose_1v74 = pose_from_pdb('./data/1v74.pdb') #读入蛋白质的pdb文件\n",
    "pose_1v74_foldtree = pose_1v74.fold_tree() #得到该pose的foldtree实例"
   ]
  },
  {
   "cell_type": "code",
   "execution_count": 9,
   "id": "statewide-satellite",
   "metadata": {},
   "outputs": [
    {
     "name": "stdout",
     "output_type": "stream",
     "text": [
      "1v74 Fold Tree:\n",
      " FOLD_TREE  EDGE 1 107 -1  EDGE 1 108 1  EDGE 1 109 2  EDGE 109 195 -1 \n"
     ]
    }
   ],
   "source": [
    "print(\"1v74 Fold Tree:\\n\", pose_1v74_foldtree) #输出PDB:1V74的fold tree表示"
   ]
  },
  {
   "cell_type": "markdown",
   "id": "heard-jenny",
   "metadata": {},
   "source": [
    "FoldTree的表示方式一般如下。有四个字段组成："
   ]
  },
  {
   "cell_type": "raw",
   "id": "appreciated-windows",
   "metadata": {},
   "source": [
    "# FoldTree基本结构。\n",
    "EDGE start end define"
   ]
  },
  {
   "cell_type": "markdown",
   "id": "confidential-immunology",
   "metadata": {},
   "source": [
    "如同上面的输出所示，示例pose具有两个共价连接的链，分别是从1号残基到108号残基；以及109号残基到195号残基。"
   ]
  },
  {
   "cell_type": "markdown",
   "id": "federal-viking",
   "metadata": {},
   "source": [
    "当Define字段是-1时，代表着这一段多肽区域按照从start到end位的顺序通过共价键进行延伸。如上所示，表示1到107残基、109到195残基是以共价相连。"
   ]
  },
  {
   "cell_type": "raw",
   "id": "judicial-nicholas",
   "metadata": {},
   "source": [
    "# FoldTree表示。\n",
    "EDGE start end -1"
   ]
  },
  {
   "cell_type": "markdown",
   "id": "eight-titanium",
   "metadata": {},
   "source": [
    "当Define字段是正整数时，代表着会在start和end位氨基酸建立虚拟链接,代表这个是一个Jump点，表示在FoldTree中，第start号氨基酸和第end号氨基酸之间将建立虚拟链接，Jump点会直接改变不同多肽链之间的上下游的关系。如上所示，分别在1和108残基、1和109残基有两个jump点。"
   ]
  },
  {
   "cell_type": "raw",
   "id": "constitutional-encyclopedia",
   "metadata": {},
   "source": [
    "# FoldTree表示。\n",
    "EDGE start end Jump"
   ]
  },
  {
   "cell_type": "markdown",
   "id": "saving-error",
   "metadata": {},
   "source": [
    "对于FoldTree的Jump，我们可以通过foldtree实例的一些方法得到他的信息。"
   ]
  },
  {
   "cell_type": "code",
   "execution_count": 10,
   "id": "orange-granny",
   "metadata": {},
   "outputs": [
    {
     "name": "stdout",
     "output_type": "stream",
     "text": [
      "The size of the foldtree (number of edges) is 4\n",
      "The number of the jump is 2\n"
     ]
    }
   ],
   "source": [
    "print(f\"The size of the foldtree (number of edges) is {pose_1v74_foldtree.size()}\") #Foldtree 的尺寸（edge的个数）\n",
    "print(f\"The number of the jump is {pose_1v74_foldtree.num_jump()}\") #Foldtree 的jump点的个数"
   ]
  },
  {
   "cell_type": "markdown",
   "id": "chubby-carnival",
   "metadata": {},
   "source": [
    "#### 定义一个FoldTree"
   ]
  },
  {
   "cell_type": "markdown",
   "id": "crude-belief",
   "metadata": {},
   "source": [
    "基本的操作方式:\n",
    "1. 实例化一个FoldTree对象;  \n",
    "2. 使用该对象的add_edge、delete_edge进行FoldTree的编辑;  \n",
    "3. pose的fold_tree读回创建的FoldTree对象。"
   ]
  },
  {
   "cell_type": "code",
   "execution_count": 23,
   "id": "above-transportation",
   "metadata": {},
   "outputs": [
    {
     "name": "stdout",
     "output_type": "stream",
     "text": [
      "FOLD_TREE  EDGE 1 7 -1 \n"
     ]
    }
   ],
   "source": [
    "# 从序列创建一个Pose对象\n",
    "seq_pose = pose_from_sequence('AAAAAAA') #读入PDB文件\n",
    "print(seq_pose.fold_tree())"
   ]
  },
  {
   "cell_type": "markdown",
   "id": "further-legislature",
   "metadata": {},
   "source": [
    "可见，在创建Pose的同时FoldTree也会同时被自动创建，但这个foldtree默认是从N到C端的顺序进行创建。"
   ]
  },
  {
   "cell_type": "code",
   "execution_count": 28,
   "id": "brief-hearing",
   "metadata": {},
   "outputs": [
    {
     "name": "stdout",
     "output_type": "stream",
     "text": [
      "FOLD_TREE \n"
     ]
    },
    {
     "data": {
      "text/plain": [
       "False"
      ]
     },
     "execution_count": 28,
     "metadata": {},
     "output_type": "execute_result"
    }
   ],
   "source": [
    "# 设置一个foldtree对象的实例，并将它读回pose中更新foldtree\n",
    "ft = FoldTree() #设置一个空的foldtree对象\n",
    "print(ft)\n",
    "ft.check_fold_tree()  # 检查foldtree的有效性;"
   ]
  },
  {
   "cell_type": "markdown",
   "id": "editorial-surface",
   "metadata": {},
   "source": [
    "可见，通过check_fold_tree函数，可以快速检测你的foldtree是否有效。"
   ]
  },
  {
   "cell_type": "code",
   "execution_count": 29,
   "id": "neither-american",
   "metadata": {},
   "outputs": [
    {
     "data": {
      "text/plain": [
       "True"
      ]
     },
     "execution_count": 29,
     "metadata": {},
     "output_type": "execute_result"
    }
   ],
   "source": [
    "#增加一个5号残基到1号残基的共价连接的edge\n",
    "ft.add_edge(5, 1, -1)\n",
    "ft.check_fold_tree()  # 检查foldtree的有效性;"
   ]
  },
  {
   "cell_type": "markdown",
   "id": "hispanic-relationship",
   "metadata": {},
   "source": [
    "上面我们仅定义了1-5号氨基酸的foldtree，但是我们创建的pose却有7个氨基酸。此时将这个foldtree加载到pose中会发生什么？"
   ]
  },
  {
   "cell_type": "code",
   "execution_count": 30,
   "id": "about-criminal",
   "metadata": {},
   "outputs": [
    {
     "name": "stdout",
     "output_type": "stream",
     "text": [
      "\u001b[0mcore.conformation.Conformation: {0} \u001b[0m\u001b[31m\u001b[1m[ ERROR ]\u001b[0m Error in assigning a FoldTree to a Conformation - size mismatch.\n",
      "\u001b[0mcore.conformation.Conformation: {0} \u001b[0m\u001b[31m\u001b[1m[ ERROR ]\u001b[0m Conformation of length 7: A[ALA:NtermProteinFull]AAAAAA[ALA:CtermProteinFull]\n",
      "\u001b[0mcore.conformation.Conformation: {0} \u001b[0m\u001b[31m\u001b[1m[ ERROR ]\u001b[0m FoldTree of length 5: FOLD_TREE  EDGE 5 1 -1\n"
     ]
    },
    {
     "ename": "RuntimeError",
     "evalue": "\n\nFile: /Volumes/MacintoshHD3/benchmark/W.fujii.release/rosetta.Fujii.release/_commits_/main/source/src/core/conformation/Conformation.cc:829\n[ ERROR ] UtilityExitException\nERROR: Conformation: fold_tree nres should match conformation nres. conformation nres: 7 fold_tree nres: 5\n\n",
     "output_type": "error",
     "traceback": [
      "\u001b[0;31m---------------------------------------------------------------------------\u001b[0m",
      "\u001b[0;31mRuntimeError\u001b[0m                              Traceback (most recent call last)",
      "\u001b[0;32m<ipython-input-30-cb53977f0fef>\u001b[0m in \u001b[0;36m<module>\u001b[0;34m\u001b[0m\n\u001b[0;32m----> 1\u001b[0;31m \u001b[0mseq_pose\u001b[0m\u001b[0;34m.\u001b[0m\u001b[0mfold_tree\u001b[0m\u001b[0;34m(\u001b[0m\u001b[0mft\u001b[0m\u001b[0;34m)\u001b[0m \u001b[0;31m#更新pose的fold_tree\u001b[0m\u001b[0;34m\u001b[0m\u001b[0;34m\u001b[0m\u001b[0m\n\u001b[0m",
      "\u001b[0;31mRuntimeError\u001b[0m: \n\nFile: /Volumes/MacintoshHD3/benchmark/W.fujii.release/rosetta.Fujii.release/_commits_/main/source/src/core/conformation/Conformation.cc:829\n[ ERROR ] UtilityExitException\nERROR: Conformation: fold_tree nres should match conformation nres. conformation nres: 7 fold_tree nres: 5\n\n"
     ]
    }
   ],
   "source": [
    "seq_pose.fold_tree(ft) #更新pose的fold_tree"
   ]
  },
  {
   "cell_type": "markdown",
   "id": "wicked-buddy",
   "metadata": {},
   "source": [
    "运行结果表示，foldtree中必须完整定义整个pose的所有氨基酸上下游关系时，才是一个完整的tree！"
   ]
  },
  {
   "cell_type": "code",
   "execution_count": 31,
   "id": "immune-habitat",
   "metadata": {},
   "outputs": [
    {
     "data": {
      "text/plain": [
       "True"
      ]
     },
     "execution_count": 31,
     "metadata": {},
     "output_type": "execute_result"
    }
   ],
   "source": [
    "# 完整定义试试:\n",
    "ft = FoldTree() #设置一个空的foldtree对象\n",
    "ft.add_edge(5, 1, -1)\n",
    "ft.add_edge(5, 7, -1)\n",
    "ft.check_fold_tree()  # 检查foldtree的有效性;"
   ]
  },
  {
   "cell_type": "code",
   "execution_count": 33,
   "id": "serious-filename",
   "metadata": {},
   "outputs": [
    {
     "name": "stdout",
     "output_type": "stream",
     "text": [
      "FOLD_TREE  EDGE 5 1 -1  EDGE 5 7 -1 \n"
     ]
    }
   ],
   "source": [
    "seq_pose.fold_tree(ft) #更新pose的fold_tree\n",
    "print(seq_pose.fold_tree())"
   ]
  },
  {
   "cell_type": "markdown",
   "id": "spare-deputy",
   "metadata": {},
   "source": [
    "#### FoldTree的顺序性"
   ]
  },
  {
   "cell_type": "markdown",
   "id": "nominated-stream",
   "metadata": {},
   "source": [
    "在FoldTree中,Start和End字段是顺序敏感的，包括N->C顺序以及C->N顺序。不同顺序，代表EDGE内氨基酸所对应的上下游关系不同。"
   ]
  },
  {
   "cell_type": "markdown",
   "id": "overhead-simple",
   "metadata": {},
   "source": [
    "还是以原本的的五肽为例，原本是以N-C的顺序来进行排列的。我们将其人为修改为C-N后，由于上下游的改变，修改二面角后构象造成的变化也不再相同"
   ]
  },
  {
   "cell_type": "code",
   "execution_count": 12,
   "id": "thorough-justice",
   "metadata": {},
   "outputs": [
    {
     "name": "stdout",
     "output_type": "stream",
     "text": [
      "The Fold Tree of the pose:\n",
      " FOLD_TREE  EDGE 1 5 -1 \n"
     ]
    }
   ],
   "source": [
    "#观察原本五肽的FoldTree\n",
    "pose = pose_from_sequence('KPALN') # 根据一个序列得到一个五肽序列的pose\n",
    "pose.dump_pdb('./data/example_5_1.pdb') #保存五肽的构象\n",
    "print(\"The Fold Tree of the pose:\\n\", pose.fold_tree()) # 输出该pose的FoldTree"
   ]
  },
  {
   "cell_type": "code",
   "execution_count": 13,
   "id": "fourth-camel",
   "metadata": {},
   "outputs": [
    {
     "name": "stdout",
     "output_type": "stream",
     "text": [
      "FOLD_TREE  EDGE 5 1 -1 \n"
     ]
    }
   ],
   "source": [
    "# 设置一个foldtree对象的实例，并将它读回pose中更新foldtree\n",
    "ft = FoldTree() #设置一个空的foldtree对象\n",
    "ft.add_edge(5, 1, -1) #增加一个5号残基到1号残基的共价连接的edge\n",
    "pose.fold_tree(ft) #更新pose的fold_tree\n",
    "print(pose.fold_tree()) #输出foldtree"
   ]
  },
  {
   "cell_type": "code",
   "execution_count": 14,
   "id": "latin-croatia",
   "metadata": {},
   "outputs": [
    {
     "data": {
      "text/plain": [
       "True"
      ]
     },
     "execution_count": 14,
     "metadata": {},
     "output_type": "execute_result"
    }
   ],
   "source": [
    "pose.set_phi(3,70) #更改肽链的3号残基的phi角\n",
    "pose.dump_pdb('./data/example_5_1_change.pdb') #保存更改后的五肽的构象"
   ]
  },
  {
   "cell_type": "markdown",
   "id": "paperback-notification",
   "metadata": {},
   "source": [
    "<img src=\"./imgs/foldtree_sequence.png\" width = \"600\" height = \"300\" align=center /> "
   ]
  },
  {
   "cell_type": "markdown",
   "id": "average-machine",
   "metadata": {},
   "source": [
    "如图，黄色的是初始的五肽，蓝色的是原本的多肽在修改3号残基的phi角后的多肽构象，可以发现出现构象改变的是4、5号残基；而在修改该多肽的FoldTree为从5到1的顺序后，发生构象变化的就是1、2号残基。而这，就是foldtree的顺序性，即在改变选定残基的构象时，随之而改变的只有选定残基下游的氨基酸的构象"
   ]
  },
  {
   "cell_type": "markdown",
   "id": "sunset-procurement",
   "metadata": {
    "tags": []
   },
   "source": [
    "#### 进阶思考:\n",
    "\n",
    "如图所示，图中的多肽按照氨基酸的顺序贴上了标签来进行表示。当想要更改3号残基的二面角(psi角)时，那些Edge的坐标会发生变化？\n",
    "\n",
    "<center><img src=\"./imgs/foldtree.jpg\" width = \"600\" height = \"300\" align=center /> </center>"
   ]
  },
  {
   "cell_type": "code",
   "execution_count": null,
   "id": "heard-curtis",
   "metadata": {},
   "outputs": [],
   "source": []
  }
 ],
 "metadata": {
  "kernelspec": {
   "display_name": "Python 3",
   "language": "python",
   "name": "python3"
  },
  "language_info": {
   "codemirror_mode": {
    "name": "ipython",
    "version": 3
   },
   "file_extension": ".py",
   "mimetype": "text/x-python",
   "name": "python",
   "nbconvert_exporter": "python",
   "pygments_lexer": "ipython3",
   "version": "3.6.12"
  },
  "toc": {
   "base_numbering": 1,
   "nav_menu": {},
   "number_sections": true,
   "sideBar": true,
   "skip_h1_title": false,
   "title_cell": "Table of Contents",
   "title_sidebar": "Contents",
   "toc_cell": false,
   "toc_position": {
    "height": "calc(100% - 180px)",
    "left": "10px",
    "top": "150px",
    "width": "182px"
   },
   "toc_section_display": true,
   "toc_window_display": true
  }
 },
 "nbformat": 4,
 "nbformat_minor": 5
}
