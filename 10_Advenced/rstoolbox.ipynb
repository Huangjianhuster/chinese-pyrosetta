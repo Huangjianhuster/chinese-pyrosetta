{
 "cells": [
  {
   "cell_type": "markdown",
   "id": "pointed-vessel",
   "metadata": {},
   "source": [
    "# rstoolbox & SilentFiles\n",
    "\n",
    "@Author: 吴炜坤\n",
    "\n",
    "@email：weikun.wu@xtalpi.com/weikunwu@163.com"
   ]
  },
  {
   "cell_type": "markdown",
   "id": "different-trout",
   "metadata": {},
   "source": [
    "rstoolbox是由RosettaCommon社区开发者jaumebonet开发的一款专门用于分析Rosett Silent文件的工具包。他可以以pandas的DataFrame的形式对Silent文件中的数据进行提取，使用其中的一些API可以非常方便地进行分析和作图。"
   ]
  },
  {
   "cell_type": "markdown",
   "id": "metallic-rocket",
   "metadata": {},
   "source": [
    "> github: https://github.com/jaumebonet/RosettaSilentToolbox\n",
    "\n",
    "> doc: http://jaumebonet.cat/RosettaSilentToolbox"
   ]
  },
  {
   "cell_type": "markdown",
   "id": "green-separation",
   "metadata": {},
   "source": [
    "### 一、安装"
   ]
  },
  {
   "cell_type": "markdown",
   "id": "unexpected-benjamin",
   "metadata": {},
   "source": [
    "命令解决:\n",
    "```\n",
    "pip install rstoolbox\n",
    "```"
   ]
  },
  {
   "cell_type": "markdown",
   "id": "experimental-philip",
   "metadata": {},
   "source": [
    "配置环境: 在\\$HOME 目录下创建.rstoolbox.cfg文件。\n",
    "```\n",
    "cd ~\n",
    "vi ~/.rstoolbox.cfg\n",
    "```"
   ]
  },
  {
   "cell_type": "markdown",
   "id": "correct-vegetable",
   "metadata": {},
   "source": [
    ".rstoolbox.cfg文件中的内容:\n",
    "```\n",
    "rosetta:\n",
    "  compilation: macosclangrelease\n",
    "  path: /Volumes/MiniTwo/bin/Rosetta/main/source/bin/\n",
    "system:\n",
    "  output: ./\n",
    "  overwrite: false\n",
    "```"
   ]
  },
  {
   "cell_type": "markdown",
   "id": "dried-reviewer",
   "metadata": {},
   "source": [
    "关键设置:\n",
    "- compilation: rosetta app的后缀名\n",
    "- path: rosetta app所处的bin文件夹"
   ]
  },
  {
   "cell_type": "code",
   "execution_count": 1,
   "id": "enclosed-marking",
   "metadata": {},
   "outputs": [
    {
     "name": "stdout",
     "output_type": "stream",
     "text": [
      "PyRosetta-4 2020 [Rosetta PyRosetta4.conda.mac.cxx11thread.serialization.python36.Release 2020.50+release.1295438cd4bd2be39c9dbbfab8db669ab62415ab 2020-12-12T00:30:01] retrieved from: http://www.pyrosetta.org\n",
      "(C) Copyright Rosetta Commons Member Institutions. Created in JHU by Sergey Lyskov and PyRosetta Team.\n",
      "\u001b[0mcore.init: {0} \u001b[0mChecking for fconfig files in pwd and ./rosetta/flags\n",
      "\u001b[0mcore.init: {0} \u001b[0mRosetta version: PyRosetta4.conda.mac.cxx11thread.serialization.python36.Release r274 2020.50+release.1295438cd4b 1295438cd4bd2be39c9dbbfab8db669ab62415ab http://www.pyrosetta.org 2020-12-12T00:30:01\n",
      "\u001b[0mcore.init: {0} \u001b[0mcommand: PyRosetta -ex1 -ex2aro -database /opt/miniconda3/lib/python3.6/site-packages/pyrosetta/database\n",
      "\u001b[0mbasic.random.init_random_generator: {0} \u001b[0m'RNG device' seed mode, using '/dev/urandom', seed=1375129666 seed_offset=0 real_seed=1375129666 thread_index=0\n",
      "\u001b[0mbasic.random.init_random_generator: {0} \u001b[0mRandomGenerator:init: Normal mode, seed=1375129666 RG_type=mt19937\n"
     ]
    }
   ],
   "source": [
    "# 初始化pyrosetta\n",
    "from pyrosetta import *\n",
    "init()"
   ]
  },
  {
   "cell_type": "markdown",
   "id": "ranging-shareware",
   "metadata": {},
   "source": [
    "### 二、SilentFiles文件的获取"
   ]
  },
  {
   "cell_type": "markdown",
   "id": "rubber-brook",
   "metadata": {},
   "source": [
    "在第一章节，我们曾经提及过如何从Pose中输出SilentFiles以及如何在Pose中添加额外的信息，同时SimpleMetrics中的信息也会被自动储存到SilentFiles文件中。所以一个标准的流程跑下来SilentFiles应该有着所有我们需要分析的数据。"
   ]
  },
  {
   "cell_type": "markdown",
   "id": "piano-friendly",
   "metadata": {},
   "source": [
    "复习一下输出Silent文件以及在Pose中添加额外的信息的方法:"
   ]
  },
  {
   "cell_type": "markdown",
   "id": "appreciated-trout",
   "metadata": {},
   "source": [
    "**以下的设计可能会耗时比较久，可以选择性跳过，结果文件已经储存在data文件夹下！**"
   ]
  },
  {
   "cell_type": "code",
   "execution_count": 1,
   "id": "sophisticated-wildlife",
   "metadata": {},
   "outputs": [
    {
     "name": "stdout",
     "output_type": "stream",
     "text": [
      "PyRosetta-4 2020 [Rosetta PyRosetta4.conda.mac.cxx11thread.serialization.python36.Release 2020.50+release.1295438cd4bd2be39c9dbbfab8db669ab62415ab 2020-12-12T00:30:01] retrieved from: http://www.pyrosetta.org\n",
      "(C) Copyright Rosetta Commons Member Institutions. Created in JHU by Sergey Lyskov and PyRosetta Team.\n",
      "\u001b[0mcore.init: {0} \u001b[0mChecking for fconfig files in pwd and ./rosetta/flags\n",
      "\u001b[0mcore.init: {0} \u001b[0mRosetta version: PyRosetta4.conda.mac.cxx11thread.serialization.python36.Release r274 2020.50+release.1295438cd4b 1295438cd4bd2be39c9dbbfab8db669ab62415ab http://www.pyrosetta.org 2020-12-12T00:30:01\n",
      "\u001b[0mcore.init: {0} \u001b[0mcommand: PyRosetta -database /opt/miniconda3/lib/python3.6/site-packages/pyrosetta/database\n",
      "\u001b[0mbasic.random.init_random_generator: {0} \u001b[0m'RNG device' seed mode, using '/dev/urandom', seed=-1913828734 seed_offset=0 real_seed=-1913828734 thread_index=0\n",
      "\u001b[0mbasic.random.init_random_generator: {0} \u001b[0mRandomGenerator:init: Normal mode, seed=-1913828734 RG_type=mt19937\n",
      "\u001b[0mcore.chemical.GlobalResidueTypeSet: {0} \u001b[0mFinished initializing fa_standard residue type set.  Created 985 residue types\n",
      "\u001b[0mcore.chemical.GlobalResidueTypeSet: {0} \u001b[0mTotal time to initialize 0.665005 seconds.\n",
      "\u001b[0mcore.import_pose.import_pose: {0} \u001b[0mFile './data/EHEE_rd4_0976.pdb' automatically determined to be of type PDB\n",
      "\u001b[0mcore.scoring.etable: {0} \u001b[0mStarting energy table calculation\n",
      "\u001b[0mcore.scoring.etable: {0} \u001b[0msmooth_etable: changing atr/rep split to bottom of energy well\n",
      "\u001b[0mcore.scoring.etable: {0} \u001b[0msmooth_etable: spline smoothing lj etables (maxdis = 6)\n",
      "\u001b[0mcore.scoring.etable: {0} \u001b[0msmooth_etable: spline smoothing solvation etables (max_dis = 6)\n",
      "\u001b[0mcore.scoring.etable: {0} \u001b[0mFinished calculating energy tables.\n",
      "\u001b[0mbasic.io.database: {0} \u001b[0mDatabase file opened: scoring/score_functions/hbonds/ref2015_params/HBPoly1D.csv\n",
      "\u001b[0mbasic.io.database: {0} \u001b[0mDatabase file opened: scoring/score_functions/hbonds/ref2015_params/HBFadeIntervals.csv\n",
      "\u001b[0mbasic.io.database: {0} \u001b[0mDatabase file opened: scoring/score_functions/hbonds/ref2015_params/HBEval.csv\n",
      "\u001b[0mbasic.io.database: {0} \u001b[0mDatabase file opened: scoring/score_functions/hbonds/ref2015_params/DonStrength.csv\n",
      "\u001b[0mbasic.io.database: {0} \u001b[0mDatabase file opened: scoring/score_functions/hbonds/ref2015_params/AccStrength.csv\n",
      "\u001b[0mbasic.io.database: {0} \u001b[0mDatabase file opened: scoring/score_functions/rama/fd/all.ramaProb\n",
      "\u001b[0mbasic.io.database: {0} \u001b[0mDatabase file opened: scoring/score_functions/rama/fd/prepro.ramaProb\n",
      "\u001b[0mbasic.io.database: {0} \u001b[0mDatabase file opened: scoring/score_functions/omega/omega_ppdep.all.txt\n",
      "\u001b[0mbasic.io.database: {0} \u001b[0mDatabase file opened: scoring/score_functions/omega/omega_ppdep.gly.txt\n",
      "\u001b[0mbasic.io.database: {0} \u001b[0mDatabase file opened: scoring/score_functions/omega/omega_ppdep.pro.txt\n",
      "\u001b[0mbasic.io.database: {0} \u001b[0mDatabase file opened: scoring/score_functions/omega/omega_ppdep.valile.txt\n",
      "\u001b[0mbasic.io.database: {0} \u001b[0mDatabase file opened: scoring/score_functions/P_AA_pp/P_AA\n",
      "\u001b[0mbasic.io.database: {0} \u001b[0mDatabase file opened: scoring/score_functions/P_AA_pp/P_AA_n\n",
      "\u001b[0mcore.scoring.P_AA: {0} \u001b[0mshapovalov_lib::shap_p_aa_pp_smooth_level of 1( aka low_smooth ) got activated.\n",
      "\u001b[0mbasic.io.database: {0} \u001b[0mDatabase file opened: scoring/score_functions/P_AA_pp/shapovalov/10deg/kappa131/a20.prop\n",
      "\u001b[0mprotocols.relax.RelaxScriptManager: {0} \u001b[0mReading relax scripts list from database.\n",
      "\u001b[0mprotocols.relax.RelaxScriptManager: {0} \u001b[0mLooking for MonomerRelax2019.txt\n",
      "\u001b[0mprotocols.relax.RelaxScriptManager: {0} \u001b[0m================== Reading script file: /opt/miniconda3/lib/python3.6/site-packages/pyrosetta/database/sampling/relax_scripts/MonomerRelax2019.txt ==================\n",
      "\u001b[0mprotocols.relax.RelaxScriptManager: {0} \u001b[0mrepeat %%nrepeats%%\n",
      "\u001b[0mprotocols.relax.RelaxScriptManager: {0} \u001b[0mcoord_cst_weight 1.0\n",
      "\u001b[0mprotocols.relax.RelaxScriptManager: {0} \u001b[0mscale:fa_rep 0.040\n",
      "\u001b[0mprotocols.relax.RelaxScriptManager: {0} \u001b[0mrepack\n",
      "\u001b[0mprotocols.relax.RelaxScriptManager: {0} \u001b[0mscale:fa_rep 0.051\n",
      "\u001b[0mprotocols.relax.RelaxScriptManager: {0} \u001b[0mmin 0.01\n",
      "\u001b[0mprotocols.relax.RelaxScriptManager: {0} \u001b[0mcoord_cst_weight 0.5\n",
      "\u001b[0mprotocols.relax.RelaxScriptManager: {0} \u001b[0mscale:fa_rep 0.265\n",
      "\u001b[0mprotocols.relax.RelaxScriptManager: {0} \u001b[0mrepack\n",
      "\u001b[0mprotocols.relax.RelaxScriptManager: {0} \u001b[0mscale:fa_rep 0.280\n",
      "\u001b[0mprotocols.relax.RelaxScriptManager: {0} \u001b[0mmin 0.01\n",
      "\u001b[0mprotocols.relax.RelaxScriptManager: {0} \u001b[0mcoord_cst_weight 0.0\n",
      "\u001b[0mprotocols.relax.RelaxScriptManager: {0} \u001b[0mscale:fa_rep 0.559\n",
      "\u001b[0mprotocols.relax.RelaxScriptManager: {0} \u001b[0mrepack\n",
      "\u001b[0mprotocols.relax.RelaxScriptManager: {0} \u001b[0mscale:fa_rep 0.581\n",
      "\u001b[0mprotocols.relax.RelaxScriptManager: {0} \u001b[0mmin 0.01\n",
      "\u001b[0mprotocols.relax.RelaxScriptManager: {0} \u001b[0mcoord_cst_weight 0.0\n",
      "\u001b[0mprotocols.relax.RelaxScriptManager: {0} \u001b[0mscale:fa_rep 1\n",
      "\u001b[0mprotocols.relax.RelaxScriptManager: {0} \u001b[0mrepack\n",
      "\u001b[0mprotocols.relax.RelaxScriptManager: {0} \u001b[0mmin 0.00001\n",
      "\u001b[0mprotocols.relax.RelaxScriptManager: {0} \u001b[0maccept_to_best\n",
      "\u001b[0mprotocols.relax.RelaxScriptManager: {0} \u001b[0mendrepeat\n"
     ]
    }
   ],
   "source": [
    "# 举例使用FastDesign快速设计一些序列和结构:\n",
    "from pyrosetta import pose_from_pdb, init, create_score_function\n",
    "from pyrosetta.rosetta.protocols.denovo_design.movers import FastDesign\n",
    "from pyrosetta.rosetta.core.pack.task import TaskFactory\n",
    "from pyrosetta.rosetta.core.pose import Pose\n",
    "from pyrosetta.io import poses_to_silent\n",
    "\n",
    "# init\n",
    "init('')\n",
    "\n",
    "# load pose\n",
    "starting_pose = pose_from_pdb('./data/EHEE_rd4_0976.pdb')\n",
    "ref2015 = create_score_function('ref2015')\n",
    "design_tf = TaskFactory()\n",
    "\n",
    "# setup FastDesign\n",
    "fastdesign = FastDesign(ref2015, 1)\n",
    "fastdesign.set_default_movemap() #使用默认的Movemap()\n",
    "fastdesign.set_task_factory(design_tf)\n",
    "\n",
    "# design for 10 times: code for design pose.\n",
    "# for i in range(10):\n",
    "#     design_pose = Pose()\n",
    "#     design_pose.assign(starting_pose)  # assign pose\n",
    "#     fastdesign.apply(design_pose)  ## apply design\n",
    "#     # output to silent file;\n",
    "#     poses_to_silent(fastdesign, './data/design_result.silent')"
   ]
  },
  {
   "cell_type": "markdown",
   "id": "healthy-hospital",
   "metadata": {},
   "source": [
    "### 三、使用rstoolbox做数据分析"
   ]
  },
  {
   "cell_type": "markdown",
   "id": "persistent-equality",
   "metadata": {},
   "source": [
    "上述我们已经通过分析计算了10条蛋白质的序列和结构，目前我们需要对输出的Silent文件进行分析，从中提取需要的数据并作图展示。\n",
    "rstoolbox主要可用于:\n",
    "- 分析序列profile\n",
    "- 分析储存在silent文件中的score/其他数据，作图展示\n",
    "- 比较不同参数设计的结果性质分布\n",
    "- 分析、筛选以及导出满足需求的序列和结构"
   ]
  },
  {
   "cell_type": "code",
   "execution_count": null,
   "id": "certain-search",
   "metadata": {},
   "outputs": [],
   "source": []
  }
 ],
 "metadata": {
  "kernelspec": {
   "display_name": "Python 3",
   "language": "python",
   "name": "python3"
  },
  "language_info": {
   "codemirror_mode": {
    "name": "ipython",
    "version": 3
   },
   "file_extension": ".py",
   "mimetype": "text/x-python",
   "name": "python",
   "nbconvert_exporter": "python",
   "pygments_lexer": "ipython3",
   "version": "3.6.12"
  }
 },
 "nbformat": 4,
 "nbformat_minor": 5
}
