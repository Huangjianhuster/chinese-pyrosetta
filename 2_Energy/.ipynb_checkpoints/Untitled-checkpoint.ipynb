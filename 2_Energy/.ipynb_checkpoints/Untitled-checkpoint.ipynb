{
 "cells": [
  {
   "cell_type": "markdown",
   "metadata": {},
   "source": [
    "# Constraint入门\n",
    "\n",
    "@Author: Jian Huang\n",
    "\n",
    "@email: jian.huang@xtalpi.com\n",
    "\n",
    "Main reference:\n",
    "https://www.rosettacommons.org/demos/latest/tutorials/Constraints_Tutorial/Constraints\n",
    "https://zhuanlan.zhihu.com/p/58897635"
   ]
  },
  {
   "cell_type": "markdown",
   "metadata": {},
   "source": [
    "## 1. Introduction\n"
   ]
  },
  {
   "cell_type": "markdown",
   "metadata": {},
   "source": [
    "*首先让我们考虑一个实际的应用场景：当我们在进行某一个蛋白质的构象优化的时候，我们通过某些实验数据表征了解到某两个残基在空间中需要保持足够近的距离（依次满足形成某些相互作用，或比如二硫键），此时，我们应该如何在rosetta中考虑这种“额外的实验数据”呢？*\n",
    "\n",
    "答案就是利用rosetta中的Constraint，对体系施加限制。\n",
    "\n",
    "当我们在具备一定实验数据基础或特定生物体系的先验条件后，简单使用rosetta中默认的打分函数不一定能很好地、针对性的捕获到这种“考量”。\n",
    "\n",
    "Constraint（限制）是一种常用来对打分函数的修饰，以更加便捷考虑这些额外的实验信息。本质而言，constraint是一种对打分函数的附加项，基于实验数据基础，人为定义施加在原有打分函数上偏向势。\n",
    "\n",
    "Rosetta中Constraint的工作原理分为三个步骤：\n",
    "1. 计算出给定构象下的某些测量值（比如，某键长、键角、局域电荷值等等）；\n",
    "2. 定义一个合适的惩罚函数，该惩罚函数将决定测量值的优劣，从而给与罚分。（比如，将最理想键长作为某二次函数的极小值点，任何其他的偏离该理想值的键长都将给予的罚分值，如下图）\n",
    "3. 在上一步的罚分的基础上，乘以一个权重，并直接加到Rosetta的打分函数中\n",
    "\n",
    "<center><img src=\"./img/quadratic_punishment.jpg\" width=\"300\" height=\"300\" align=center /><center/>\n",
    "    \n",
    "我们可以预想，在原来的能量函数上添加了constraint后，"
   ]
  },
  {
   "cell_type": "code",
   "execution_count": null,
   "metadata": {},
   "outputs": [],
   "source": []
  }
 ],
 "metadata": {
  "kernelspec": {
   "display_name": "Python 3",
   "language": "python",
   "name": "python3"
  },
  "language_info": {
   "codemirror_mode": {
    "name": "ipython",
    "version": 3
   },
   "file_extension": ".py",
   "mimetype": "text/x-python",
   "name": "python",
   "nbconvert_exporter": "python",
   "pygments_lexer": "ipython3",
   "version": "3.6.10"
  }
 },
 "nbformat": 4,
 "nbformat_minor": 4
}
