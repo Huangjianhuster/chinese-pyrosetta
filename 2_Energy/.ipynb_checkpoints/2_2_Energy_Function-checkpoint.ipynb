{
 "cells": [
  {
   "cell_type": "markdown",
   "metadata": {},
   "source": [
    "# 打分（能量）函数和能量项 -- Score Function & Energy Terms\n",
    "\n",
    "## Introduction\n",
    "\n",
    "这一章的内容是Rosetta中至关重要的核心 -- **能量函数**和**能量项**\n",
    "\n",
    "我们知道，Rosetta擅长进行生物大分子蛋白的构象优化，快速在广阔的构象空间中，通过**蒙特卡洛-模拟退火**的核心算法，搜索较优、能量较低的稳定构象。\n",
    "\n",
    "这里对其过程进行简要介绍。在构象能量优化的过程中，我们首先必须要有对当前构象进行评价的**能量函数**，也称为**打分函数**。能量函数中会对该构象的能量进行数值评价，在三维空间中的由各个原子笛卡尔坐标构成的构象信息，其能量既包含了原子之间成键键能、键角、二面角等“*bonded energy terms*”，也需要包含描述非共价相互作用的其他能量项“*non-bonded terms*”（比如氢键、Lennard-Jones相互作用、静电作用等）。\n",
    "\n",
    "可以看到，一个能量函数在构象优化过程中至关重要，不管是该能量函数的各个能量项的描述形式还是其中的参数设置，对我们实际进行构象优化有直接的影响。\n",
    "\n",
    "***\n",
    "\n",
    "可以想象，当我们使用Rosetta对构象进行了某些随机操作，对应的可以用选取的能量函数（默认的能量函数是REF2015）计算出各个能量项的值和他们的加和值得到的总能量值。在Rosetta中这些随机操作可以看作在广阔的构象空间中漫步，目的是为了走到能量面的“洼地”或“山谷”，这种漫步的过程就涉及到蒙特卡洛-模拟退火算法。\n",
    "\n",
    "![title](./img/Monte-Carlo-algorithm.jpg)\n",
    "\n",
    "\n",
    "**蒙特卡洛-模拟退火算法**可以简单理解为，当我们对构象进行随机操作后，发现计算的总能量值比未操作前低，则以百分之一百的概率接受该构象；相反，当操作后构象能量值高于未操作前的构象能量值，以一定的概率接受该操作（尽管能量升高了！）。而这种概率由一个叫“蒙特卡洛准则，Metropolis criterion”。其数学表示如下：\n",
    "\n",
    "![title](./img/Metropolis_Criterion.jpg)\n",
    "\n",
    "\n",
    "***\n",
    "\n",
    "*思考1：为什么要使用蒙特卡洛准则，它对于构象搜索有什么独特的优势？*\n",
    "\n",
    "\n",
    "\n",
    "想了解更多，推荐阅读：\n",
    "https://www.cnblogs.com/haimishasha/p/9795592.html\n",
    "https://zhuanlan.zhihu.com/p/37121528"
   ]
  },
  {
   "cell_type": "code",
   "execution_count": null,
   "metadata": {},
   "outputs": [],
   "source": []
  }
 ],
 "metadata": {
  "kernelspec": {
   "display_name": "Python 3",
   "language": "python",
   "name": "python3"
  },
  "language_info": {
   "codemirror_mode": {
    "name": "ipython",
    "version": 3
   },
   "file_extension": ".py",
   "mimetype": "text/x-python",
   "name": "python",
   "nbconvert_exporter": "python",
   "pygments_lexer": "ipython3",
   "version": "3.6.10"
  }
 },
 "nbformat": 4,
 "nbformat_minor": 4
}
