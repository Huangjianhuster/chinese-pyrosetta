{
 "cells": [
  {
   "cell_type": "markdown",
   "metadata": {},
   "source": [
    "# Abstract: Pose\n",
    "\n",
    "@Author: 吴炜坤\n",
    "\n",
    "@email：weikun.wu@xtalpi.com weikunwu@163.com"
   ]
  },
  {
   "cell_type": "markdown",
   "metadata": {},
   "source": [
    "蛋白质是大型生物分子，它由一个或多个由α-氨基酸残基组成的长链条组成。α-氨基酸分子呈线性排列，相邻α-氨基酸残基的羧基和氨基通过肽键连接在一起。\n",
    "蛋白质的分子结构可划分为四级，以描述其不同的方面：\n",
    "- 蛋白质一级结构：组成蛋白质多肽链的线性氨基酸序列。\n",
    "- 蛋白质二级结构：依靠不同氨基酸之间的C=O和N-H基团间的氢键形成的稳定结构，主要为α螺旋和β折叠。\n",
    "- 蛋白质三级结构：通过多个二级结构元素在三维空间的排列所形成的一个蛋白质分子的三维结构。\n",
    "- 蛋白质四级结构：用于描述由不同多肽链（亚基）间相互作用形成具有功能的蛋白质复合物分子。\n",
    "\n",
    "<center><img src=\"./img/pose.png\" width = \"800\" height = \"200\" align=center /></center>\n"
   ]
  },
  {
   "cell_type": "markdown",
   "metadata": {},
   "source": [
    "在这个章节中，你即将会学习到以下的一些信息：\n",
    "- Pose & Structure IO\n",
    "- PDBinfo & Pose\n",
    "- Atom、Residue & ResidueType\n",
    "- Conformation & Protein Geometry\n",
    "- Pose operating"
   ]
  },
  {
   "cell_type": "markdown",
   "metadata": {},
   "source": [
    "### 简介: Pose的组织构架\n",
    "因此如果要在计算机中建立一个蛋白质的结构模型，就清楚地描述每一个原子的信息。在Rosetta中，Pose是管理蛋白质信息的中心，可以描述蛋白质一到四级结构所有的信息。而且这些信息是分层管理的比如:\n",
    "\n",
    "- Conformation: 负责管理原子类型(AtomType)、氨基酸类型(ResidueType)、氨基酸的原子坐标(xyz)、氨基酸连接方式的定义(FoldTree/AtomTree)等，这部分构成了蛋白质构象的所有物理信息。(最重要)\n",
    "- Energy: 负责管理氨基酸直接的能量计算所需的信息(EnergyGraph/energies)\n",
    "- ConstraintSet: 负责管理原子间的约束信息(constraints)\n",
    "- DataCache: 负责管理用户自定义的信息\n",
    "\n",
    "分层式管理使得Pose的信息修改和更新变得容易。\n",
    "\n",
    "除此以外，还有些外部对象如PDBinfo也负责转换和储存Pose与PDB之间的信息变换。\n",
    "\n",
    "以下是一个Pose中的架构的示意图：\n",
    "\n",
    "<center><img src=\"./img/PoseObject.png\" width = \"800\" height = \"200\" align=center /></center>"
   ]
  },
  {
   "cell_type": "markdown",
   "metadata": {},
   "source": []
  }
 ],
 "metadata": {
  "kernelspec": {
   "display_name": "Python 3",
   "language": "python",
   "name": "python3"
  },
  "language_info": {
   "codemirror_mode": {
    "name": "ipython",
    "version": 3
   },
   "file_extension": ".py",
   "mimetype": "text/x-python",
   "name": "python",
   "nbconvert_exporter": "python",
   "pygments_lexer": "ipython3",
   "version": "3.6.12"
  }
 },
 "nbformat": 4,
 "nbformat_minor": 4
}
